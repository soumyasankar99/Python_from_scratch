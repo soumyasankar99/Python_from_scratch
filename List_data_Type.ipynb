{
  "nbformat": 4,
  "nbformat_minor": 0,
  "metadata": {
    "colab": {
      "provenance": [],
      "authorship_tag": "ABX9TyPoGovW4zweXVCXjhi1LFQi",
      "include_colab_link": true
    },
    "kernelspec": {
      "name": "python3",
      "display_name": "Python 3"
    },
    "language_info": {
      "name": "python"
    }
  },
  "cells": [
    {
      "cell_type": "markdown",
      "metadata": {
        "id": "view-in-github",
        "colab_type": "text"
      },
      "source": [
        "<a href=\"https://colab.research.google.com/github/soumyasankar99/Python_from_scratch/blob/main/List_data_Type.ipynb\" target=\"_parent\"><img src=\"https://colab.research.google.com/assets/colab-badge.svg\" alt=\"Open In Colab\"/></a>"
      ]
    },
    {
      "cell_type": "markdown",
      "source": [
        "**Lists**\n",
        "\n",
        "There are four collection data types in python :\n",
        "\n",
        "1) List: List is a collection which is\n",
        "  ordered and changable (modifiable or mutable) . Allows duplicate members.\n",
        "\n",
        "2) Tuple: Tuple is a collection which is ordered and immutable in nature. Its also allows duplicate members.\n",
        "\n",
        "3) Set: Set is a collection which does not have a proper order ,un-indexed and completely immutable but we can add net items (members) to the set. Here duplication is not allowed.\n",
        "\n",
        "4) Dictionary : It is a collection unordered , modeifiable and indexed. No duplication is allowed here (no duplicate members).\n",
        "\n",
        "A list is a collection of different data types which is ordered and modifiable (muatble).\n",
        "\n",
        "It can be empty or can be contain different data types as items .\n",
        "\n",
        "\n",
        "\n"
      ],
      "metadata": {
        "id": "yC4uunCM4vB8"
      }
    },
    {
      "cell_type": "markdown",
      "source": [
        "# How to Create  a list:\n",
        "\n",
        "in python we can built / create lists in two ways:\n",
        "\n",
        "a)Using list built_in function\n",
        "\n",
        "b)Using square brackets[ ]"
      ],
      "metadata": {
        "id": "6IRWGe2z7odA"
      }
    },
    {
      "cell_type": "code",
      "source": [
        "#Using list built_in function\n",
        "#syntax\n",
        "lst = list()"
      ],
      "metadata": {
        "id": "bQcharbu7n5G"
      },
      "execution_count": 2,
      "outputs": []
    },
    {
      "cell_type": "code",
      "execution_count": 3,
      "metadata": {
        "colab": {
          "base_uri": "https://localhost:8080/"
        },
        "id": "jDuo5DXe4uNT",
        "outputId": "a6d4a5ef-bf24-4b42-e63d-3a4c9939d25a"
      },
      "outputs": [
        {
          "output_type": "stream",
          "name": "stdout",
          "text": [
            "[]\n"
          ]
        }
      ],
      "source": [
        "l1=list() #this is an empty list , no items were assigned\n",
        "print(l1)"
      ]
    },
    {
      "cell_type": "code",
      "source": [
        "print(len(l1))"
      ],
      "metadata": {
        "colab": {
          "base_uri": "https://localhost:8080/"
        },
        "id": "lr8s-gIP7my2",
        "outputId": "b2ff23eb-b517-4590-900a-a269edfe897a"
      },
      "execution_count": 4,
      "outputs": [
        {
          "output_type": "stream",
          "name": "stdout",
          "text": [
            "0\n"
          ]
        }
      ]
    },
    {
      "cell_type": "code",
      "source": [
        "#Using square brackets []\n",
        "#syntax\n",
        "\n",
        "lst = []\n",
        "\n",
        "l2 = [] #this is an empty list, no item in list\n",
        "print(len(l2))"
      ],
      "metadata": {
        "colab": {
          "base_uri": "https://localhost:8080/"
        },
        "id": "VO_zkF8o7m5S",
        "outputId": "24c1ffa8-7a19-492d-f925-6553d02cc8f9"
      },
      "execution_count": 5,
      "outputs": [
        {
          "output_type": "stream",
          "name": "stdout",
          "text": [
            "0\n"
          ]
        }
      ]
    },
    {
      "cell_type": "markdown",
      "source": [
        "Lists with values.\n"
      ],
      "metadata": {
        "id": "9ijQEBUv_JjZ"
      }
    },
    {
      "cell_type": "code",
      "source": [
        "names =['deba','soumya','Ramya','Krish','juddy']\n",
        "fruits = ['apple','orange','blueberries','mango','liche']\n",
        "top_cities = ['LA','singapor','NY','Tokiyo','London','Banglor','Paries']\n",
        "vegetables = [ 'potato','ladyfinger','cabbage','onion','pumpkin','carrot','tomato']\n"
      ],
      "metadata": {
        "id": "UAnp5XNI7m-f"
      },
      "execution_count": 6,
      "outputs": []
    },
    {
      "cell_type": "code",
      "source": [
        "#print the lists and its length\n",
        "\n",
        "print('Names:', names)\n",
        "print('No. of names:', len(names))\n",
        "print('Fruits:', fruits)\n",
        "print('Number of fruits:', len(fruits))\n",
        "print('TOP Cities:', top_cities)\n",
        "print('Number of Top Cities:', len(top_cities))\n",
        "print('Vgies:', vegetables)\n",
        "print('Number of Vegies:', len(vegetables))\n"
      ],
      "metadata": {
        "colab": {
          "base_uri": "https://localhost:8080/"
        },
        "id": "u2yY_-8m7hv_",
        "outputId": "5c69b3b0-ce96-40c2-88e5-27ba2529303d"
      },
      "execution_count": 7,
      "outputs": [
        {
          "output_type": "stream",
          "name": "stdout",
          "text": [
            "Names: ['deba', 'soumya', 'Ramya', 'Krish', 'juddy']\n",
            "No. of names: 5\n",
            "Fruits: ['apple', 'orange', 'blueberries', 'mango', 'liche']\n",
            "Number of fruits: 5\n",
            "TOP Cities: ['LA', 'singapor', 'NY', 'Tokiyo', 'London', 'Banglor', 'Paries']\n",
            "Number of Top Cities: 7\n",
            "Vgies: ['potato', 'ladyfinger', 'cabbage', 'onion', 'pumpkin', 'carrot', 'tomato']\n",
            "Number of Vegies: 7\n"
          ]
        }
      ]
    },
    {
      "cell_type": "markdown",
      "source": [
        "![list_sc_shot_1.png](data:image/png;base64,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)"
      ],
      "metadata": {
        "id": "ige9gRjL-1uh"
      }
    },
    {
      "cell_type": "markdown",
      "source": [
        "List can have different items. You can access it by just typing = List. --> (shift +tab)\n",
        "\n",
        "It have several methods like: append(),\n",
        " count(), sort(), pop(), insert(), remove(), reverse()  etc. just a few\n"
      ],
      "metadata": {
        "id": "usOH1eJoCKeZ"
      }
    },
    {
      "cell_type": "code",
      "source": [
        "# List can have different data types within\n",
        "lst =[ 'Soumya',24,True,{'country':'IND','city':'Jajpur','Home':'Lalbag'}]\n",
        "\n",
        "#this list contains different types of data\n",
        "\n",
        "#access the data\n",
        "print(lst)\n",
        "print(len(lst))\n",
        "print('List items:',lst)\n",
        "print('Length of lst:',len(lst))"
      ],
      "metadata": {
        "colab": {
          "base_uri": "https://localhost:8080/"
        },
        "id": "kwsB7u8g_XpS",
        "outputId": "f7bcb0f4-ca47-4905-a2fe-b35c2a5047f4"
      },
      "execution_count": 8,
      "outputs": [
        {
          "output_type": "stream",
          "name": "stdout",
          "text": [
            "['Soumya', 24, True, {'country': 'IND', 'city': 'Jajpur', 'Home': 'Lalbag'}]\n",
            "4\n",
            "List items: ['Soumya', 24, True, {'country': 'IND', 'city': 'Jajpur', 'Home': 'Lalbag'}]\n",
            "Length of lst: 4\n"
          ]
        }
      ]
    },
    {
      "cell_type": "markdown",
      "source": [
        "Accessing List Items Using Positive Indexing"
      ],
      "metadata": {
        "id": "A3aLqNUAFds9"
      }
    },
    {
      "cell_type": "code",
      "source": [
        "lst =[ 'Soumya',24,True,{'country':'IND','city':'Jajpur','Home':'Lalbag'}]\n",
        "\n",
        "\"\"\"\n",
        "\n",
        "We can access each items in this list = lst using their index. A list index starts from 0.\n",
        "\n",
        "like Soumya --> o #index\n",
        "         24 --> 1 #index\n",
        "         True--> 2 #index\n",
        "         {'country':'IND','city':'Jajpur','Home':'Lalbag'} --> 3 #index\n",
        "\n",
        "\"\"\""
      ],
      "metadata": {
        "colab": {
          "base_uri": "https://localhost:8080/",
          "height": 52
        },
        "id": "-uxh1kpi_XwO",
        "outputId": "c85f3595-877e-4461-d17c-c13463a3d00e"
      },
      "execution_count": 9,
      "outputs": [
        {
          "output_type": "execute_result",
          "data": {
            "text/plain": [
              "\"\\n\\nWe can access each items in this list = lst using their index. A list index starts from 0.\\n\\nlike Soumya --> o #index\\n         24 --> 1 #index\\n         True--> 2 #index\\n         {'country':'IND','city':'Jajpur','Home':'Lalbag'} --> 3 #index \\n\\n\""
            ],
            "application/vnd.google.colaboratory.intrinsic+json": {
              "type": "string"
            }
          },
          "metadata": {},
          "execution_count": 9
        }
      ]
    },
    {
      "cell_type": "code",
      "source": [
        "lst"
      ],
      "metadata": {
        "colab": {
          "base_uri": "https://localhost:8080/"
        },
        "id": "U5q4FXmEFb3Z",
        "outputId": "34227e2d-9f64-4f7c-e875-6c487db7e7c6"
      },
      "execution_count": 10,
      "outputs": [
        {
          "output_type": "execute_result",
          "data": {
            "text/plain": [
              "['Soumya', 24, True, {'country': 'IND', 'city': 'Jajpur', 'Home': 'Lalbag'}]"
            ]
          },
          "metadata": {},
          "execution_count": 10
        }
      ]
    },
    {
      "cell_type": "code",
      "source": [
        "first_index=lst[0] #accessing first item in the list\n",
        "print(first_index)"
      ],
      "metadata": {
        "colab": {
          "base_uri": "https://localhost:8080/"
        },
        "id": "Nzm9jZ3VFb0W",
        "outputId": "4121e565-86ab-4857-f3d8-c3c72f1e347b"
      },
      "execution_count": 11,
      "outputs": [
        {
          "output_type": "stream",
          "name": "stdout",
          "text": [
            "Soumya\n"
          ]
        }
      ]
    },
    {
      "cell_type": "code",
      "source": [
        "sec2_index=lst[1] #accessing second item in the list\n",
        "print(sec2_index)"
      ],
      "metadata": {
        "colab": {
          "base_uri": "https://localhost:8080/"
        },
        "id": "Oapcj8KvFbyp",
        "outputId": "d9e6086c-57fb-4085-a0ea-febac3cf6806"
      },
      "execution_count": 12,
      "outputs": [
        {
          "output_type": "stream",
          "name": "stdout",
          "text": [
            "24\n"
          ]
        }
      ]
    },
    {
      "cell_type": "code",
      "source": [
        "third2_index=lst[2] #accessing 3rd item in the list\n",
        "print(third2_index)"
      ],
      "metadata": {
        "colab": {
          "base_uri": "https://localhost:8080/"
        },
        "id": "9ATbfzSXFbuX",
        "outputId": "252e2908-804e-4cd3-f4e8-8f69b05907c2"
      },
      "execution_count": 13,
      "outputs": [
        {
          "output_type": "stream",
          "name": "stdout",
          "text": [
            "True\n"
          ]
        }
      ]
    },
    {
      "cell_type": "code",
      "source": [
        "fourth_index=lst[3] #accessing 4th item in the list\n",
        "print(fourth_index)"
      ],
      "metadata": {
        "colab": {
          "base_uri": "https://localhost:8080/"
        },
        "id": "QVL2BsLfFbqs",
        "outputId": "13c10e1b-9297-45e8-da6b-a8691bb8a7cf"
      },
      "execution_count": 14,
      "outputs": [
        {
          "output_type": "stream",
          "name": "stdout",
          "text": [
            "{'country': 'IND', 'city': 'Jajpur', 'Home': 'Lalbag'}\n"
          ]
        }
      ]
    },
    {
      "cell_type": "code",
      "source": [
        "# Last index\n",
        "last_index = len(lst)-1\n",
        "last_itm = lst[last_index]\n",
        "print(\"The last item in the given list:\",last_itm)"
      ],
      "metadata": {
        "colab": {
          "base_uri": "https://localhost:8080/"
        },
        "id": "jglJ9WasFbns",
        "outputId": "c4c244e0-1175-4046-bb75-01db2e08c4fc"
      },
      "execution_count": 15,
      "outputs": [
        {
          "output_type": "stream",
          "name": "stdout",
          "text": [
            "The last item in the given list: {'country': 'IND', 'city': 'Jajpur', 'Home': 'Lalbag'}\n"
          ]
        }
      ]
    },
    {
      "cell_type": "markdown",
      "source": [
        "**Accessing List Items Using Negative Indexing:**\n",
        "\n",
        "---\n",
        "\n",
        "\n",
        "\n",
        "To access list items using +ve indexing we move forword direction.\n",
        "\n",
        "To accessing list items using -ve indexing ,we move backward direction."
      ],
      "metadata": {
        "id": "coxju6q5IU2h"
      }
    },
    {
      "cell_type": "code",
      "source": [
        "lst"
      ],
      "metadata": {
        "colab": {
          "base_uri": "https://localhost:8080/"
        },
        "id": "3XcTfePkFbkO",
        "outputId": "4759a541-1834-4c48-8931-fe8f108fb4b5"
      },
      "execution_count": 16,
      "outputs": [
        {
          "output_type": "execute_result",
          "data": {
            "text/plain": [
              "['Soumya', 24, True, {'country': 'IND', 'city': 'Jajpur', 'Home': 'Lalbag'}]"
            ]
          },
          "metadata": {},
          "execution_count": 16
        }
      ]
    },
    {
      "cell_type": "code",
      "source": [
        "\"\"\"\n",
        " For moving +ve index(moving forward direction)\n",
        " Soumya --> o #index\n",
        "         24 --> 1 #index\n",
        "         True--> 2 #index\n",
        "         {'country':'IND','city':'Jajpur','Home':'Lalbag'} --> 3 #index\n",
        "\n",
        "For moving _ve index (moving backward direction)\n",
        " Soumya --> -4 #index\n",
        "         24 --> -3 #index\n",
        "         True--> -2 #index\n",
        "         {'country':'IND','city':'Jajpur','Home':'Lalbag'} --> -1 #index\n",
        "\n",
        "\n",
        "\"\"\""
      ],
      "metadata": {
        "id": "gs4DndiMFbgx"
      },
      "execution_count": null,
      "outputs": []
    },
    {
      "cell_type": "code",
      "source": [
        "lst =[ 'Soumya',24,True,{'country':'IND','city':'Jajpur','Home':'Lalbag'}]"
      ],
      "metadata": {
        "id": "gHCZwethFbZe"
      },
      "execution_count": 18,
      "outputs": []
    },
    {
      "cell_type": "code",
      "source": [
        "first_itm = lst[-4]\n",
        "sec_itm = lst[-3]\n",
        "thrd_itm = lst[-2]\n",
        "frth_itm = lst[-1]\n",
        "\n",
        "print(\"1st Itm:\",first_itm)\n",
        "print(\"2nd Itm:\",sec_itm)\n",
        "print(\"3rd Itm:\",thrd_itm)\n",
        "print(\"4th Itm:\",frth_itm)"
      ],
      "metadata": {
        "colab": {
          "base_uri": "https://localhost:8080/"
        },
        "id": "zcY1lAcUFbVi",
        "outputId": "41a483ac-46a7-41ff-b0e7-fd388a4dd6f3"
      },
      "execution_count": 20,
      "outputs": [
        {
          "output_type": "stream",
          "name": "stdout",
          "text": [
            "1st Itm: Soumya\n",
            "2nd Itm: 24\n",
            "3rd Itm: True\n",
            "4th Itm: {'country': 'IND', 'city': 'Jajpur', 'Home': 'Lalbag'}\n"
          ]
        }
      ]
    },
    {
      "cell_type": "markdown",
      "source": [
        "**Unpacking List Items**\n",
        "---\n",
        "\n"
      ],
      "metadata": {
        "id": "2a0E-WDMo5z2"
      }
    },
    {
      "cell_type": "code",
      "source": [
        "lst = ['item1','item2','item3', 'item4', 'item5']\n",
        "first_item, second_item, third_item, *rest = lst\n",
        "print(first_item)     # item1\n",
        "print(second_item)    # item2\n",
        "print(third_item)     # item3\n",
        "print(rest)           # ['item4', 'item5']\n"
      ],
      "metadata": {
        "colab": {
          "base_uri": "https://localhost:8080/"
        },
        "id": "xuzYNWw9o5e5",
        "outputId": "41be2400-cb76-49ab-e68d-d1faa1cf580f"
      },
      "execution_count": 21,
      "outputs": [
        {
          "output_type": "stream",
          "name": "stdout",
          "text": [
            "item1\n",
            "item2\n",
            "item3\n",
            "['item4', 'item5']\n"
          ]
        }
      ]
    },
    {
      "cell_type": "code",
      "source": [
        "fruits = ['apple','orange','blueberries','mango','liche']\n",
        "first_fruits , second_fruits ,third_fruits , *rest = fruits\n",
        "print(first_fruits)\n",
        "print(second_fruits)\n",
        "print(third_fruits)\n",
        "print(rest)"
      ],
      "metadata": {
        "colab": {
          "base_uri": "https://localhost:8080/"
        },
        "id": "ssrQz5Jho5cx",
        "outputId": "8334e357-e9a2-4d34-c1cc-874be59ca8a6"
      },
      "execution_count": 22,
      "outputs": [
        {
          "output_type": "stream",
          "name": "stdout",
          "text": [
            "apple\n",
            "orange\n",
            "blueberries\n",
            "['mango', 'liche']\n"
          ]
        }
      ]
    },
    {
      "cell_type": "code",
      "source": [
        "#Example of unpacking list\n",
        "cities = [\"bbsr\",\"ctc\",\"jajpur\",\"Bhadrak\",\"sambalpur\",\"kendrapada\",\"balesor\",\"puri\"]\n",
        "cities"
      ],
      "metadata": {
        "colab": {
          "base_uri": "https://localhost:8080/"
        },
        "id": "HEI8yqcno5W4",
        "outputId": "b482c15f-4090-4217-fc69-ee01e07044e3"
      },
      "execution_count": 24,
      "outputs": [
        {
          "output_type": "execute_result",
          "data": {
            "text/plain": [
              "['bbsr',\n",
              " 'ctc',\n",
              " 'jajpur',\n",
              " 'Bhadrak',\n",
              " 'sambalpur',\n",
              " 'kendrapada',\n",
              " 'balesor',\n",
              " 'puri']"
            ]
          },
          "metadata": {},
          "execution_count": 24
        }
      ]
    },
    {
      "cell_type": "code",
      "source": [
        "cities = [\"Bhubaneswarsr\",\"cuttack\",\"jajpur\",\"Bhadrak\",\"sambalpur\",\"kendrapada\",\"balesor\",\"puri\"]\n",
        "bbsr,ctc,jaj,bhdk,*ukn,pr = cities\n",
        "print(bbsr)\n",
        "print(ctc)\n",
        "print(jaj)\n",
        "print(bhdk)\n",
        "print(ukn)\n",
        "print(pr)"
      ],
      "metadata": {
        "colab": {
          "base_uri": "https://localhost:8080/"
        },
        "id": "XUCGclgLo5Un",
        "outputId": "48de6406-5cfe-403b-ed79-52e3f726746f"
      },
      "execution_count": 26,
      "outputs": [
        {
          "output_type": "stream",
          "name": "stdout",
          "text": [
            "Bhubaneswarsr\n",
            "cuttack\n",
            "jajpur\n",
            "Bhadrak\n",
            "['sambalpur', 'kendrapada', 'balesor']\n",
            "puri\n"
          ]
        }
      ]
    },
    {
      "cell_type": "code",
      "source": [],
      "metadata": {
        "id": "7HUNfW1yo5QT"
      },
      "execution_count": null,
      "outputs": []
    },
    {
      "cell_type": "markdown",
      "source": [
        "**Slicing Items from a List**\n",
        "\n",
        "---\n",
        "Positive Indexing:\n",
        "\n",
        " We can specify a range of positive indexes by specifying the start, end and step, the return value will be a new list. (default values for start = 0, end = len(lst) - 1 (last item), step = 1)"
      ],
      "metadata": {
        "id": "qBD4jF1MrkjF"
      }
    },
    {
      "cell_type": "code",
      "source": [
        "fruits = ['apple','orange','blueberries','mango','liche']\n",
        "all_fruits = fruits[0:5] #returns all fruits\n",
        "print(all_fruits)"
      ],
      "metadata": {
        "colab": {
          "base_uri": "https://localhost:8080/"
        },
        "id": "ruP77Fkko5L_",
        "outputId": "1c01cd3e-37b1-4778-d77c-dc114dba2ff8"
      },
      "execution_count": 37,
      "outputs": [
        {
          "output_type": "stream",
          "name": "stdout",
          "text": [
            "['apple', 'orange', 'blueberries', 'mango', 'liche']\n"
          ]
        }
      ]
    },
    {
      "cell_type": "code",
      "source": [
        "#This is the same if we don't set where to stop .It takes all the rest\n",
        "all_fruits = fruits[0:]\n",
        "print(all_fruits)"
      ],
      "metadata": {
        "colab": {
          "base_uri": "https://localhost:8080/"
        },
        "id": "2o_bXzlOo5H-",
        "outputId": "657960e6-6ab9-4cb8-d3a5-777544927227"
      },
      "execution_count": 30,
      "outputs": [
        {
          "output_type": "stream",
          "name": "stdout",
          "text": [
            "['apple', 'orange', 'blueberries', 'mango', 'liche']\n"
          ]
        }
      ]
    },
    {
      "cell_type": "code",
      "source": [
        "frt1 = fruits[1:3]\n",
        "print(frt1)  #It doesn't takr first value item in the list while slicing"
      ],
      "metadata": {
        "colab": {
          "base_uri": "https://localhost:8080/"
        },
        "id": "dsDjuRW0o5Ez",
        "outputId": "b76885ae-237a-430d-a8ec-f080e3e1b3ef"
      },
      "execution_count": 31,
      "outputs": [
        {
          "output_type": "stream",
          "name": "stdout",
          "text": [
            "['orange', 'blueberries']\n"
          ]
        }
      ]
    },
    {
      "cell_type": "code",
      "source": [
        "frt2 = fruits[1:]\n",
        "print(frt2) #It not take the 1st item , but the rest of items"
      ],
      "metadata": {
        "colab": {
          "base_uri": "https://localhost:8080/"
        },
        "id": "-WQ7-cIItTOw",
        "outputId": "1b01b119-fedf-44d0-d1e1-994701bca122"
      },
      "execution_count": 32,
      "outputs": [
        {
          "output_type": "stream",
          "name": "stdout",
          "text": [
            "['orange', 'blueberries', 'mango', 'liche']\n"
          ]
        }
      ]
    },
    {
      "cell_type": "code",
      "source": [
        "frt3 = fruits[::2]\n",
        "print(frt3) # setp is activated. it will take away every 2nd items in bewteen -['orange','mango']\n"
      ],
      "metadata": {
        "colab": {
          "base_uri": "https://localhost:8080/"
        },
        "id": "AZD7Yf8itTMV",
        "outputId": "c929da47-7284-4e90-df51-faa557380a6c"
      },
      "execution_count": 33,
      "outputs": [
        {
          "output_type": "stream",
          "name": "stdout",
          "text": [
            "['apple', 'blueberries', 'liche']\n"
          ]
        }
      ]
    },
    {
      "cell_type": "code",
      "source": [
        "#Same we can do using nagative indexing:\n",
        "\n",
        "# We can specify a range of negative indexes by specifying\n",
        "# the start, end and step, the return value will be a new list."
      ],
      "metadata": {
        "id": "Un9-_d1PtTKg"
      },
      "execution_count": null,
      "outputs": []
    },
    {
      "cell_type": "code",
      "source": [
        "fruits = ['apple','orange','blueberries','mango','liche']\n",
        "all_fruits = fruits[-5:] #it returns all the fruits\n",
        "print(all_fruits)"
      ],
      "metadata": {
        "colab": {
          "base_uri": "https://localhost:8080/"
        },
        "id": "M8wTBrt3tTHy",
        "outputId": "6bd5b7a9-d842-4941-9692-8016f3d67b87"
      },
      "execution_count": 38,
      "outputs": [
        {
          "output_type": "stream",
          "name": "stdout",
          "text": [
            "['apple', 'orange', 'blueberries', 'mango', 'liche']\n"
          ]
        }
      ]
    },
    {
      "cell_type": "code",
      "source": [
        "frt1 = fruits[-3:-1]\n",
        "print(frt1) #doesn't include last index"
      ],
      "metadata": {
        "colab": {
          "base_uri": "https://localhost:8080/"
        },
        "id": "L7v8ralTtTFZ",
        "outputId": "5c56c33d-2133-48e0-9a0c-3f94ec59f472"
      },
      "execution_count": 39,
      "outputs": [
        {
          "output_type": "stream",
          "name": "stdout",
          "text": [
            "['blueberries', 'mango']\n"
          ]
        }
      ]
    },
    {
      "cell_type": "code",
      "source": [
        "frt2 = fruits[-3:]\n",
        "print(frt2) # this will give starting from -3 to the end, ['apple','orange']"
      ],
      "metadata": {
        "colab": {
          "base_uri": "https://localhost:8080/"
        },
        "id": "S6kMGEhXtTC8",
        "outputId": "2e3175c4-b9a5-4965-872c-6e4fa7a00abf"
      },
      "execution_count": 40,
      "outputs": [
        {
          "output_type": "stream",
          "name": "stdout",
          "text": [
            "['blueberries', 'mango', 'liche']\n"
          ]
        }
      ]
    },
    {
      "cell_type": "code",
      "source": [
        "frt3 = fruits[::-1]\n",
        "print(frt3) # a negative step will take the list in reverse order"
      ],
      "metadata": {
        "colab": {
          "base_uri": "https://localhost:8080/"
        },
        "id": "g05V7he9tTBF",
        "outputId": "6a20173d-084c-426c-b37d-773e11ad7da0"
      },
      "execution_count": 41,
      "outputs": [
        {
          "output_type": "stream",
          "name": "stdout",
          "text": [
            "['liche', 'mango', 'blueberries', 'orange', 'apple']\n"
          ]
        }
      ]
    },
    {
      "cell_type": "markdown",
      "source": [
        "**Modifying List**\n",
        "\n",
        "---\n",
        "List is a mutable or modifiable ordered collection of items.\n",
        "\n"
      ],
      "metadata": {
        "id": "CLxKA1tFwhtG"
      }
    },
    {
      "cell_type": "code",
      "source": [
        "fruits = ['apple','orange','blueberries','mango','liche']\n",
        "fruits[0] = 'kiwi'\n",
        "print(fruits)  # ['kiwi','orange','blueberries','mango','liche']"
      ],
      "metadata": {
        "colab": {
          "base_uri": "https://localhost:8080/"
        },
        "id": "txB_yRlPtS-9",
        "outputId": "c252180d-d8c8-4159-c1c1-6c80d4af6502"
      },
      "execution_count": 42,
      "outputs": [
        {
          "output_type": "stream",
          "name": "stdout",
          "text": [
            "['kiwi', 'orange', 'blueberries', 'mango', 'liche']\n"
          ]
        }
      ]
    },
    {
      "cell_type": "code",
      "source": [
        "fruits[1] = 'apple'\n",
        "print(fruits) # ['kiwi','apple','blueberries','mango','liche']"
      ],
      "metadata": {
        "colab": {
          "base_uri": "https://localhost:8080/"
        },
        "id": "1MCig6s7tS0j",
        "outputId": "5176ddd6-c19f-4325-a43c-abbec2531bfe"
      },
      "execution_count": 43,
      "outputs": [
        {
          "output_type": "stream",
          "name": "stdout",
          "text": [
            "['kiwi', 'apple', 'blueberries', 'mango', 'liche']\n"
          ]
        }
      ]
    },
    {
      "cell_type": "code",
      "source": [
        "last_index = len(fruits) - 1\n",
        "fruits[last_index] = 'lime'\n",
        "print(fruits) # Replacing the last fruit item with lime in the list"
      ],
      "metadata": {
        "colab": {
          "base_uri": "https://localhost:8080/"
        },
        "id": "WkuGFD31tSw6",
        "outputId": "6f73670e-b729-4d05-b988-b11522613e4f"
      },
      "execution_count": 44,
      "outputs": [
        {
          "output_type": "stream",
          "name": "stdout",
          "text": [
            "['kiwi', 'apple', 'blueberries', 'mango', 'lime']\n"
          ]
        }
      ]
    },
    {
      "cell_type": "markdown",
      "source": [
        "**Checking Items in a List**\n",
        "\n",
        "---\n",
        "Checking an item if it is a member of a list using in operator\n",
        "\n",
        "\n",
        "\n"
      ],
      "metadata": {
        "id": "e2rwuVBUz-q9"
      }
    },
    {
      "cell_type": "code",
      "source": [
        "fruits = ['apple','orange','blueberries','mango','liche']\n",
        "does_exist = 'orange' in fruits\n",
        "print(does_exist)  #True\n",
        "does_exist = 'wiki' in fruits\n",
        "print(does_exist) #False"
      ],
      "metadata": {
        "colab": {
          "base_uri": "https://localhost:8080/"
        },
        "id": "rVgx7dJ6tSuE",
        "outputId": "624ff54b-1699-4d2e-f40e-5154217844e6"
      },
      "execution_count": 45,
      "outputs": [
        {
          "output_type": "stream",
          "name": "stdout",
          "text": [
            "True\n",
            "False\n"
          ]
        }
      ]
    },
    {
      "cell_type": "markdown",
      "source": [
        "**Adding Items to a List**\n",
        "\n",
        "---\n",
        "To add item to the end of an existing list we use the method append().\n",
        "\n",
        "# syntax\n",
        "lst = list()\n",
        "\n",
        "lst.append(item)\n"
      ],
      "metadata": {
        "id": "nGuQ3il606gq"
      }
    },
    {
      "cell_type": "code",
      "source": [
        "fruits = ['apple','orange','blueberries','mango','liche']\n",
        "fruits.append('avocado')\n",
        "print(\"1st fruit list :\",fruits) # Added to list in the last index\n",
        "fruits.append('lime')\n",
        "print(\"2nd fruit list :\" , fruits)\n",
        "#added next to avocado in the list to become last indexed fruits"
      ],
      "metadata": {
        "colab": {
          "base_uri": "https://localhost:8080/"
        },
        "id": "61G9cTA3tSqW",
        "outputId": "cc1f173b-ff7e-4f55-ff7d-abdfed6623e4"
      },
      "execution_count": 49,
      "outputs": [
        {
          "output_type": "stream",
          "name": "stdout",
          "text": [
            "1st fruit list : ['apple', 'orange', 'blueberries', 'mango', 'liche', 'avocado']\n",
            "2nd fruit list : ['apple', 'orange', 'blueberries', 'mango', 'liche', 'avocado', 'lime']\n"
          ]
        }
      ]
    },
    {
      "cell_type": "markdown",
      "source": [
        "**Inserting Items into a List**\n",
        "\n",
        "We can use insert() method to insert a single item at a specified index in a list. Note that other items are shifted to the right.\n",
        "\n",
        "The insert() methods takes two arguments:index and an item to insert.\n",
        "\n",
        "# syntax\n",
        "lst = ['item1', 'item2']\n",
        "\n",
        "lst.insert(index, item)"
      ],
      "metadata": {
        "id": "q0VF4L-72Z3f"
      }
    },
    {
      "cell_type": "code",
      "source": [
        "fruits = ['apple','orange','blueberries','mango','liche']\n",
        "fruits.insert(3,\"lime\") #add lime in between blueberries and mango\n",
        "print(fruits)"
      ],
      "metadata": {
        "colab": {
          "base_uri": "https://localhost:8080/"
        },
        "id": "jF6Vj28H06QG",
        "outputId": "648f27b8-f50e-4441-b9a4-b7a07658013a"
      },
      "execution_count": 51,
      "outputs": [
        {
          "output_type": "stream",
          "name": "stdout",
          "text": [
            "['apple', 'orange', 'blueberries', 'lime', 'mango', 'liche']\n"
          ]
        }
      ]
    },
    {
      "cell_type": "code",
      "source": [
        "fruits.insert(2,\"kiwi\")\n",
        "print(fruits) #adding kiwi in between orange and blueberries"
      ],
      "metadata": {
        "colab": {
          "base_uri": "https://localhost:8080/"
        },
        "id": "MPEt5Ru606N8",
        "outputId": "44d68988-0bb7-418e-d7dc-faebbf43fdf3"
      },
      "execution_count": 53,
      "outputs": [
        {
          "output_type": "stream",
          "name": "stdout",
          "text": [
            "['apple', 'orange', 'kiwi', 'kiwi', 'blueberries', 'lime', 'mango', 'liche']\n"
          ]
        }
      ]
    },
    {
      "cell_type": "markdown",
      "source": [
        "**Removing Items from a List**\n",
        "\n",
        "---\n",
        "The remove method removes a specified item from a list.\n",
        "\n",
        "# syntax\n",
        "lst = ['item1', 'item2']\n",
        "\n",
        "lst.remove(item)\n"
      ],
      "metadata": {
        "id": "60MxVk7d3jJE"
      }
    },
    {
      "cell_type": "code",
      "source": [
        "fruits = ['apple','orange','blueberries','mango','liche']\n",
        "fruits.remove('blueberries')\n",
        "print(\"1st Removed list\",fruits) # Blueberries just got removed --['apple', 'orange', 'mango', 'liche']\n",
        "\n",
        "fruits.remove('mango')\n",
        "print(\"2nd removed list\",fruits)\n",
        "\n",
        "#It will permanetly remove items...\n",
        "#after removing mango list--> ['apple', 'orange', 'liche']"
      ],
      "metadata": {
        "colab": {
          "base_uri": "https://localhost:8080/"
        },
        "id": "DsLmKyUz06Hf",
        "outputId": "fb546cd7-3471-4226-d600-0a54562d743d"
      },
      "execution_count": 56,
      "outputs": [
        {
          "output_type": "stream",
          "name": "stdout",
          "text": [
            "1st Removed list ['apple', 'orange', 'mango', 'liche']\n",
            "2nd removed list ['apple', 'orange', 'liche']\n"
          ]
        }
      ]
    },
    {
      "cell_type": "markdown",
      "source": [
        "**Removing Items Using Pop**\n",
        "\n",
        "---\n",
        "\n",
        "\n",
        "The pop() method removes the specified index, (or the last item if index is not specified):\n",
        "\n",
        "# syntax\n",
        "lst = ['item1', 'item2']\n",
        "\n",
        "lst.pop()          # last item\n",
        "\n",
        "lst.pop(index)\n"
      ],
      "metadata": {
        "id": "cYVEh7iX6aJE"
      }
    },
    {
      "cell_type": "code",
      "source": [
        "fruits = ['apple','orange','blueberries','mango','liche']\n",
        "fruits.pop()\n",
        "print(\"LIST AFTER POP METHOD1:\",fruits) #remove last fruit item\n",
        "\n",
        "fruits.pop(3) # specify where in the list  do you want to remove items\n",
        "print(\"LIST AFTER POP METHOD2:\",fruits)"
      ],
      "metadata": {
        "colab": {
          "base_uri": "https://localhost:8080/"
        },
        "id": "5dX6ZVUM06En",
        "outputId": "2b88de38-a7d9-4252-d7fd-28cb2a7bb10e"
      },
      "execution_count": 58,
      "outputs": [
        {
          "output_type": "stream",
          "name": "stdout",
          "text": [
            "LIST AFTER POP METHOD1: ['apple', 'orange', 'blueberries', 'mango']\n",
            "LIST AFTER POP METHOD2: ['apple', 'orange', 'blueberries']\n"
          ]
        }
      ]
    },
    {
      "cell_type": "markdown",
      "source": [
        "**Removing Items Using Del**\n",
        "\n",
        "---\n",
        "\n",
        "\n",
        "The del keyword removes the specified index and it can also be used to delete items within index range.\n",
        "\n",
        "It can also delete the list completely\n",
        "\n",
        "# syntax\n",
        "lst = ['item1', 'item2']\n",
        "\n",
        "del lst[index]    # only a single item\n",
        "\n",
        "del lst         # to delete the list completely\n"
      ],
      "metadata": {
        "id": "fOIsDEWB7-jR"
      }
    },
    {
      "cell_type": "code",
      "source": [
        "fruits = ['apple','orange','blueberries','mango','liche']\n",
        "del fruits[0]\n",
        "print(\"del 1st applied:\",fruits)     # ['orange', 'blueberries', 'mango', 'liche']\n",
        "\n",
        "del fruits[1]\n",
        "print(\"del 2nd applied:\",fruits)     #['orange', 'mango', 'liche']\n",
        "\n",
        "del fruits[1:3]\n",
        "print(\"del 3rd applied :\",fruits)      # ['orange']\n",
        "\n",
        "del fruits\n",
        "print(\"del 4th applied :\",fruits)    #NameError: name 'fruits' is not defined"
      ],
      "metadata": {
        "colab": {
          "base_uri": "https://localhost:8080/",
          "height": 263
        },
        "id": "kMxl3Wye06Bk",
        "outputId": "7d65f0c4-0db8-4ec0-a2b8-773655140d16"
      },
      "execution_count": 62,
      "outputs": [
        {
          "output_type": "stream",
          "name": "stdout",
          "text": [
            "del 1st applied: ['orange', 'blueberries', 'mango', 'liche']\n",
            "del 2nd applied: ['orange', 'mango', 'liche']\n",
            "del 3rd applied : ['orange']\n"
          ]
        },
        {
          "output_type": "error",
          "ename": "NameError",
          "evalue": "ignored",
          "traceback": [
            "\u001b[0;31m---------------------------------------------------------------------------\u001b[0m",
            "\u001b[0;31mNameError\u001b[0m                                 Traceback (most recent call last)",
            "\u001b[0;32m<ipython-input-62-4de03f84f6e6>\u001b[0m in \u001b[0;36m<cell line: 12>\u001b[0;34m()\u001b[0m\n\u001b[1;32m     10\u001b[0m \u001b[0;34m\u001b[0m\u001b[0m\n\u001b[1;32m     11\u001b[0m \u001b[0;32mdel\u001b[0m \u001b[0mfruits\u001b[0m\u001b[0;34m\u001b[0m\u001b[0;34m\u001b[0m\u001b[0m\n\u001b[0;32m---> 12\u001b[0;31m \u001b[0mprint\u001b[0m\u001b[0;34m(\u001b[0m\u001b[0;34m\"del 4th applied :\"\u001b[0m\u001b[0;34m,\u001b[0m\u001b[0mfruits\u001b[0m\u001b[0;34m)\u001b[0m\u001b[0;34m\u001b[0m\u001b[0;34m\u001b[0m\u001b[0m\n\u001b[0m",
            "\u001b[0;31mNameError\u001b[0m: name 'fruits' is not defined"
          ]
        }
      ]
    },
    {
      "cell_type": "markdown",
      "source": [
        "**Clearing List Items**\n",
        "\n",
        "The clear() method empties the list:\n",
        "\n",
        "# syntax\n",
        "lst = ['item1', 'item2']\n",
        "\n",
        "lst.clear()"
      ],
      "metadata": {
        "id": "X5mQS7Fw94Is"
      }
    },
    {
      "cell_type": "code",
      "source": [
        "fruits = ['apple','orange','blueberries','mango','liche']\n",
        "fruits.clear()\n",
        "print(fruits) # should be retuning an empty list"
      ],
      "metadata": {
        "colab": {
          "base_uri": "https://localhost:8080/"
        },
        "id": "O944J4J405-r",
        "outputId": "2217b527-0ca1-4f01-ad79-f8ad3b3ff0d2"
      },
      "execution_count": 63,
      "outputs": [
        {
          "output_type": "stream",
          "name": "stdout",
          "text": [
            "[]\n"
          ]
        }
      ]
    },
    {
      "cell_type": "markdown",
      "source": [
        "**Copying a List**\n",
        "\n",
        "It is possible to copy a list by reassigning it to a new variable in the following way: list2 = list1.\n",
        "\n",
        "Now, list2 is a reference of list1, any changes we make in list2 will also modify the original, list1.\n",
        "\n",
        "But there are lots of case in which we do not like to modify the original instead we like to have a different copy. One of way of avoiding the problem above is using copy().\n",
        "\n",
        "# syntax\n",
        "lst = ['item1', 'item2']\n",
        "\n",
        "lst_copy = lst.copy()"
      ],
      "metadata": {
        "id": "IKEGG07z-dV2"
      }
    },
    {
      "cell_type": "code",
      "source": [
        "fruits = ['apple','orange','blueberries','mango','liche']\n",
        "fruits_copy = fruits.copy()\n",
        "print(fruits_copy)"
      ],
      "metadata": {
        "colab": {
          "base_uri": "https://localhost:8080/"
        },
        "id": "_ltv8gQj93CY",
        "outputId": "a8c2c030-22c4-4ee0-c628-c69d74cc5fd4"
      },
      "execution_count": 64,
      "outputs": [
        {
          "output_type": "stream",
          "name": "stdout",
          "text": [
            "['apple', 'orange', 'blueberries', 'mango', 'liche']\n"
          ]
        }
      ]
    },
    {
      "cell_type": "markdown",
      "source": [
        "**Joining Lists**\n",
        "\n",
        "---\n",
        "\n",
        "\n",
        "\n",
        "There are several ways to join, or concatenate, two or more lists in Python.\n",
        "\n",
        "**Plus Operator(+)**\n",
        "\n",
        "---\n",
        "# syntax\n",
        "list3 = list1 + list2\n",
        "\n"
      ],
      "metadata": {
        "id": "ZE7wK4Wx_qj2"
      }
    },
    {
      "cell_type": "code",
      "source": [
        "positive_numbers = [1, 2, 3, 4, 5]\n",
        "zero = [0]\n",
        "negative_numbers = [-5,-4,-3,-2,-1]\n",
        "integers = negative_numbers + zero + positive_numbers\n",
        "print(integers) # [-5, -4, -3, -2, -1, 0, 1, 2, 3, 4, 5]\n",
        "fruits = ['banana', 'orange', 'mango', 'lemon']\n",
        "vegetables = ['Tomato', 'Potato', 'Cabbage', 'Onion', 'Carrot']\n",
        "fruits_and_vegetables = fruits + vegetables\n",
        "print(fruits_and_vegetables ) # ['banana', 'orange', 'mango', 'lemon', 'Tomato', 'Potato', 'Cabbage', 'Onion', 'Carrot']"
      ],
      "metadata": {
        "colab": {
          "base_uri": "https://localhost:8080/"
        },
        "id": "eyyvxeGS92_C",
        "outputId": "688fe5f0-e2b6-422e-9212-a70b13658cd8"
      },
      "execution_count": 65,
      "outputs": [
        {
          "output_type": "stream",
          "name": "stdout",
          "text": [
            "[-5, -4, -3, -2, -1, 0, 1, 2, 3, 4, 5]\n",
            "['banana', 'orange', 'mango', 'lemon', 'Tomato', 'Potato', 'Cabbage', 'Onion', 'Carrot']\n"
          ]
        }
      ]
    },
    {
      "cell_type": "markdown",
      "source": [
        "Joining using extend() method The extend() method allows to append list in a list.\n",
        "\n",
        "# syntax\n",
        "list1 = ['item1', 'item2']\n",
        "\n",
        "list2 = ['item3', 'item4', 'item5']\n",
        "\n",
        "list1.extend(list2)"
      ],
      "metadata": {
        "id": "E90874dbAC3L"
      }
    },
    {
      "cell_type": "code",
      "source": [
        "num1 = [0, 1, 2, 3]\n",
        "num2= [4, 5, 6]\n",
        "num1.extend(num2)\n",
        "print('Numbers:', num1) # Numbers: [0, 1, 2, 3, 4, 5, 6]\n",
        "negative_numbers = [-5,-4,-3,-2,-1]\n",
        "positive_numbers = [1, 2, 3,4,5]\n",
        "zero = [0]\n",
        "\n",
        "negative_numbers.extend(zero)\n",
        "negative_numbers.extend(positive_numbers)\n",
        "print('Integers:', negative_numbers) # Integers: [-5, -4, -3, -2, -1, 0, 1, 2, 3, 4, 5]\n",
        "fruits = ['apple','orange','blueberries','mango','liche']\n",
        "vegetables = ['Tomato', 'Potato', 'Cabbage', 'Onion', 'Carrot']\n",
        "fruits.extend(vegetables)\n",
        "print('Fruits and vegetables:', fruits ) # Fruits and vegetables :\n",
        "                                         #['apple', 'orange', 'blueberries', 'mango', 'liche', 'Tomato', 'Potato', 'Cabbage', 'Onion', 'Carrot']"
      ],
      "metadata": {
        "colab": {
          "base_uri": "https://localhost:8080/"
        },
        "id": "v9kxBVkR927b",
        "outputId": "b7eaa438-5180-4cdb-fcf4-66ba1f34a535"
      },
      "execution_count": 66,
      "outputs": [
        {
          "output_type": "stream",
          "name": "stdout",
          "text": [
            "Numbers: [0, 1, 2, 3, 4, 5, 6]\n",
            "Integers: [-5, -4, -3, -2, -1, 0, 1, 2, 3, 4, 5]\n",
            "Fruits and vegetables: ['apple', 'orange', 'blueberries', 'mango', 'liche', 'Tomato', 'Potato', 'Cabbage', 'Onion', 'Carrot']\n"
          ]
        }
      ]
    },
    {
      "cell_type": "markdown",
      "source": [
        "**Counting Items in a List**\n",
        "\n",
        "The count() method returns the number of times an item appears in a list:\n",
        "\n",
        "# syntax\n",
        "lst = ['item1', 'item2']\n",
        "\n",
        "lst.count(item)"
      ],
      "metadata": {
        "id": "Eg2pcJDGAy0p"
      }
    },
    {
      "cell_type": "code",
      "source": [
        "fruits =  ['apple','orange','blueberries','mango','liche']\n",
        "print(fruits.count('orange'))   # 1\n",
        "ages = [22, 19, 24, 25, 26, 24, 25, 24]\n",
        "print(ages.count(24))           # 3"
      ],
      "metadata": {
        "colab": {
          "base_uri": "https://localhost:8080/"
        },
        "id": "PF6q0NcT923M",
        "outputId": "2b566052-a592-49fc-84c9-7261cea8bf00"
      },
      "execution_count": 67,
      "outputs": [
        {
          "output_type": "stream",
          "name": "stdout",
          "text": [
            "1\n",
            "3\n"
          ]
        }
      ]
    },
    {
      "cell_type": "markdown",
      "source": [
        "**Finding Index of an Item**\n",
        "\n",
        "The index() method returns the index of an item in the list:\n",
        "\n",
        "# syntax\n",
        "lst = ['item1', 'item2']\n",
        "\n",
        "lst.index(item)\n"
      ],
      "metadata": {
        "id": "zcbB245jBJ0V"
      }
    },
    {
      "cell_type": "code",
      "source": [
        "fruits = ['banana', 'orange', 'mango', 'lemon']\n",
        "print(fruits.index('orange'))   # 1\n",
        "ages = [22, 19, 24, 25, 26, 24, 25, 24]\n",
        "print(ages.index(24))           # 2, the first occurrence"
      ],
      "metadata": {
        "colab": {
          "base_uri": "https://localhost:8080/"
        },
        "id": "O7nTB6Zp92ww",
        "outputId": "4ce53c8e-6c97-47dd-945e-aff32d9f750c"
      },
      "execution_count": 70,
      "outputs": [
        {
          "output_type": "stream",
          "name": "stdout",
          "text": [
            "1\n",
            "2\n"
          ]
        }
      ]
    },
    {
      "cell_type": "markdown",
      "source": [
        "**Reversing a List**\n",
        "\n",
        "---\n",
        "\n",
        "\n",
        "The reverse() method reverses the order of a list.\n",
        "\n",
        "# syntax\n",
        "lst = ['item1', 'item2']\n",
        "\n",
        "lst.reverse()"
      ],
      "metadata": {
        "id": "KExnmGSvBpwh"
      }
    },
    {
      "cell_type": "code",
      "source": [
        "fruits = ['apple','orange','blueberries','mango','liche']\n",
        "fruits.reverse()\n",
        "print(fruits) # ['liche', 'mango', 'blueberries', 'orange', 'apple']\n",
        "ages = [22, 19, 24, 25, 26, 24, 25, 24]\n",
        "ages.reverse()\n",
        "print(ages) # [24, 25, 24, 26, 25, 24, 19, 22]"
      ],
      "metadata": {
        "colab": {
          "base_uri": "https://localhost:8080/"
        },
        "id": "tNKRu3ql92tc",
        "outputId": "f3d4dfe6-d417-44dc-9ba8-494c16b0c7f1"
      },
      "execution_count": 71,
      "outputs": [
        {
          "output_type": "stream",
          "name": "stdout",
          "text": [
            "['liche', 'mango', 'blueberries', 'orange', 'apple']\n",
            "[24, 25, 24, 26, 25, 24, 19, 22]\n"
          ]
        }
      ]
    },
    {
      "cell_type": "markdown",
      "source": [
        "**Sorting List Items**\n",
        "\n",
        "---\n",
        "\n",
        "\n",
        "To sort lists we can use sort() method or sorted() built-in functions.\n",
        "\n",
        "The sort() method reorders the list items in ascending order and modifies the original list.\n",
        "\n",
        "If an argument of sort() method reverse is equal to true, it will arrange the list in descending order.\n",
        "\n",
        "sort(): this method modifies the original list\n",
        "\n",
        "# syntax\n",
        "lst = ['item1', 'item2']\n",
        "\n",
        "lst.sort()                # ascending\n",
        "\n",
        "lst.sort(reverse=True)    # descending"
      ],
      "metadata": {
        "id": "_7tIqIXRCZ1v"
      }
    },
    {
      "cell_type": "code",
      "source": [
        "fruits = ['banana', 'orange', 'mango', 'lemon']\n",
        "fruits.sort()\n",
        "print(fruits)             # sorted in alphabetical order, ['banana', 'lemon', 'mango', 'orange']\n",
        "fruits.sort(reverse=True)\n",
        "print(fruits) # ['orange', 'mango', 'lemon', 'banana']\n",
        "ages = [22, 19, 24, 25, 26, 24, 25, 24]\n",
        "ages.sort()\n",
        "print(ages) #  [19, 22, 24, 24, 24, 25, 25, 26]\n",
        "\n",
        "ages.sort(reverse=True)\n",
        "print(ages) #  [26, 25, 25, 24, 24, 24, 22, 19]"
      ],
      "metadata": {
        "colab": {
          "base_uri": "https://localhost:8080/"
        },
        "id": "D75AuPjntSm1",
        "outputId": "fb5df69b-873f-4953-92c6-0179ca8e15f6"
      },
      "execution_count": 72,
      "outputs": [
        {
          "output_type": "stream",
          "name": "stdout",
          "text": [
            "['banana', 'lemon', 'mango', 'orange']\n",
            "['orange', 'mango', 'lemon', 'banana']\n",
            "[19, 22, 24, 24, 24, 25, 25, 26]\n",
            "[26, 25, 25, 24, 24, 24, 22, 19]\n"
          ]
        }
      ]
    },
    {
      "cell_type": "markdown",
      "source": [
        "sorted(): returns the ordered list without modifying the original list"
      ],
      "metadata": {
        "id": "o8FWtB0mCokh"
      }
    },
    {
      "cell_type": "code",
      "source": [
        "fruits = ['banana', 'orange', 'mango', 'lemon']\n",
        "print(sorted(fruits))   # ['banana', 'lemon', 'mango', 'orange']\n",
        "# Reverse order\n",
        "fruits = ['banana', 'orange', 'mango', 'lemon']\n",
        "fruits = sorted(fruits,reverse=True)\n",
        "print(fruits)     # ['orange', 'mango', 'lemon', 'banana']"
      ],
      "metadata": {
        "colab": {
          "base_uri": "https://localhost:8080/"
        },
        "id": "3WcuHnRZtSjd",
        "outputId": "9e68d632-2d45-4505-b801-94f24fc9c570"
      },
      "execution_count": 73,
      "outputs": [
        {
          "output_type": "stream",
          "name": "stdout",
          "text": [
            "['banana', 'lemon', 'mango', 'orange']\n",
            "['orange', 'mango', 'lemon', 'banana']\n"
          ]
        }
      ]
    },
    {
      "cell_type": "code",
      "source": [],
      "metadata": {
        "id": "4YEPF_20FbSM"
      },
      "execution_count": null,
      "outputs": []
    }
  ]
}