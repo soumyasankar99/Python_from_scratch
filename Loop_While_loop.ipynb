{
  "nbformat": 4,
  "nbformat_minor": 0,
  "metadata": {
    "colab": {
      "provenance": [],
      "authorship_tag": "ABX9TyO0CH7j1PVs5F3g6GPJrvgY",
      "include_colab_link": true
    },
    "kernelspec": {
      "name": "python3",
      "display_name": "Python 3"
    },
    "language_info": {
      "name": "python"
    }
  },
  "cells": [
    {
      "cell_type": "markdown",
      "metadata": {
        "id": "view-in-github",
        "colab_type": "text"
      },
      "source": [
        "<a href=\"https://colab.research.google.com/github/soumyasankar99/Python_from_scratch/blob/main/Loop_While_loop.ipynb\" target=\"_parent\"><img src=\"https://colab.research.google.com/assets/colab-badge.svg\" alt=\"Open In Colab\"/></a>"
      ]
    },
    {
      "cell_type": "markdown",
      "source": [
        "#Introduction to Loops"
      ],
      "metadata": {
        "id": "3WqykKfqmvbi"
      }
    },
    {
      "cell_type": "markdown",
      "source": [
        "In our every day life we follow routines for many repetitive tasks.\n",
        "\n",
        "In the same way we also do a lots of repetitive tasks.In order to handel repetitive task programming languages use loops.\n",
        "\n",
        "Python programming language also provides two types of loop:\n",
        "\n",
        "1) While loop\n",
        "\n",
        "2) For loop\n",
        "\n"
      ],
      "metadata": {
        "id": "QEyfSQqPm69N"
      }
    },
    {
      "cell_type": "markdown",
      "source": [
        "# While Loop\n",
        "\n",
        "We use the word ***while*** to make a while loop.It is used to execute a block of statements repeatedly until a given condition is satisfied.\n",
        "\n",
        "\n",
        "When the condition becomes false, the lines of code after the loop will be continued to be executed."
      ],
      "metadata": {
        "id": "0OJ_RKaAoT-v"
      }
    },
    {
      "cell_type": "code",
      "execution_count": null,
      "metadata": {
        "id": "D7LAZsP5ms-t"
      },
      "outputs": [],
      "source": [
        "# syntax\n",
        "while condition:\n",
        "    code goes here"
      ]
    },
    {
      "cell_type": "code",
      "source": [
        "#Example:\n",
        "\n",
        "count = 0\n",
        "while count < 5:\n",
        "  print(count)\n",
        "  count = count + 1"
      ],
      "metadata": {
        "colab": {
          "base_uri": "https://localhost:8080/"
        },
        "id": "kTtbiou4mt05",
        "outputId": "ed263f97-49ce-4447-cc5d-27316a6ebf27"
      },
      "execution_count": null,
      "outputs": [
        {
          "output_type": "stream",
          "name": "stdout",
          "text": [
            "0\n",
            "1\n",
            "2\n",
            "3\n",
            "4\n"
          ]
        }
      ]
    },
    {
      "cell_type": "markdown",
      "source": [
        "In above while loop, the condition becomes false when count is 5.\n",
        "\n",
        "That is when the loop stops.If we are interested to run block of code once the condition is no longer true, we can use ***else***."
      ],
      "metadata": {
        "id": "f-WkgfYMq2hL"
      }
    },
    {
      "cell_type": "code",
      "source": [
        "# syntax\n",
        "while condition:\n",
        "    code goes here\n",
        "else:\n",
        "    code goes here"
      ],
      "metadata": {
        "id": "6WX2tt8ymt16"
      },
      "execution_count": null,
      "outputs": []
    },
    {
      "cell_type": "code",
      "source": [
        "#Example\n",
        "\n",
        "count = 0\n",
        "while count <= 5:\n",
        "  print(count)\n",
        "  count += 1\n",
        "\n",
        "else:\n",
        "  print(count)"
      ],
      "metadata": {
        "colab": {
          "base_uri": "https://localhost:8080/"
        },
        "id": "USmwGQ9Zmt6M",
        "outputId": "83c13788-ba0e-4da1-e51e-86b1ce6c8b64"
      },
      "execution_count": null,
      "outputs": [
        {
          "output_type": "stream",
          "name": "stdout",
          "text": [
            "0\n",
            "1\n",
            "2\n",
            "3\n",
            "4\n",
            "5\n",
            "6\n"
          ]
        }
      ]
    },
    {
      "cell_type": "markdown",
      "source": [
        "The above loop condition will be false when count is 5 and the loop stops, and execution starts the else statement.\n",
        "\n",
        "As a result 5 will be printed."
      ],
      "metadata": {
        "id": "RP6yoyzttWrk"
      }
    },
    {
      "cell_type": "markdown",
      "source": [
        "So after getting to know how while loop working , let's understand Basic Structure.\n",
        "\n"
      ],
      "metadata": {
        "id": "zgwOqSQgt5Kd"
      }
    },
    {
      "cell_type": "markdown",
      "source": [
        "#Basic Structure\n",
        "\n",
        "A while loop consists of three main components:\n",
        "\n",
        "### 1) Initialization:\n",
        "Initialize a control variable or variable before entering the loop.This variable is used to control the loop's execution.\n",
        "\n",
        "### 2) Condition:\n",
        "Define a condition that is evaluated before each iteration of the loop.If the condition is true , the loop body is executed ; otherwise , the loop terminates.\n",
        "\n",
        "### 3) Loop Body:\n",
        "The code block that contains the the instructions to be executed as long as the condition is true.\n",
        "\n",
        "### pseudocode:"
      ],
      "metadata": {
        "id": "iZ4e4oN6uSRi"
      }
    },
    {
      "cell_type": "code",
      "source": [
        "initialize control_variable\n",
        "while condition:\n",
        "    # Loop body\n",
        "    # Code to be executed repeatedly\n",
        "    update control_variable\n"
      ],
      "metadata": {
        "id": "ZBXXpTtLmt9Q"
      },
      "execution_count": null,
      "outputs": []
    },
    {
      "cell_type": "markdown",
      "source": [
        "# Loop Execution\n",
        "\n",
        "The execution of while loop can be summarized as follows:\n",
        "\n",
        "1) The control variable is initialized.\n",
        "\n",
        "2) The condition is checked.If it's true , the body is executed; otherwise, the loop terminates.\n",
        "\n",
        "3) After the loop body is executed,the control variable is updated . This is a crucial step to ensure that the loop eventually terminates.If you forget to update the control variable, you may create an infinite loop.\n",
        "\n",
        "4) The condition is checked again. If it's still true, the loop body is executed again. This process continues untill the condition becomes false."
      ],
      "metadata": {
        "id": "BJeS_poVwXgj"
      }
    },
    {
      "cell_type": "markdown",
      "source": [
        "# What is Infinite Loops\n",
        "\n",
        "Crae should be taken to avoid inifinite loops, where the conditon never become false.\n",
        "\n",
        "This can lead to program crashes or freezes."
      ],
      "metadata": {
        "id": "f9FNWTlXygvK"
      }
    },
    {
      "cell_type": "markdown",
      "source": [
        "# What is Exit Condition ?\n",
        "\n",
        "Define a clear exit condition to ensure the loop terminates when it should."
      ],
      "metadata": {
        "id": "dQhidzV4zChX"
      }
    },
    {
      "cell_type": "markdown",
      "source": [
        "#Use Cases\n",
        "\n",
        "While loops are suitable for scenarios where you don't the exact number of iterations beforehand want to repeat a task untill a specific condition is met.\n"
      ],
      "metadata": {
        "id": "vnGQ7zhWzUTt"
      }
    },
    {
      "cell_type": "markdown",
      "source": [
        "# Precautions\n",
        "\n",
        "Be cautious with the control variable and condition to avoid logic errors and unexpected behavior."
      ],
      "metadata": {
        "id": "l8U3bAOyz6YI"
      }
    },
    {
      "cell_type": "markdown",
      "source": [
        "#Conclusion\n",
        "\n",
        "While loops are essential programming constructs for automating repetitive tasks. By carefully designing the initialization, condition, and loop body, you can control the flow of your program and efficiently solve a wide range of problems. However, it's crucial to pay attention to detail to avoid common pitfalls, such as infinite loops, and ensure your code behaves as expected."
      ],
      "metadata": {
        "id": "4VD-4C_J0PGI"
      }
    },
    {
      "cell_type": "markdown",
      "source": [
        "#what kind of coding proble we can solve using while loop?"
      ],
      "metadata": {
        "id": "8srF0B4J5COt"
      }
    },
    {
      "cell_type": "markdown",
      "source": [
        "While loops are versatile control structures that can be used to solve a wide range of coding problems.\n",
        "\n",
        "Their ability to repeatedly execute a block of code as long as a certain condition is met makes them suitable for various tasks.\n",
        "\n",
        "Here are some common types of coding problems that can be solved using while loops:\n",
        "\n",
        "#1)Counting and Summation:\n",
        "\n",
        "a) Counting from a starting number to an ending number.\n",
        "\n",
        "b) Calculating the sum of numbers in a sequence.\n",
        "\n",
        "c) Counting occurrences of specific elements in a list.\n",
        "\n",
        "#2)User Input and Validation:\n",
        "\n",
        "a) Repeatedly prompting the user for input until valid input is provided.\n",
        "\n",
        "b) Creating interactive menu-driven programs.\n",
        "\n",
        "#3) Searching and Filtering:\n",
        "\n",
        "a)Searching for an element in an array or list.\n",
        "\n",
        "b)Filtering elements based on a certain condition.\n",
        "\n",
        "#4)Data Processing and Transformation:\n",
        "\n",
        "a)Parsing and processing data from a file line by line.\n",
        "\n",
        "b)Transforming data, such as converting units or formatting text.\n",
        "\n",
        "#5)Simulation and Modeling:\n",
        "\n",
        "a)Simulating real-world scenarios, like a game loop.\n",
        "\n",
        "b)Modeling physical processes with discrete time steps.\n",
        "\n",
        "#6)Handling Unknown Iterations:\n",
        "\n",
        "a)Performing a task until a specific condition is met (e.g., finding a target in a game).\n",
        "\n",
        "b)Repeating an action until a desired level of accuracy is achieved in numerical calculations.\n",
        "\n",
        "#7)Dynamic Problem Solving:\n",
        "\n",
        "a)Solving problems where the number of iterations is determined during runtime.\n",
        "\n",
        "b)Dynamic programming problems, such as calculating Fibonacci numbers or solving the knapsack problem.\n",
        "\n",
        "#8)Dequeuing and Processing Queues:\n",
        "\n",
        "a)Implementing algorithms that use a queue data structure.\n",
        "\n",
        "b)Processing items in a queue until it's empty.\n",
        "\n",
        "#9)Network and I/O Operations:\n",
        "\n",
        "a)Receiving and processing data from network sockets.\n",
        "\n",
        "b)Reading and writing data from/to files or streams.\n",
        "\n",
        "#10)Control Flow:\n",
        "\n",
        "a)Implementing custom control flow mechanisms, such as custom state machines.\n",
        "\n",
        "b)Creating loops that react to changing conditions or events.\n",
        "\n",
        "#11)Error Handling and Recovery:\n",
        "\n",
        "a)Handling errors and retries based on error conditions.\n",
        "\n",
        "b)Recovering from exceptional situations.\n",
        "\n",
        "#12)Recursive Algorithm Replacement:\n",
        "\n",
        "a)Some problems that can be solved using recursion can also be solved using iterative approaches with while loops.\n",
        "\n",
        "\n",
        "\n",
        "\n",
        "\n",
        "It's important to note that while loops should be used when the number of iterations is not known in advance or when you want to repeat a task until a specific condition is met. Care should be taken to ensure that the loop eventually terminates to avoid infinite loops. Additionally, while loops can often be replaced with for loops in cases where you know the exact number of iterations in advance."
      ],
      "metadata": {
        "id": "XkWkP6Qs5F8e"
      }
    },
    {
      "cell_type": "code",
      "source": [
        "#Q1) Write a program that uses a while loop to print numbers from 1 to 100\n",
        "\n",
        "num =1\n",
        "while num <= 100:\n",
        "   print(num)\n",
        "   num += 1"
      ],
      "metadata": {
        "id": "lkLMv3VvmuBO",
        "colab": {
          "base_uri": "https://localhost:8080/"
        },
        "outputId": "f8507a9c-6bee-4e65-8c2f-b1508755540a"
      },
      "execution_count": 10,
      "outputs": [
        {
          "output_type": "stream",
          "name": "stdout",
          "text": [
            "1\n",
            "2\n",
            "3\n",
            "4\n",
            "5\n",
            "6\n",
            "7\n",
            "8\n",
            "9\n",
            "10\n",
            "11\n",
            "12\n",
            "13\n",
            "14\n",
            "15\n",
            "16\n",
            "17\n",
            "18\n",
            "19\n",
            "20\n",
            "21\n",
            "22\n",
            "23\n",
            "24\n",
            "25\n",
            "26\n",
            "27\n",
            "28\n",
            "29\n",
            "30\n",
            "31\n",
            "32\n",
            "33\n",
            "34\n",
            "35\n",
            "36\n",
            "37\n",
            "38\n",
            "39\n",
            "40\n",
            "41\n",
            "42\n",
            "43\n",
            "44\n",
            "45\n",
            "46\n",
            "47\n",
            "48\n",
            "49\n",
            "50\n",
            "51\n",
            "52\n",
            "53\n",
            "54\n",
            "55\n",
            "56\n",
            "57\n",
            "58\n",
            "59\n",
            "60\n",
            "61\n",
            "62\n",
            "63\n",
            "64\n",
            "65\n",
            "66\n",
            "67\n",
            "68\n",
            "69\n",
            "70\n",
            "71\n",
            "72\n",
            "73\n",
            "74\n",
            "75\n",
            "76\n",
            "77\n",
            "78\n",
            "79\n",
            "80\n",
            "81\n",
            "82\n",
            "83\n",
            "84\n",
            "85\n",
            "86\n",
            "87\n",
            "88\n",
            "89\n",
            "90\n",
            "91\n",
            "92\n",
            "93\n",
            "94\n",
            "95\n",
            "96\n",
            "97\n",
            "98\n",
            "99\n",
            "100\n"
          ]
        }
      ]
    },
    {
      "cell_type": "code",
      "source": [
        "#Sum of Even Numbers:\n",
        "#Calculate the sum of all even numbers from 1 to 20 using a while loop.\n",
        "\n",
        "num = 2\n",
        "total = 0\n",
        "while num <= 20:\n",
        "  total += num\n",
        "  num += 2\n",
        "print(total)"
      ],
      "metadata": {
        "id": "r9MJ13HD0j1y",
        "colab": {
          "base_uri": "https://localhost:8080/"
        },
        "outputId": "68dfd4a9-050e-4792-fb8d-045af7af20d8"
      },
      "execution_count": 11,
      "outputs": [
        {
          "output_type": "stream",
          "name": "stdout",
          "text": [
            "110\n"
          ]
        }
      ]
    },
    {
      "cell_type": "code",
      "source": [
        "#User Input Validation:\n",
        "#Ask the user to enter a positive integer, and keep asking until they do.\n",
        "\n",
        "while True:\n",
        "  user_input = int(input(\"Enter a positive integer:\"))\n",
        "  if user_input > 0:\n",
        "    print(\"Task is completed\")\n",
        "    break"
      ],
      "metadata": {
        "id": "c2tXn0JJ0kH0",
        "colab": {
          "base_uri": "https://localhost:8080/"
        },
        "outputId": "daa49774-ce68-4f32-d93f-b7fc5dc60155"
      },
      "execution_count": 15,
      "outputs": [
        {
          "output_type": "stream",
          "name": "stdout",
          "text": [
            "Enter a positive integer:23\n",
            "Task is completed\n"
          ]
        }
      ]
    },
    {
      "cell_type": "code",
      "source": [
        "#Reverse a String:\n",
        "#Take a string as input and print it in reverse using a while loop.\n",
        "\n",
        "text = input(\"Enter a string: \")\n",
        "index = len(text) - 1\n",
        "\n",
        "while index >= 0:\n",
        "  print(text[index], end=\"\")\n",
        "  index -= 1"
      ],
      "metadata": {
        "id": "OgEpLiHJ0kKz",
        "colab": {
          "base_uri": "https://localhost:8080/"
        },
        "outputId": "0f2b1c60-8836-4807-c613-e8bcc6948d9e"
      },
      "execution_count": 16,
      "outputs": [
        {
          "output_type": "stream",
          "name": "stdout",
          "text": [
            "Enter a string: MY NAME IS SOUMYA\n",
            "AYMUOS SI EMAN YM"
          ]
        }
      ]
    },
    {
      "cell_type": "code",
      "source": [
        "#Factorial Calculation:\n",
        "#Calculate the factorial of a number entered by the user using a while loop.\n",
        "\n",
        "num = int(input(\"Enter a number: \"))\n",
        "factorial = 1\n",
        "while num > 0:\n",
        "  factorial *= num\n",
        "  num -= 1\n",
        "\n",
        "print(\"Factorial:\", factorial)\n"
      ],
      "metadata": {
        "id": "Imy2jSJ80kO2",
        "colab": {
          "base_uri": "https://localhost:8080/"
        },
        "outputId": "d36f274f-64b1-4fea-f7c3-b58d31d414de"
      },
      "execution_count": 17,
      "outputs": [
        {
          "output_type": "stream",
          "name": "stdout",
          "text": [
            "Enter a number: 6\n",
            "Factorial: 720\n"
          ]
        }
      ]
    },
    {
      "cell_type": "markdown",
      "source": [
        "Here the code has a logic error. It will not calculate the correct factorial for the input number due to the order of operations inside the loop.\n",
        "\n",
        "# num = int(input(\"Enter a number:\"))\n",
        "This line prompts the user to enter a number and stores it in the \"num\" variable as an integer.\n",
        "\n",
        "# factorial = 1\n",
        "Here , you initialize the \"factorial\" variable to 1, which is correct for calculating the factorial.\n",
        "\n",
        "# while num > 0\n",
        "This line starts a while loop that should countinue as long as 'num' is greater than 0 , just like in the previous example.\n",
        "\n",
        "# num -= 1\n",
        "Inside the loop, you decrement 'num' by 1.This is correct:it's a step toward reaching the condition where 'num' becomes 0 and the loop terminates.\n",
        "\n",
        "#factorial *= num\n",
        "The problem lies here. You are multiplying 'factorial' by 'num' inside the loop before decrementing 'num'.This means you are multiplying 'factorial' by the current value of 'num' before decreasing it.\n",
        "\n",
        "This leads to incorrect results because you should multiply by the original value of 'num' before decrementing it."
      ],
      "metadata": {
        "id": "1xrlnzJLISKx"
      }
    },
    {
      "cell_type": "code",
      "source": [
        "num = int(input(\"Enter a number: \"))\n",
        "factorial = 1\n",
        "while num > 0:\n",
        "  num -= 1\n",
        "  factorial *= num\n",
        "print(\"Factorial:\", factorial)"
      ],
      "metadata": {
        "id": "mi1TWwrQ0kRZ",
        "colab": {
          "base_uri": "https://localhost:8080/"
        },
        "outputId": "9f6a15ab-1982-4fd0-d239-3d56a35756e4"
      },
      "execution_count": 18,
      "outputs": [
        {
          "output_type": "stream",
          "name": "stdout",
          "text": [
            "Enter a number: 6\n",
            "Factorial: 0\n"
          ]
        }
      ]
    },
    {
      "cell_type": "code",
      "source": [
        "#Prime Number Checker:\n",
        "#Ask the user to enter a number and determine whether it's prime or not using a while loop.\n",
        "\n",
        "num = int(input(\"Enter a number: \"))\n",
        "is_prime = True\n",
        "divisor = 2\n",
        "while divisor < num :\n",
        "  if num % divisor == 0:\n",
        "    is_prime = False\n",
        "    break\n",
        "\n",
        "  divisor += 1\n",
        "\n",
        "if is_prime:\n",
        "  print(num, \"is prime.\")\n",
        "else:\n",
        "  print(num, \"is not prime.\")"
      ],
      "metadata": {
        "colab": {
          "base_uri": "https://localhost:8080/"
        },
        "id": "wWKHWe3hMN2n",
        "outputId": "7587c8a4-db71-4387-f831-5fb21f11d2cb"
      },
      "execution_count": 19,
      "outputs": [
        {
          "output_type": "stream",
          "name": "stdout",
          "text": [
            "Enter a number: 21\n",
            "21 is not prime.\n"
          ]
        }
      ]
    },
    {
      "cell_type": "code",
      "source": [
        "#Number Guessing Game:\n",
        "#Create a number guessing game where the user has to guess a randomly generated number using a while loop.\n",
        "\n",
        "import random\n",
        "\n",
        "target = random.randint(1, 100)\n",
        "attempts = 0\n",
        "\n",
        "while True:\n",
        "  guess = int(input(\"Guess the number (1-100):\"))\n",
        "  attempts += 1\n",
        "\n",
        "  if guess == target:\n",
        "    print(\"Congratulations! You guessed it in\", attempts,\"attempts.\")\n",
        "    break\n",
        "  elif guess < target:\n",
        "    print(\"Try higher.\")\n",
        "  else:\n",
        "    print(\"Try lower.\")"
      ],
      "metadata": {
        "colab": {
          "base_uri": "https://localhost:8080/"
        },
        "id": "uFGM0ZgGMN50",
        "outputId": "49b3eb82-55e5-4ad1-f9ea-a6e783224c65"
      },
      "execution_count": 20,
      "outputs": [
        {
          "output_type": "stream",
          "name": "stdout",
          "text": [
            "Guess the number (1-100):34\n",
            "Try higher.\n",
            "Guess the number (1-100):45\n",
            "Try higher.\n",
            "Guess the number (1-100):46\n",
            "Try higher.\n",
            "Guess the number (1-100):76\n",
            "Try lower.\n",
            "Guess the number (1-100):56\n",
            "Try higher.\n",
            "Guess the number (1-100):66\n",
            "Try higher.\n",
            "Guess the number (1-100):68\n",
            "Congratulations! You guessed it in 7 attempts.\n"
          ]
        }
      ]
    },
    {
      "cell_type": "code",
      "source": [
        "#Power of a Number:\n",
        "#Calculate the result of raising a base number to an exponent using a while loop.\n",
        "\n",
        "base = int(input(\"Enter the base: \"))\n",
        "exponent = int(input(\"Enter the exponent: \"))\n",
        "result = 1\n",
        "\n",
        "while exponent > 0:\n",
        "  result *= base\n",
        "  exponent -= 1\n",
        "\n",
        "print(\"Result:\", result)"
      ],
      "metadata": {
        "colab": {
          "base_uri": "https://localhost:8080/"
        },
        "id": "crT-ElkOMN9d",
        "outputId": "7c67b1b7-88ca-459b-a1c2-5c4a8a6cafc9"
      },
      "execution_count": 22,
      "outputs": [
        {
          "output_type": "stream",
          "name": "stdout",
          "text": [
            "Enter the base: 3456\n",
            "Enter the exponent: 43\n",
            "Result: 144102180914865092036679373711749081923950047318462324467720521022303464592605145423453304022555895261782838683394451379740789708755825831710670261846016\n"
          ]
        }
      ]
    },
    {
      "cell_type": "code",
      "source": [
        "#Fibonacci Sequence:\n",
        "#Generate the first N Fibonacci numbers using a while loop.\n",
        "\n",
        "n = int(input(\"Enter the number of Fibonacci numbers to generate: \"))\n",
        "a, b = 0, 1\n",
        "count = 0\n",
        "\n",
        "while count < n:\n",
        "    print(a, end=\" \")\n",
        "    a, b = b, a + b\n",
        "    count += 1\n"
      ],
      "metadata": {
        "colab": {
          "base_uri": "https://localhost:8080/"
        },
        "id": "q0Ocg2X1MOBX",
        "outputId": "fe42bca6-33e1-47e7-ae30-237d62dca2dd"
      },
      "execution_count": 23,
      "outputs": [
        {
          "output_type": "stream",
          "name": "stdout",
          "text": [
            "Enter the number of Fibonacci numbers to generate: 34\n",
            "0 1 1 2 3 5 8 13 21 34 55 89 144 233 377 610 987 1597 2584 4181 6765 10946 17711 28657 46368 75025 121393 196418 317811 514229 832040 1346269 2178309 3524578 "
          ]
        }
      ]
    },
    {
      "cell_type": "code",
      "source": [
        "#Table of a Number:\n",
        "#Display the multiplication table of a number entered by the user using a while loop.\n",
        "\n",
        "num = int(input(\"Enter a number: \"))\n",
        "multiplier = 1\n",
        "\n",
        "while multiplier <= 10:\n",
        "    product = num * multiplier\n",
        "    print(num, \"x\", multiplier, \"=\", product)\n",
        "    multiplier += 1\n"
      ],
      "metadata": {
        "colab": {
          "base_uri": "https://localhost:8080/"
        },
        "id": "qjzLt-B0MOHf",
        "outputId": "b7261634-36aa-408d-9f72-c83c2d471f54"
      },
      "execution_count": 24,
      "outputs": [
        {
          "output_type": "stream",
          "name": "stdout",
          "text": [
            "Enter a number: 23\n",
            "23 x 1 = 23\n",
            "23 x 2 = 46\n",
            "23 x 3 = 69\n",
            "23 x 4 = 92\n",
            "23 x 5 = 115\n",
            "23 x 6 = 138\n",
            "23 x 7 = 161\n",
            "23 x 8 = 184\n",
            "23 x 9 = 207\n",
            "23 x 10 = 230\n"
          ]
        }
      ]
    },
    {
      "cell_type": "code",
      "source": [
        "#Password Verification:\n",
        "#Implement a simple password verification system where the user enters a password until it matches a predefined password.\n",
        "\n",
        "correct_password = 'secret'\n",
        "\n",
        "while True:\n",
        "  user_password = input(\"Enter the password: \")\n",
        "  if user_password == correct_password:\n",
        "    print('Access granted!')\n",
        "    break\n",
        "\n",
        "  else:\n",
        "    print(\"Incorrect password. Try again.\")"
      ],
      "metadata": {
        "colab": {
          "base_uri": "https://localhost:8080/"
        },
        "id": "vOIpzOY1Qfmj",
        "outputId": "9085bb48-f257-4834-fb02-59c7db2b4b32"
      },
      "execution_count": 25,
      "outputs": [
        {
          "output_type": "stream",
          "name": "stdout",
          "text": [
            "Enter the password: 23456\n",
            "Incorrect password. Try again.\n",
            "Enter the password: secret\n",
            "Access granted!\n"
          ]
        }
      ]
    },
    {
      "cell_type": "code",
      "source": [
        "#Calculate Average:\n",
        "#Compute the average of a list of numbers entered by the user using a while loop.\n",
        "\n",
        "total = 0\n",
        "count = 0\n",
        "\n",
        "while True:\n",
        "    num = float(input(\"Enter a number (or 0 to calculate the average): \"))\n",
        "    if num == 0:\n",
        "        break\n",
        "    total += num\n",
        "    count += 1\n",
        "\n",
        "if count > 0:\n",
        "    average = total / count\n",
        "    print(\"Average:\", average)\n",
        "else:\n",
        "    print(\"No numbers entered.\")"
      ],
      "metadata": {
        "id": "PwXGNECoMOJG"
      },
      "execution_count": null,
      "outputs": []
    },
    {
      "cell_type": "code",
      "source": [],
      "metadata": {
        "id": "t0I_LvW7MOK4"
      },
      "execution_count": null,
      "outputs": []
    },
    {
      "cell_type": "code",
      "source": [],
      "metadata": {
        "id": "LUvXReaSMOOV"
      },
      "execution_count": null,
      "outputs": []
    },
    {
      "cell_type": "code",
      "source": [],
      "metadata": {
        "id": "714RTm0jMOW6"
      },
      "execution_count": null,
      "outputs": []
    },
    {
      "cell_type": "code",
      "source": [],
      "metadata": {
        "id": "w3eiqizNMOY2"
      },
      "execution_count": null,
      "outputs": []
    },
    {
      "cell_type": "code",
      "source": [],
      "metadata": {
        "id": "0ydYdKiuMOaj"
      },
      "execution_count": null,
      "outputs": []
    },
    {
      "cell_type": "code",
      "source": [],
      "metadata": {
        "id": "jVeaGpfy0kU9"
      },
      "execution_count": null,
      "outputs": []
    },
    {
      "cell_type": "code",
      "source": [],
      "metadata": {
        "id": "D8ci88PB0kZA"
      },
      "execution_count": null,
      "outputs": []
    },
    {
      "cell_type": "code",
      "source": [],
      "metadata": {
        "id": "SnR13BQWmuFN"
      },
      "execution_count": null,
      "outputs": []
    }
  ]
}