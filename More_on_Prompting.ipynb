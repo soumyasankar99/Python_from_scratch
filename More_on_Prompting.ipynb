{
  "nbformat": 4,
  "nbformat_minor": 0,
  "metadata": {
    "colab": {
      "provenance": [],
      "authorship_tag": "ABX9TyNyAgRlQv00CUAOvm50xiB5",
      "include_colab_link": true
    },
    "kernelspec": {
      "name": "python3",
      "display_name": "Python 3"
    },
    "language_info": {
      "name": "python"
    }
  },
  "cells": [
    {
      "cell_type": "markdown",
      "metadata": {
        "id": "view-in-github",
        "colab_type": "text"
      },
      "source": [
        "<a href=\"https://colab.research.google.com/github/soumyasankar99/Python_from_scratch/blob/main/More_on_Prompting.ipynb\" target=\"_parent\"><img src=\"https://colab.research.google.com/assets/colab-badge.svg\" alt=\"Open In Colab\"/></a>"
      ]
    },
    {
      "cell_type": "markdown",
      "source": [
        "# **Prompting People**"
      ],
      "metadata": {
        "id": "D5eq3jd3e7u6"
      }
    },
    {
      "cell_type": "markdown",
      "source": [
        "Now it is time to pick up the pace. I have got you doing a lot of printing so that you get used to\n",
        "typing simple things, but those simple things are fairly boring. What we want to do now is get\n",
        "data into your programs. This is a little tricky because you have to learn to do two things that may\n",
        "not make sense right away, but trust me and do it anyway. It will make sense in a few exercises."
      ],
      "metadata": {
        "id": "eyh13EocXphW"
      }
    },
    {
      "cell_type": "markdown",
      "source": [
        "Most of what software does is the following: ⏰\n",
        "1. Take some kind of input from a person.\n",
        "\n",
        "2. Change it.\n",
        "\n",
        "3. Print out something to show how it changed.\n"
      ],
      "metadata": {
        "id": "bf08Pi5HXpb6"
      }
    },
    {
      "cell_type": "markdown",
      "source": [
        "So far you have only been printing, but you haven’t been able to get any input from a person or\n",
        "change it. ✅\n",
        "\n",
        "You may not even know what “input” means, so rather than talk about it, let’s have you\n",
        "do some and see if you get it. ✅"
      ],
      "metadata": {
        "id": "QjMfrJigXpWZ"
      }
    },
    {
      "cell_type": "code",
      "execution_count": 2,
      "metadata": {
        "colab": {
          "base_uri": "https://localhost:8080/"
        },
        "id": "6TN_-9iCWxWr",
        "outputId": "c7eb034e-a723-4c16-af92-ab2a5ae0a6c9"
      },
      "outputs": [
        {
          "output_type": "stream",
          "name": "stdout",
          "text": [
            "How old are you ?\n",
            "24\n",
            "How tall are you?\n",
            "5.9\n",
            "How much do you weigh?\n",
            "85\n",
            "So, you're '24' old, '5.9' tall and '85' heavy.\n"
          ]
        }
      ],
      "source": [
        "#ex\n",
        "\n",
        "print(\"How old are you ?\")\n",
        "age = input()\n",
        "print(\"How tall are you?\")\n",
        "height = input()\n",
        "print(\"How much do you weigh?\")\n",
        "weight = input()\n",
        "\n",
        "print(\"So, you're %r old, %r tall and %r heavy.\" %(age,height,weight))"
      ]
    },
    {
      "cell_type": "markdown",
      "source": [
        "NOTE: ❗\n",
        "\n",
        "Notice that we put a , (comma) at the end of each print line. This is so that\n",
        "print doesn’t end the line with a new line character and go to the next line."
      ],
      "metadata": {
        "id": "EcOvsEKDaJD3"
      }
    },
    {
      "cell_type": "markdown",
      "source": [
        "♈ When you typed input(), you were typing the ( and ) characters, which are parenthesis\n",
        "characters.\n",
        "\n",
        "\n",
        "\n",
        "\n",
        "♋ This is similar to when you used them to do a format with extra variables,\n",
        "as in \"%s %s\" % (x, y).\n",
        "\n",
        "\n",
        "♒ For input, you can also put in a prompt to show to a person\n",
        "so he knows what to type.\n",
        "\n",
        "\n",
        "♑ Put a string that you want for the prompt inside the () so that it looks\n",
        "like this:\n",
        "\n",
        "\n",
        "y = input(\"Name? \")\n",
        "\n",
        "\n",
        "✅ This prompts the user with “Name?” and puts the result into the variable y. This is how you ask\n",
        "someone a question and get the answer."
      ],
      "metadata": {
        "id": "2CmAqkjNfGMs"
      }
    },
    {
      "cell_type": "code",
      "source": [
        "age = input(\"How old are you? \")\n",
        "height = input(\"How tall are you? \")\n",
        "weight = input(\"How much do you weigh? \")\n",
        "\n",
        "print (\"So, you're %r old, %r tall and %r heavy.\" % (\n",
        " age, height, weight))"
      ],
      "metadata": {
        "colab": {
          "base_uri": "https://localhost:8080/"
        },
        "id": "mcxIw5u5dwW1",
        "outputId": "d71cca05-6db7-4547-a631-b5c4f7815b73"
      },
      "execution_count": 8,
      "outputs": [
        {
          "output_type": "stream",
          "name": "stdout",
          "text": [
            "How old are you? 24\n",
            "How tall are you? 5'9\n",
            "How much do you weigh? 85\n",
            "So, you're '24' old, \"5'9\" tall and '85' heavy.\n"
          ]
        }
      ]
    },
    {
      "cell_type": "markdown",
      "source": [
        "We will try some online Python's code and let's find what input does. ⚡\n",
        "\n",
        "Let's understand it in deep ✅"
      ],
      "metadata": {
        "id": "8zFkSz68bFmT"
      }
    },
    {
      "cell_type": "code",
      "source": [
        "# Taking input as string\n",
        "color = input(\"What color is rose?: \")\n",
        "print(color)\n",
        "\n",
        "# Taking input as int\n",
        "# Typecasting to int\n",
        "n = int(input(\"How many roses?: \"))\n",
        "print(n)\n",
        "\n",
        "# Taking input as float\n",
        "# Typecasting to float\n",
        "price = float(input(\"Price of each rose?: \"))\n",
        "print(price)"
      ],
      "metadata": {
        "colab": {
          "base_uri": "https://localhost:8080/",
          "height": 315
        },
        "id": "f-gtFnUOWy50",
        "outputId": "0df6c0ff-de48-48e2-86a4-5d31b0de8885"
      },
      "execution_count": 4,
      "outputs": [
        {
          "name": "stdout",
          "output_type": "stream",
          "text": [
            "What color is rose?: Red\n",
            "Red\n",
            "How many roses?: 40\n",
            "40\n",
            "Price of each rose?: 10 Rs.\n"
          ]
        },
        {
          "output_type": "error",
          "ename": "ValueError",
          "evalue": "ignored",
          "traceback": [
            "\u001b[0;31m---------------------------------------------------------------------------\u001b[0m",
            "\u001b[0;31mValueError\u001b[0m                                Traceback (most recent call last)",
            "\u001b[0;32m<ipython-input-4-ddcf56cd0420>\u001b[0m in \u001b[0;36m<cell line: 12>\u001b[0;34m()\u001b[0m\n\u001b[1;32m     10\u001b[0m \u001b[0;31m# Taking input as float\u001b[0m\u001b[0;34m\u001b[0m\u001b[0;34m\u001b[0m\u001b[0m\n\u001b[1;32m     11\u001b[0m \u001b[0;31m# Typecasting to float\u001b[0m\u001b[0;34m\u001b[0m\u001b[0;34m\u001b[0m\u001b[0m\n\u001b[0;32m---> 12\u001b[0;31m \u001b[0mprice\u001b[0m \u001b[0;34m=\u001b[0m \u001b[0mfloat\u001b[0m\u001b[0;34m(\u001b[0m\u001b[0minput\u001b[0m\u001b[0;34m(\u001b[0m\u001b[0;34m\"Price of each rose?: \"\u001b[0m\u001b[0;34m)\u001b[0m\u001b[0;34m)\u001b[0m\u001b[0;34m\u001b[0m\u001b[0;34m\u001b[0m\u001b[0m\n\u001b[0m\u001b[1;32m     13\u001b[0m \u001b[0mprint\u001b[0m\u001b[0;34m(\u001b[0m\u001b[0mprice\u001b[0m\u001b[0;34m)\u001b[0m\u001b[0;34m\u001b[0m\u001b[0;34m\u001b[0m\u001b[0m\n",
            "\u001b[0;31mValueError\u001b[0m: could not convert string to float: '10 Rs.'"
          ]
        }
      ]
    },
    {
      "cell_type": "markdown",
      "source": [
        "What we got here:\n",
        "\n",
        "*ValueError: could not convert string to float: '10 Rs.'*\n",
        "\n",
        "So we get that you can not put anything .\n",
        "\n",
        "You have put the specific thing that the input function requires. In this case input should be pure '*float*' not any '*string*' or any other *data type* attach to it"
      ],
      "metadata": {
        "id": "UkkSCzP6cMQf"
      }
    },
    {
      "cell_type": "code",
      "source": [
        "# Taking input as string\n",
        "color = input(\"What color is rose?: \")\n",
        "print(color)\n",
        "\n",
        "# Taking input as int\n",
        "# Typecasting to int\n",
        "n = int(input(\"How many roses?: \"))\n",
        "print(n)\n",
        "\n",
        "# Taking input as float\n",
        "# Typecasting to float\n",
        "price = float(input(\"Price of each rose?: \"))\n",
        "print(price)"
      ],
      "metadata": {
        "colab": {
          "base_uri": "https://localhost:8080/"
        },
        "id": "oa98BGWNWy9P",
        "outputId": "f6c0be8d-d885-4a7b-da16-c36aafca86db"
      },
      "execution_count": 5,
      "outputs": [
        {
          "output_type": "stream",
          "name": "stdout",
          "text": [
            "What color is rose?: Red\n",
            "Red\n",
            "How many roses?: 40\n",
            "40\n",
            "Price of each rose?: 10\n",
            "10.0\n"
          ]
        }
      ]
    },
    {
      "cell_type": "code",
      "source": [
        "# Taking number 1 from user as int\n",
        "num1 = int(input(\"Please Enter First Number: \"))\n",
        "\n",
        "# Taking number 2 from user as int\n",
        "num2 = int(input(\"Please Enter Second Number: \"))\n",
        "\n",
        "# adding num1 and num2 and storing them in\n",
        "# variable addition\n",
        "addition = num1 + num2\n",
        "\n",
        "# printing\n",
        "print(\"The sum of the two given numbers is {} \".format(addition))"
      ],
      "metadata": {
        "colab": {
          "base_uri": "https://localhost:8080/"
        },
        "id": "lue2l2zOWzA2",
        "outputId": "4fa4355f-2712-4cc2-f699-295d488da4a9"
      },
      "execution_count": 6,
      "outputs": [
        {
          "output_type": "stream",
          "name": "stdout",
          "text": [
            "Please Enter First Number: -30\n",
            "Please Enter Second Number: 1001\n",
            "The sum of the two given numbers is 971 \n"
          ]
        }
      ]
    },
    {
      "cell_type": "code",
      "source": [
        "name = input(\"What is your name? \")\n",
        "print(\"Hello, \" + name + \"!\")"
      ],
      "metadata": {
        "colab": {
          "base_uri": "https://localhost:8080/"
        },
        "id": "nV0G4wtSdwTd",
        "outputId": "69199a1e-d067-48b9-b56f-234d13a5d736"
      },
      "execution_count": 7,
      "outputs": [
        {
          "output_type": "stream",
          "name": "stdout",
          "text": [
            "What is your name? Soumya Sankar\n",
            "Hello, Soumya Sankar!\n"
          ]
        }
      ]
    }
  ]
}