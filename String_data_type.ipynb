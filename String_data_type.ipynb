{
  "nbformat": 4,
  "nbformat_minor": 0,
  "metadata": {
    "colab": {
      "provenance": [],
      "authorship_tag": "ABX9TyN+C7ZB2KRLauIbmAP0EgJz",
      "include_colab_link": true
    },
    "kernelspec": {
      "name": "python3",
      "display_name": "Python 3"
    },
    "language_info": {
      "name": "python"
    }
  },
  "cells": [
    {
      "cell_type": "markdown",
      "metadata": {
        "id": "view-in-github",
        "colab_type": "text"
      },
      "source": [
        "<a href=\"https://colab.research.google.com/github/soumyasankar99/Python_from_scratch/blob/main/String_data_type.ipynb\" target=\"_parent\"><img src=\"https://colab.research.google.com/assets/colab-badge.svg\" alt=\"Open In Colab\"/></a>"
      ]
    },
    {
      "cell_type": "markdown",
      "source": [
        "**STRING :**\n",
        "\n",
        "1) Text is a string data type.Any data type written as text is a string.\n",
        "\n",
        "2) Any data under single, double or triple quote are strings.\n",
        "\n",
        "3)There are different string methods and built-in functions to deal with string data types.\n",
        "\n",
        "4)To check the length of a string use the len() method.\n",
        "\n",
        "A string is usually a bit of text you want to display to someone or “export” out of the program\n",
        "you are writing. Python knows you want something to be a string when you put either \" (doublequotes)\n",
        "or ' (single- quotes) around the text. You saw this many times with your use of print\n",
        "when you put the text you want to go to the string inside \" or ' after the print. Then Python\n",
        "prints it.\n",
        "\n",
        "\n",
        "Strings may contain the format characters you have discovered so far. You simply put the formatted\n",
        "variables in the string, and then a % (percent) character, followed by the variable. The only\n",
        "catch is that if you want multiple formats in your string to print multiple variables, you need to\n",
        "put them inside ( ) (parentheses) separated by , (commas). It’s as if you were telling me to buy\n",
        "you a list of items from the store and you said, “I want milk, eggs, bread, and soup.” Only as a\n",
        "programmer we say, “(milk, eggs, bread, soup).”\n",
        "\n",
        "\n",
        "We will now type in a whole bunch of strings, variables, and formats, and print them. You will\n",
        "also practice using short abbreviated variable names. Programmers love saving themselves time\n",
        "at your expense by using annoying cryptic variable names, so let’s get you started being able to\n",
        "read and write them early on.\n",
        "\n"
      ],
      "metadata": {
        "id": "DlLyTfjMUPIh"
      }
    },
    {
      "cell_type": "markdown",
      "source": [
        "**Creatnig a String**"
      ],
      "metadata": {
        "id": "7KUiMWr8WewJ"
      }
    },
    {
      "cell_type": "code",
      "execution_count": 1,
      "metadata": {
        "colab": {
          "base_uri": "https://localhost:8080/"
        },
        "id": "sgEGJwmzT7ig",
        "outputId": "53bb03c0-7ad5-4d11-c6c9-a9be24992ad0"
      },
      "outputs": [
        {
          "output_type": "stream",
          "name": "stdout",
          "text": [
            "hii!, Soumya\n",
            "12\n"
          ]
        }
      ],
      "source": [
        "prompt =\"hii!, Soumya\"  #creatning a string\n",
        "print(\"hii!, Soumya\")   # hii!,Soumya\n",
        "print(len(prompt))      # length of the string is 12"
      ]
    },
    {
      "cell_type": "code",
      "source": [
        "letter ='S'    #A string could be a single charecter\n",
        "print(letter)\n",
        "print(len(letter))"
      ],
      "metadata": {
        "colab": {
          "base_uri": "https://localhost:8080/"
        },
        "id": "dda9ouulWX7b",
        "outputId": "e6078005-e968-4791-b0f9-1af9b0e18180"
      },
      "execution_count": 2,
      "outputs": [
        {
          "output_type": "stream",
          "name": "stdout",
          "text": [
            "S\n",
            "1\n"
          ]
        }
      ]
    },
    {
      "cell_type": "code",
      "source": [
        "sentence = \"I hope you are enjoying Reading This repo.\"\n",
        "print(sentence)"
      ],
      "metadata": {
        "colab": {
          "base_uri": "https://localhost:8080/"
        },
        "id": "IxgAr7A9UEs4",
        "outputId": "843ccc4e-51ca-43f1-a71a-c5e3939c2feb"
      },
      "execution_count": 3,
      "outputs": [
        {
          "output_type": "stream",
          "name": "stdout",
          "text": [
            "I hope you are enjoying Reading This repo.\n"
          ]
        }
      ]
    },
    {
      "cell_type": "markdown",
      "source": [
        "Multiline string is created by using triple single (''') or triple double quotes (\"\"\")"
      ],
      "metadata": {
        "id": "4_WgHDxXXxCL"
      }
    },
    {
      "cell_type": "code",
      "source": [
        "multiline_string = ''' Hi my name is Soumya sankar and a Math Teacher .I have done my Post Graduation in Mathematics.I am creating this repo For everyone to help them to streamlite there coding journy with python.GOOD LUCK.'''\n",
        "print(multiline_string)"
      ],
      "metadata": {
        "colab": {
          "base_uri": "https://localhost:8080/"
        },
        "id": "GenxVas1UEwv",
        "outputId": "90fd101d-c7aa-40d1-d1b8-54735dc0e497"
      },
      "execution_count": 4,
      "outputs": [
        {
          "output_type": "stream",
          "name": "stdout",
          "text": [
            " Hi my name is Soumya sankar and a Math Teacher .I have done my Post Graduation in Mathematics.I am creating this repo For everyone to help them to streamlite there coding journy with python.GOOD LUCK.\n"
          ]
        }
      ]
    },
    {
      "cell_type": "markdown",
      "source": [
        "Lets find a passage of text in wikipedia in the context of oppenhimer."
      ],
      "metadata": {
        "id": "XTJ9kJu-Ysbp"
      }
    },
    {
      "cell_type": "code",
      "source": [
        "txt = '''Oppenheimer (/ˈɒpənhaɪmər/ OP-ən-hy-mər) is a 2023 epic biographical thriller film[5] written and directed by Christopher Nolan. Based on the 2005 biography American Prometheus by Kai Bird and Martin J. Sherwin, the film chronicles the career of American theoretical physicist J. Robert Oppenheimer. The story predominantly focuses on Oppenheimer's studies, his direction of the Manhattan Project during World War II, and his eventual fall from grace due to his 1954 security hearing. The film stars Cillian Murphy as the title character, Emily Blunt as his wife, \"Kitty\", Matt Damon as head of the Manhattan Project Leslie Groves, Robert Downey Jr. as U.S. Atomic Energy Commission member Lewis Strauss, and Florence Pugh as Communist Party USA member Jean Tatlock. The ensemble supporting cast includes Josh Hartnett, Casey Affleck, Rami Malek, and Kenneth Branagh.\n",
        "The film was announced in September 2021 after Universal Pictures won a bidding war for Nolan's screenplay, following Nolan's conflict with longtime distributor Warner Bros. Murphy was the first cast member to sign on the following month, with the rest of the cast joining between November 2021 and April 2022. Pre-production was under way by January 2022, and filming took place from February to May. Oppenheimer was filmed in a combination of IMAX 65 mm and 65 mm large-format film, including, for the first time in history, sections in IMAX black-and-white film photography. Like his previous works, Nolan used extensive practical effects and minimal computer-generated imagery. Oppenheimer is Nolan's first film to receive an R-rating in the United States since Insomnia in 2002.'''\n",
        "\n",
        "print(txt)"
      ],
      "metadata": {
        "colab": {
          "base_uri": "https://localhost:8080/"
        },
        "id": "7ahZ_t7nYgqm",
        "outputId": "d8ce7de5-7317-46d0-d94a-fa1ae474367e"
      },
      "execution_count": 5,
      "outputs": [
        {
          "output_type": "stream",
          "name": "stdout",
          "text": [
            "Oppenheimer (/ˈɒpənhaɪmər/ OP-ən-hy-mər) is a 2023 epic biographical thriller film[5] written and directed by Christopher Nolan. Based on the 2005 biography American Prometheus by Kai Bird and Martin J. Sherwin, the film chronicles the career of American theoretical physicist J. Robert Oppenheimer. The story predominantly focuses on Oppenheimer's studies, his direction of the Manhattan Project during World War II, and his eventual fall from grace due to his 1954 security hearing. The film stars Cillian Murphy as the title character, Emily Blunt as his wife, \"Kitty\", Matt Damon as head of the Manhattan Project Leslie Groves, Robert Downey Jr. as U.S. Atomic Energy Commission member Lewis Strauss, and Florence Pugh as Communist Party USA member Jean Tatlock. The ensemble supporting cast includes Josh Hartnett, Casey Affleck, Rami Malek, and Kenneth Branagh.\n",
            "The film was announced in September 2021 after Universal Pictures won a bidding war for Nolan's screenplay, following Nolan's conflict with longtime distributor Warner Bros. Murphy was the first cast member to sign on the following month, with the rest of the cast joining between November 2021 and April 2022. Pre-production was under way by January 2022, and filming took place from February to May. Oppenheimer was filmed in a combination of IMAX 65 mm and 65 mm large-format film, including, for the first time in history, sections in IMAX black-and-white film photography. Like his previous works, Nolan used extensive practical effects and minimal computer-generated imagery. Oppenheimer is Nolan's first film to receive an R-rating in the United States since Insomnia in 2002.\n"
          ]
        }
      ]
    },
    {
      "cell_type": "code",
      "source": [
        "x = \"There are %d types of people.\" % 10\n",
        "binary = \"binary\"\n",
        "do_not = \"don't\"\n",
        "y = \"Those who know %s and those who %s.\" % (binary, do_not)\n",
        "\n",
        "print (x)\n",
        "print (y)\n",
        "\n",
        "print (\"I said: %r.\" % x)\n",
        "\n",
        "print (\"I also said: '%s'.\" % y)\n",
        "\n",
        "\n",
        "hilarious = False\n",
        "\n",
        "joke_evaluation = \"Isn't that joke so funny?! %r\"\n",
        "\n",
        "print (joke_evaluation % hilarious)\n",
        "\n",
        "w = \"This is the left side of...\"\n",
        "e = \"a string with a right side.\"\n",
        "\n",
        "print(w+e)"
      ],
      "metadata": {
        "colab": {
          "base_uri": "https://localhost:8080/"
        },
        "id": "c0ZFeoF7Ygt7",
        "outputId": "93c03767-4051-46d2-ce47-7aac03245cfa"
      },
      "execution_count": 6,
      "outputs": [
        {
          "output_type": "stream",
          "name": "stdout",
          "text": [
            "There are 10 types of people.\n",
            "Those who know binary and those who don't.\n",
            "I said: 'There are 10 types of people.'.\n",
            "I also said: 'Those who know binary and those who don't.'.\n",
            "Isn't that joke so funny?! False\n",
            "This is the left side of...a string with a right side.\n"
          ]
        }
      ]
    },
    {
      "cell_type": "markdown",
      "source": [
        "I know this is too much , but belive me we will break down those thing when we move on to next things in *Strings*"
      ],
      "metadata": {
        "id": "bvRA4x1haaVs"
      }
    },
    {
      "cell_type": "markdown",
      "source": [
        "String Concatenation:\n",
        "\n",
        "We can connect strings together. Merging or connecting strings is called concatenation."
      ],
      "metadata": {
        "id": "9ks85UUoa9oC"
      }
    },
    {
      "cell_type": "code",
      "source": [
        "first_name = \"Soumya\"\n",
        "middle_name = \"Sankar\"\n",
        "last_name = \"Panda\"\n",
        "space = ' '\n",
        "\n",
        "full_name = space + first_name + middle_name + last_name + space\n",
        "print(full_name)"
      ],
      "metadata": {
        "colab": {
          "base_uri": "https://localhost:8080/"
        },
        "id": "cM40cxwoYgxt",
        "outputId": "c384438c-1ef6-4d78-acb6-a97d2c07ac33"
      },
      "execution_count": 13,
      "outputs": [
        {
          "output_type": "stream",
          "name": "stdout",
          "text": [
            " SoumyaSankarPanda \n"
          ]
        }
      ]
    },
    {
      "cell_type": "code",
      "source": [
        "print(\"This the length of 1st Name:\", first_name)\n",
        "print(\"This the length of last Name:\", last_name)\n",
        "print(\"Print True or False:\", len(first_name) > len(last_name))"
      ],
      "metadata": {
        "colab": {
          "base_uri": "https://localhost:8080/"
        },
        "id": "X7PrdnGsYlbt",
        "outputId": "d42f12f6-b4f5-4020-f0cc-2a2eac20f23c"
      },
      "execution_count": 12,
      "outputs": [
        {
          "output_type": "stream",
          "name": "stdout",
          "text": [
            "This the length of 1st Name: Soumya\n",
            "This the length of last Name: Panda\n",
            "Print True or False: True\n"
          ]
        }
      ]
    },
    {
      "cell_type": "markdown",
      "source": [
        "**Escape Sequences in Strings:**\n",
        "\n",
        "In Python and other programming languages \\ followed by a character is an escape sequence.\n",
        "\n",
        "1) \\n: new line\n",
        "\n",
        "2) \\t: Tab means(8 spaces)\n",
        "\n",
        "3) \\\\: Back slash\n",
        "\n",
        "4) \\': Single quote (')\n",
        "\n",
        "5) \\\": Double quote (\")"
      ],
      "metadata": {
        "id": "_XJIkhJQhtIL"
      }
    },
    {
      "cell_type": "code",
      "source": [
        "print('I hope everyone is enjoying thIS Python REPO.\\nAre you ?') # line break\n",
        "print('Days\\tTopics\\tExercises') # adding tab space or 4 spaces\n",
        "print('Day 1\\t5\\t5')\n",
        "print('Day 2\\t6\\t20')\n",
        "print('Day 3\\t5\\t23')\n",
        "print('Day 4\\t1\\t35')\n",
        "print('This is a backslash  symbol (\\\\)') # To write a backslash\n",
        "print('In every programming language it starts with \\\"Hello, World!\\\"') # to write a double quote inside a single quote\n",
        "\n"
      ],
      "metadata": {
        "colab": {
          "base_uri": "https://localhost:8080/"
        },
        "id": "W9QkggOaYlnw",
        "outputId": "fdb424ff-e142-4ff4-b494-25ae9981cf22"
      },
      "execution_count": 14,
      "outputs": [
        {
          "output_type": "stream",
          "name": "stdout",
          "text": [
            "I hope everyone is enjoying thIS Python REPO.\n",
            "Are you ?\n",
            "Days\tTopics\tExercises\n",
            "Day 1\t5\t5\n",
            "Day 2\t6\t20\n",
            "Day 3\t5\t23\n",
            "Day 4\t1\t35\n",
            "This is a backslash  symbol (\\)\n",
            "In every programming language it starts with \"Hello, World!\"\n"
          ]
        }
      ]
    },
    {
      "cell_type": "markdown",
      "source": [
        "**String Formatting (% Operator) -- Old stlye:**\n",
        "\n",
        "---\n",
        "\n",
        "\n",
        "\n",
        "In Python there are many ways of formatting strings. In this section, we will cover some of them.\n",
        "\n",
        "The \"%\" operator is used to format a set of variables enclosed in a \"tuple\" (a fixed size list), together with a format string, which contains normal text together with \"argument specifiers\", special symbols like \"%s\", \"%d\", \"%f\", \"%.number of digitsf\".\n",
        "\n",
        "%s - String (or any object with a string representation, like numbers)\n",
        "\n",
        "%d - Integers\n",
        "\n",
        "%f - Floating point numbers\n",
        "\n",
        "\"%.number of digitsf\" - Floating point numbers with fixed precision"
      ],
      "metadata": {
        "id": "ZZgSL0Ldi0EK"
      }
    },
    {
      "cell_type": "code",
      "source": [
        "# Strings only\n",
        "first_name = 'Soumya'\n",
        "last_name = 'Panda'\n",
        "language = 'Python'\n",
        "formated_string = 'I am %s %s. I teach %s' %(first_name, last_name, language)\n",
        "print(formated_string)"
      ],
      "metadata": {
        "colab": {
          "base_uri": "https://localhost:8080/"
        },
        "id": "n_GC8D_rYl3W",
        "outputId": "115e005a-a7a0-4045-d185-e16774fbae88"
      },
      "execution_count": 15,
      "outputs": [
        {
          "output_type": "stream",
          "name": "stdout",
          "text": [
            "I am Soumya Panda. I teach Python\n"
          ]
        }
      ]
    },
    {
      "cell_type": "code",
      "source": [
        "# Strings  and numbers\n",
        "radius = 10\n",
        "pi = 3.14\n",
        "area = pi * radius ** 2\n",
        "formated_string = 'The area of circle with a radius %d is %.2f.' %(radius, area) # 2 refers the 2 significant digits after the point"
      ],
      "metadata": {
        "id": "01Phv_AVjH-n"
      },
      "execution_count": 16,
      "outputs": []
    },
    {
      "cell_type": "code",
      "source": [
        "python_libraries = ['Django', 'Flask', 'NumPy', 'Matplotlib','Pandas']\n",
        "formated_string = 'The following are python libraries:%s' % (python_libraries)\n",
        "print(formated_string) # \"The following are python libraries:['Django', 'Flask', 'NumPy', 'Matplotlib','Pandas']\""
      ],
      "metadata": {
        "colab": {
          "base_uri": "https://localhost:8080/"
        },
        "id": "ADBLBEFVjIC3",
        "outputId": "17fda287-40cd-42c6-d241-45b8c1764358"
      },
      "execution_count": 17,
      "outputs": [
        {
          "output_type": "stream",
          "name": "stdout",
          "text": [
            "The following are python libraries:['Django', 'Flask', 'NumPy', 'Matplotlib', 'Pandas']\n"
          ]
        }
      ]
    },
    {
      "cell_type": "markdown",
      "source": [
        " **String Formatting (str.format)--New Style**\n",
        "\n",
        "---\n",
        "This formatting is introduced in Python version 3.\n"
      ],
      "metadata": {
        "id": "yiyMGxCyj1z1"
      }
    },
    {
      "cell_type": "code",
      "source": [
        "first_name = 'Soumya'\n",
        "last_name = 'panda'\n",
        "language = 'Python'\n",
        "formated_string = 'I am {} {}. I teach {}'.format(first_name, last_name, language)\n",
        "print(formated_string)"
      ],
      "metadata": {
        "colab": {
          "base_uri": "https://localhost:8080/"
        },
        "id": "HheHKYotj1cL",
        "outputId": "e4ac51dc-271e-4399-a8ec-be44b3ea1dac"
      },
      "execution_count": 19,
      "outputs": [
        {
          "output_type": "stream",
          "name": "stdout",
          "text": [
            "I am Soumya panda. I teach Python\n"
          ]
        }
      ]
    },
    {
      "cell_type": "code",
      "source": [
        "a = 4\n",
        "b = 3\n",
        "\n",
        "print('{} + {} = {}'.format(a, b, a + b))\n",
        "print('{} - {} = {}'.format(a, b, a - b))\n",
        "print('{} * {} = {}'.format(a, b, a * b))\n",
        "print('{} / {} = {:.2f}'.format(a, b, a / b)) # limits it to two digits after decimal\n",
        "print('{} % {} = {}'.format(a, b, a % b))\n",
        "print('{} // {} = {}'.format(a, b, a // b))\n",
        "print('{} ** {} = {}'.format(a, b, a ** b))"
      ],
      "metadata": {
        "colab": {
          "base_uri": "https://localhost:8080/"
        },
        "id": "1jv1MAzpj1OD",
        "outputId": "c45dcd32-2f69-4a0f-aa48-8b883bd7da11"
      },
      "execution_count": 20,
      "outputs": [
        {
          "output_type": "stream",
          "name": "stdout",
          "text": [
            "4 + 3 = 7\n",
            "4 - 3 = 1\n",
            "4 * 3 = 12\n",
            "4 / 3 = 1.33\n",
            "4 % 3 = 1\n",
            "4 // 3 = 1\n",
            "4 ** 3 = 64\n"
          ]
        }
      ]
    },
    {
      "cell_type": "code",
      "source": [
        "# Strings  and numbers\n",
        "radius = 10\n",
        "pi = 3.14\n",
        "area = pi * radius ** 2\n",
        "formated_string = 'The area of a circle with a radius {} is {:.2f}.'.format(radius, area) # 2 digits after decimal\n",
        "print(formated_string)"
      ],
      "metadata": {
        "colab": {
          "base_uri": "https://localhost:8080/"
        },
        "id": "sVqhpUaEj1Aw",
        "outputId": "40a4d1ca-7c41-4ec9-b11a-a30d339a4907"
      },
      "execution_count": 21,
      "outputs": [
        {
          "output_type": "stream",
          "name": "stdout",
          "text": [
            "The area of a circle with a radius 10 is 314.00.\n"
          ]
        }
      ]
    },
    {
      "cell_type": "markdown",
      "source": [
        "**tring Interpolation / f-Strings (Python **3.6+):\n",
        "\n",
        "---\n",
        "\n",
        "\n",
        "\n",
        "Another new string formatting is string interpolation, f-strings.\n",
        "\n",
        "Strings start with f and we can inject the data in their corresponding positions"
      ],
      "metadata": {
        "id": "NabH4s-fkrx_"
      }
    },
    {
      "cell_type": "code",
      "source": [
        "a = 4\n",
        "b = 3\n",
        "print(f'{a} + {b} = {a +b}')\n",
        "print(f'{a} - {b} = {a - b}')\n",
        "print(f'{a} * {b} = {a * b}')\n",
        "print(f'{a} / {b} = {a / b:.2f}')\n",
        "print(f'{a} % {b} = {a % b}')\n",
        "print(f'{a} // {b} = {a // b}')\n",
        "print(f'{a} ** {b} = {a ** b}')"
      ],
      "metadata": {
        "colab": {
          "base_uri": "https://localhost:8080/"
        },
        "id": "uVgJ2wU4j09R",
        "outputId": "894ad47c-08a8-4491-f6c9-fed71df0e135"
      },
      "execution_count": 22,
      "outputs": [
        {
          "output_type": "stream",
          "name": "stdout",
          "text": [
            "4 + 3 = 7\n",
            "4 - 3 = 1\n",
            "4 * 3 = 12\n",
            "4 / 3 = 1.33\n",
            "4 % 3 = 1\n",
            "4 // 3 = 1\n",
            "4 ** 3 = 64\n"
          ]
        }
      ]
    },
    {
      "cell_type": "markdown",
      "source": [
        "**String Methods**\n",
        "\n",
        "There are many string methods which allow us to format strings.\n",
        "\n",
        "capitalize(): Converts the first character of the string to capital letter"
      ],
      "metadata": {
        "id": "Tmu9rMh_pZWl"
      }
    },
    {
      "cell_type": "markdown",
      "source": [
        "![str_sc_short.png](data:image/png;base64,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)"
      ],
      "metadata": {
        "id": "DP2NUMGbAjZN"
      }
    },
    {
      "cell_type": "markdown",
      "source": [
        "to find more string methods option just TYPE: str (variables). -- Ctrl + tab"
      ],
      "metadata": {
        "id": "f51P8B6uAzQy"
      }
    },
    {
      "cell_type": "code",
      "source": [
        "challenge = 'I love coding '\n",
        "print(challenge.capitalize()) # I  love coding"
      ],
      "metadata": {
        "colab": {
          "base_uri": "https://localhost:8080/"
        },
        "id": "CpRlDvDXjIII",
        "outputId": "68a26902-0448-4966-dd91-f6f107b350a3"
      },
      "execution_count": 23,
      "outputs": [
        {
          "output_type": "stream",
          "name": "stdout",
          "text": [
            "I love coding \n"
          ]
        }
      ]
    },
    {
      "cell_type": "markdown",
      "source": [
        "count(): returns occurrences of substring in string, count(substring, start=.., end=..).\n",
        "\n",
        " The start is a starting indexing for counting and end is the last index to count."
      ],
      "metadata": {
        "id": "bLyU-3dbqCUt"
      }
    },
    {
      "cell_type": "code",
      "source": [
        "challenge = 'thirty days of python'\n",
        "print(challenge.count('y')) # 3\n",
        "print(challenge.count('y', 7, 14)) # 1,\n",
        "print(challenge.count('th')) # 2`"
      ],
      "metadata": {
        "colab": {
          "base_uri": "https://localhost:8080/"
        },
        "id": "cIlZlnrEjIK7",
        "outputId": "976c7dc3-9d88-46b0-dd24-9b0a129cf08e"
      },
      "execution_count": 24,
      "outputs": [
        {
          "output_type": "stream",
          "name": "stdout",
          "text": [
            "3\n",
            "1\n",
            "2\n"
          ]
        }
      ]
    },
    {
      "cell_type": "markdown",
      "source": [
        "endswith(): Checks if a string ends with a specified ending"
      ],
      "metadata": {
        "id": "Raye4NznqO-U"
      }
    },
    {
      "cell_type": "code",
      "source": [
        "challenge = 'thirty days of python'\n",
        "print(challenge.endswith('on'))   # True\n",
        "print(challenge.endswith('tion')) # False"
      ],
      "metadata": {
        "colab": {
          "base_uri": "https://localhost:8080/"
        },
        "id": "2xmQhHEIjIOI",
        "outputId": "659f5bed-6f39-4599-ca1f-3dc4b4d91b40"
      },
      "execution_count": 25,
      "outputs": [
        {
          "output_type": "stream",
          "name": "stdout",
          "text": [
            "True\n",
            "False\n"
          ]
        }
      ]
    },
    {
      "cell_type": "markdown",
      "source": [
        "expandtabs(): Replaces tab character with spaces, default tab size is 8. It takes tab size argument"
      ],
      "metadata": {
        "id": "7wKM_SrQqZFb"
      }
    },
    {
      "cell_type": "code",
      "source": [
        "challenge = 'thirty\\tdays\\tof\\tpython'\n",
        "print(challenge.expandtabs())   # 'thirty  days    of      python'\n",
        "print(challenge.expandtabs(10)) # 'thirty    days      of        python'"
      ],
      "metadata": {
        "colab": {
          "base_uri": "https://localhost:8080/"
        },
        "id": "fDd5xHQRjISG",
        "outputId": "6db523e0-17a4-4b1b-f6be-b3b4e91f5a97"
      },
      "execution_count": 26,
      "outputs": [
        {
          "output_type": "stream",
          "name": "stdout",
          "text": [
            "thirty  days    of      python\n",
            "thirty    days      of        python\n"
          ]
        }
      ]
    },
    {
      "cell_type": "markdown",
      "source": [
        "find(): Returns the index of the first occurrence of a substring, if not found returns -1\n"
      ],
      "metadata": {
        "id": "pUAzAlqcqgR4"
      }
    },
    {
      "cell_type": "code",
      "source": [
        "challenge = 'thirty days of python'\n",
        "print(challenge.find('y'))  # 5\n",
        "print(challenge.find('th')) # 0"
      ],
      "metadata": {
        "colab": {
          "base_uri": "https://localhost:8080/"
        },
        "id": "-zKiNl3EjIbt",
        "outputId": "a4962125-d8ff-424f-d63f-9399e3798f83"
      },
      "execution_count": 27,
      "outputs": [
        {
          "output_type": "stream",
          "name": "stdout",
          "text": [
            "5\n",
            "0\n"
          ]
        }
      ]
    },
    {
      "cell_type": "markdown",
      "source": [
        "rfind(): Returns the index of the last occurrence of a substring, if not found returns -1"
      ],
      "metadata": {
        "id": "1dmH0TGLqtU7"
      }
    },
    {
      "cell_type": "code",
      "source": [
        "challenge = 'thirty days of python'\n",
        "print(challenge.rfind('y'))  # 16\n",
        "print(challenge.rfind('th')) # 17"
      ],
      "metadata": {
        "colab": {
          "base_uri": "https://localhost:8080/"
        },
        "id": "SmeOTsR9jIdc",
        "outputId": "f228f826-22cd-4617-9a78-6842e5e41f89"
      },
      "execution_count": 28,
      "outputs": [
        {
          "output_type": "stream",
          "name": "stdout",
          "text": [
            "16\n",
            "17\n"
          ]
        }
      ]
    },
    {
      "cell_type": "markdown",
      "source": [
        "format(): formats string into a nicer output"
      ],
      "metadata": {
        "id": "F35rhUeg86TS"
      }
    },
    {
      "cell_type": "code",
      "source": [
        "radius = 10\n",
        "pi = 3.14\n",
        "area = pi * radius ** 2\n",
        "result = 'The area of a circle with radius {} is {}'.format(str(radius), str(area))\n",
        "print(result) # The area of a circle with radius 10 is 314\n"
      ],
      "metadata": {
        "colab": {
          "base_uri": "https://localhost:8080/"
        },
        "id": "ebuk7rpzYl4T",
        "outputId": "294966a1-d2b6-4bac-8994-1357b0719eb3"
      },
      "execution_count": 1,
      "outputs": [
        {
          "output_type": "stream",
          "name": "stdout",
          "text": [
            "The area of a circle with radius 10 is 314.0\n"
          ]
        }
      ]
    },
    {
      "cell_type": "markdown",
      "source": [
        "index(): Returns the lowest index of a substring, additional arguments indicate starting and ending index (default 0 and string length - 1).\n",
        "\n",
        "If the substring is not found it raises a valueError.\n",
        "'"
      ],
      "metadata": {
        "id": "GMSLghTf9INs"
      }
    },
    {
      "cell_type": "code",
      "source": [
        "challenge = 'thirty days of python'\n",
        "sub_string = 'da'\n",
        "print(challenge.index(sub_string))  # 7\n",
        "print(challenge.index(sub_string, 9)) # error"
      ],
      "metadata": {
        "colab": {
          "base_uri": "https://localhost:8080/",
          "height": 228
        },
        "id": "fG-vHWQwYl5N",
        "outputId": "b2e121c9-5868-49ea-ab2b-6dabbbb45778"
      },
      "execution_count": 2,
      "outputs": [
        {
          "output_type": "stream",
          "name": "stdout",
          "text": [
            "7\n"
          ]
        },
        {
          "output_type": "error",
          "ename": "ValueError",
          "evalue": "ignored",
          "traceback": [
            "\u001b[0;31m---------------------------------------------------------------------------\u001b[0m",
            "\u001b[0;31mValueError\u001b[0m                                Traceback (most recent call last)",
            "\u001b[0;32m<ipython-input-2-9fa05d353ca9>\u001b[0m in \u001b[0;36m<cell line: 4>\u001b[0;34m()\u001b[0m\n\u001b[1;32m      2\u001b[0m \u001b[0msub_string\u001b[0m \u001b[0;34m=\u001b[0m \u001b[0;34m'da'\u001b[0m\u001b[0;34m\u001b[0m\u001b[0;34m\u001b[0m\u001b[0m\n\u001b[1;32m      3\u001b[0m \u001b[0mprint\u001b[0m\u001b[0;34m(\u001b[0m\u001b[0mchallenge\u001b[0m\u001b[0;34m.\u001b[0m\u001b[0mindex\u001b[0m\u001b[0;34m(\u001b[0m\u001b[0msub_string\u001b[0m\u001b[0;34m)\u001b[0m\u001b[0;34m)\u001b[0m  \u001b[0;31m# 7\u001b[0m\u001b[0;34m\u001b[0m\u001b[0;34m\u001b[0m\u001b[0m\n\u001b[0;32m----> 4\u001b[0;31m \u001b[0mprint\u001b[0m\u001b[0;34m(\u001b[0m\u001b[0mchallenge\u001b[0m\u001b[0;34m.\u001b[0m\u001b[0mindex\u001b[0m\u001b[0;34m(\u001b[0m\u001b[0msub_string\u001b[0m\u001b[0;34m,\u001b[0m \u001b[0;36m9\u001b[0m\u001b[0;34m)\u001b[0m\u001b[0;34m)\u001b[0m \u001b[0;31m# error\u001b[0m\u001b[0;34m\u001b[0m\u001b[0;34m\u001b[0m\u001b[0m\n\u001b[0m",
            "\u001b[0;31mValueError\u001b[0m: substring not found"
          ]
        }
      ]
    },
    {
      "cell_type": "markdown",
      "source": [
        "rindex(): Returns the highest index of a substring, additional arguments indicate starting and ending index (default 0 and string length - 1)"
      ],
      "metadata": {
        "id": "UxBY-p859wUM"
      }
    },
    {
      "cell_type": "code",
      "source": [
        "challenge = 'thirty days of python'\n",
        "sub_string = 'da'\n",
        "print(challenge.rindex(sub_string))  # 8\n",
        "print(challenge.rindex(sub_string, 9)) # error"
      ],
      "metadata": {
        "colab": {
          "base_uri": "https://localhost:8080/",
          "height": 228
        },
        "id": "p7UqWm2yYmF0",
        "outputId": "52db0265-a3fa-4f3c-9058-ea976bf4f4ea"
      },
      "execution_count": 3,
      "outputs": [
        {
          "output_type": "stream",
          "name": "stdout",
          "text": [
            "7\n"
          ]
        },
        {
          "output_type": "error",
          "ename": "ValueError",
          "evalue": "ignored",
          "traceback": [
            "\u001b[0;31m---------------------------------------------------------------------------\u001b[0m",
            "\u001b[0;31mValueError\u001b[0m                                Traceback (most recent call last)",
            "\u001b[0;32m<ipython-input-3-07b36950ba6c>\u001b[0m in \u001b[0;36m<cell line: 4>\u001b[0;34m()\u001b[0m\n\u001b[1;32m      2\u001b[0m \u001b[0msub_string\u001b[0m \u001b[0;34m=\u001b[0m \u001b[0;34m'da'\u001b[0m\u001b[0;34m\u001b[0m\u001b[0;34m\u001b[0m\u001b[0m\n\u001b[1;32m      3\u001b[0m \u001b[0mprint\u001b[0m\u001b[0;34m(\u001b[0m\u001b[0mchallenge\u001b[0m\u001b[0;34m.\u001b[0m\u001b[0mrindex\u001b[0m\u001b[0;34m(\u001b[0m\u001b[0msub_string\u001b[0m\u001b[0;34m)\u001b[0m\u001b[0;34m)\u001b[0m  \u001b[0;31m# 8\u001b[0m\u001b[0;34m\u001b[0m\u001b[0;34m\u001b[0m\u001b[0m\n\u001b[0;32m----> 4\u001b[0;31m \u001b[0mprint\u001b[0m\u001b[0;34m(\u001b[0m\u001b[0mchallenge\u001b[0m\u001b[0;34m.\u001b[0m\u001b[0mrindex\u001b[0m\u001b[0;34m(\u001b[0m\u001b[0msub_string\u001b[0m\u001b[0;34m,\u001b[0m \u001b[0;36m9\u001b[0m\u001b[0;34m)\u001b[0m\u001b[0;34m)\u001b[0m \u001b[0;31m# error\u001b[0m\u001b[0;34m\u001b[0m\u001b[0;34m\u001b[0m\u001b[0m\n\u001b[0m",
            "\u001b[0;31mValueError\u001b[0m: substring not found"
          ]
        }
      ]
    },
    {
      "cell_type": "markdown",
      "source": [
        "isalnum(): Checks alphanumeric character"
      ],
      "metadata": {
        "id": "XhR-IJYp92bb"
      }
    },
    {
      "cell_type": "code",
      "source": [
        "challenge = 'ThirtyDaysPython'\n",
        "print(challenge.isalnum()) # True\n",
        "\n",
        "challenge = '30DaysPython'\n",
        "print(challenge.isalnum()) # True\n",
        "\n",
        "challenge = 'thirty days of python'\n",
        "print(challenge.isalnum()) # False, space is not an alphanumeric character\n",
        "\n",
        "challenge = 'thirty days of python 2019'\n",
        "print(challenge.isalnum()) # False"
      ],
      "metadata": {
        "colab": {
          "base_uri": "https://localhost:8080/"
        },
        "id": "HKLQ_67DYmHM",
        "outputId": "76637442-dadd-4bf1-bfbc-9a8e6969290b"
      },
      "execution_count": 4,
      "outputs": [
        {
          "output_type": "stream",
          "name": "stdout",
          "text": [
            "True\n",
            "True\n",
            "False\n",
            "False\n"
          ]
        }
      ]
    },
    {
      "cell_type": "markdown",
      "source": [
        "isalpha(): Checks if all string elements are alphabet characters (a-z and A-Z)\n"
      ],
      "metadata": {
        "id": "MbkoOxjz-FOP"
      }
    },
    {
      "cell_type": "code",
      "source": [
        "challenge = 'thirty days of python'\n",
        "print(challenge.isalpha()) # False, space is once again excluded\n",
        "challenge = 'ThirtyDaysPython'\n",
        "print(challenge.isalpha()) # True\n",
        "num = '123'\n",
        "print(num.isalpha())      # False"
      ],
      "metadata": {
        "colab": {
          "base_uri": "https://localhost:8080/"
        },
        "id": "BTxvjW5OYg0v",
        "outputId": "cf9d1998-d000-48ea-8319-3a4fa348cfd5"
      },
      "execution_count": 5,
      "outputs": [
        {
          "output_type": "stream",
          "name": "stdout",
          "text": [
            "False\n",
            "True\n",
            "False\n"
          ]
        }
      ]
    },
    {
      "cell_type": "markdown",
      "source": [
        "isdecimal(): Checks if all characters in a string are decimal (0-9)"
      ],
      "metadata": {
        "id": "JPvJaT4b-J95"
      }
    },
    {
      "cell_type": "code",
      "source": [
        "challenge = 'thirty days of python'\n",
        "print(challenge.isdecimal())  # False\n",
        "challenge = '123'\n",
        "print(challenge.isdecimal())  # True\n",
        "challenge = '\\u00B2'\n",
        "print(challenge.isdigit())   # False\n",
        "challenge = '12 3'\n",
        "print(challenge.isdecimal())  # False, space not allowed"
      ],
      "metadata": {
        "colab": {
          "base_uri": "https://localhost:8080/"
        },
        "id": "MS1UQ3jeYg4c",
        "outputId": "290b2809-e277-4b0f-c860-df86f02703c4"
      },
      "execution_count": 6,
      "outputs": [
        {
          "output_type": "stream",
          "name": "stdout",
          "text": [
            "False\n",
            "True\n",
            "True\n",
            "False\n"
          ]
        }
      ]
    },
    {
      "cell_type": "markdown",
      "source": [
        "isdigit(): Checks if all characters in a string are numbers (0-9 and some other unicode characters for numbers)"
      ],
      "metadata": {
        "id": "qf40QO3e-SEJ"
      }
    },
    {
      "cell_type": "code",
      "source": [
        "challenge = 'Thirty'\n",
        "print(challenge.isdigit()) # False\n",
        "challenge = '30'\n",
        "print(challenge.isdigit())   # True\n",
        "challenge = '\\u00B2'\n",
        "print(challenge.isdigit())   # True"
      ],
      "metadata": {
        "colab": {
          "base_uri": "https://localhost:8080/"
        },
        "id": "BA_DpglAYg-q",
        "outputId": "3c303756-1dd6-42d3-aa10-9b602ed945f2"
      },
      "execution_count": 7,
      "outputs": [
        {
          "output_type": "stream",
          "name": "stdout",
          "text": [
            "False\n",
            "True\n",
            "True\n"
          ]
        }
      ]
    },
    {
      "cell_type": "markdown",
      "source": [
        "isnumeric(): Checks if all characters in a string are numbers or number related (just like isdigit(), just accepts more symbols, like ½)"
      ],
      "metadata": {
        "id": "7hthJf-K-XlW"
      }
    },
    {
      "cell_type": "code",
      "source": [
        "num = '10'\n",
        "print(num.isnumeric()) # True\n",
        "num = '\\u00BD' # ½\n",
        "print(num.isnumeric()) # True\n",
        "num = '10.5'\n",
        "print(num.isnumeric()) # False"
      ],
      "metadata": {
        "colab": {
          "base_uri": "https://localhost:8080/"
        },
        "id": "arx83paYYg_8",
        "outputId": "efb4015f-5b27-4150-d6bb-1b1825b3f10b"
      },
      "execution_count": 8,
      "outputs": [
        {
          "output_type": "stream",
          "name": "stdout",
          "text": [
            "True\n",
            "True\n",
            "False\n"
          ]
        }
      ]
    },
    {
      "cell_type": "markdown",
      "source": [
        "isidentifier(): Checks for a valid identifier - it checks if a string is a valid variable name"
      ],
      "metadata": {
        "id": "MpI1zRvt-dbu"
      }
    },
    {
      "cell_type": "code",
      "source": [
        "challenge = '30DaysOfPython'\n",
        "print(challenge.isidentifier()) # False, because it starts with a number\n",
        "challenge = 'thirty_days_of_python'\n",
        "print(challenge.isidentifier()) # True"
      ],
      "metadata": {
        "colab": {
          "base_uri": "https://localhost:8080/"
        },
        "id": "o6eocHoVYhCI",
        "outputId": "b7896981-9949-44e0-efcd-79171ab8fa5b"
      },
      "execution_count": 9,
      "outputs": [
        {
          "output_type": "stream",
          "name": "stdout",
          "text": [
            "False\n",
            "True\n"
          ]
        }
      ]
    },
    {
      "cell_type": "markdown",
      "source": [
        "islower(): Checks if all alphabet characters in the string are lowercase"
      ],
      "metadata": {
        "id": "MFq09DGJ-lW1"
      }
    },
    {
      "cell_type": "code",
      "source": [
        "challenge = 'thirty days of python'\n",
        "print(challenge.islower()) # True\n",
        "challenge = 'Thirty days of python'\n",
        "print(challenge.islower()) # False"
      ],
      "metadata": {
        "colab": {
          "base_uri": "https://localhost:8080/"
        },
        "id": "GQQtZqdyYhJi",
        "outputId": "ff1e4b56-3e96-49ee-d15c-4e689735c66e"
      },
      "execution_count": 10,
      "outputs": [
        {
          "output_type": "stream",
          "name": "stdout",
          "text": [
            "True\n",
            "False\n"
          ]
        }
      ]
    },
    {
      "cell_type": "markdown",
      "source": [
        "isupper(): Checks if all alphabet characters in the string are uppercase"
      ],
      "metadata": {
        "id": "unmcQatG-txJ"
      }
    },
    {
      "cell_type": "code",
      "source": [
        "challenge = 'thirty days of python'\n",
        "print(challenge.isupper()) #  False\n",
        "challenge = 'THIRTY DAYS OF PYTHON'\n",
        "print(challenge.isupper()) # True"
      ],
      "metadata": {
        "colab": {
          "base_uri": "https://localhost:8080/"
        },
        "id": "ewfcBkqFYhQK",
        "outputId": "2ffbdba5-c63c-409b-ab38-125809de25e0"
      },
      "execution_count": 11,
      "outputs": [
        {
          "output_type": "stream",
          "name": "stdout",
          "text": [
            "False\n",
            "True\n"
          ]
        }
      ]
    },
    {
      "cell_type": "markdown",
      "source": [
        "join(): Returns a concatenated string"
      ],
      "metadata": {
        "id": "h_zTkKJN-4RE"
      }
    },
    {
      "cell_type": "code",
      "source": [
        "web_tech = ['HTML', 'CSS', 'JavaScript', 'React']\n",
        "result = ' '.join(web_tech)\n",
        "print(result) # 'HTML CSS JavaScript React'"
      ],
      "metadata": {
        "colab": {
          "base_uri": "https://localhost:8080/"
        },
        "id": "cjldM4fSYhRI",
        "outputId": "6e1eedd6-4d4a-41c9-9345-7ecf199d6c8f"
      },
      "execution_count": 12,
      "outputs": [
        {
          "output_type": "stream",
          "name": "stdout",
          "text": [
            "HTML CSS JavaScript React\n"
          ]
        }
      ]
    },
    {
      "cell_type": "code",
      "source": [
        "web_tech = ['HTML', 'CSS', 'JavaScript', 'React']\n",
        "result = '# '.join(web_tech)\n",
        "print(result) # 'HTML# CSS# JavaScript# React'"
      ],
      "metadata": {
        "colab": {
          "base_uri": "https://localhost:8080/"
        },
        "id": "Oq7KiNZiYhSn",
        "outputId": "9e468060-5586-4b3e-8636-b2e7ed0808af"
      },
      "execution_count": 13,
      "outputs": [
        {
          "output_type": "stream",
          "name": "stdout",
          "text": [
            "HTML# CSS# JavaScript# React\n"
          ]
        }
      ]
    },
    {
      "cell_type": "markdown",
      "source": [
        "strip(): Removes all given characters starting from the beginning and end of the string"
      ],
      "metadata": {
        "id": "zv0t9k3u_Rnp"
      }
    },
    {
      "cell_type": "code",
      "source": [
        "challenge = 'thirty days of pythoonnn'\n",
        "print(challenge.strip('noth')) # 'irty days of py'"
      ],
      "metadata": {
        "colab": {
          "base_uri": "https://localhost:8080/"
        },
        "id": "MINaRPwZYhWs",
        "outputId": "16738bc1-0b9b-42d6-f486-e301f0c246f1"
      },
      "execution_count": 14,
      "outputs": [
        {
          "output_type": "stream",
          "name": "stdout",
          "text": [
            "irty days of py\n"
          ]
        }
      ]
    },
    {
      "cell_type": "markdown",
      "source": [
        "replace(): Replaces substring with a given string"
      ],
      "metadata": {
        "id": "_Wy1Ccu-_XDl"
      }
    },
    {
      "cell_type": "code",
      "source": [
        "challenge = 'thirty days of python'\n",
        "print(challenge.replace('python', 'coding')) # 'thirty days of coding'"
      ],
      "metadata": {
        "colab": {
          "base_uri": "https://localhost:8080/"
        },
        "id": "g2zbTTHDYhZ5",
        "outputId": "48015e22-c886-4b2c-95ab-22d21d379a4e"
      },
      "execution_count": 15,
      "outputs": [
        {
          "output_type": "stream",
          "name": "stdout",
          "text": [
            "thirty days of coding\n"
          ]
        }
      ]
    },
    {
      "cell_type": "markdown",
      "source": [
        "split(): Splits the string, using given string or space as a separator"
      ],
      "metadata": {
        "id": "nCSHpVQm_cmf"
      }
    },
    {
      "cell_type": "code",
      "source": [
        "challenge = 'thirty days of python'\n",
        "print(challenge.split()) # ['thirty', 'days', 'of', 'python']\n",
        "challenge = 'thirty, days, of, python'\n",
        "print(challenge.split(', ')) # ['thirty', 'days', 'of', 'python']"
      ],
      "metadata": {
        "colab": {
          "base_uri": "https://localhost:8080/"
        },
        "id": "Y-ilYKMfYhhY",
        "outputId": "c0309940-01de-407b-86af-6e7871cf2dc8"
      },
      "execution_count": 16,
      "outputs": [
        {
          "output_type": "stream",
          "name": "stdout",
          "text": [
            "['thirty', 'days', 'of', 'python']\n",
            "['thirty', 'days', 'of', 'python']\n"
          ]
        }
      ]
    },
    {
      "cell_type": "markdown",
      "source": [
        "title(): Returns a title cased string"
      ],
      "metadata": {
        "id": "QFedkU_8_jLh"
      }
    },
    {
      "cell_type": "code",
      "source": [
        "challenge = 'thirty days of python'\n",
        "print(challenge.title()) # Thirty Days Of Python"
      ],
      "metadata": {
        "colab": {
          "base_uri": "https://localhost:8080/"
        },
        "id": "DmRPj_61Yhig",
        "outputId": "b40433ce-f2f8-47d0-cafc-39a3bb0da8d0"
      },
      "execution_count": 17,
      "outputs": [
        {
          "output_type": "stream",
          "name": "stdout",
          "text": [
            "Thirty Days Of Python\n"
          ]
        }
      ]
    },
    {
      "cell_type": "markdown",
      "source": [
        "swapcase(): Converts all uppercase characters to lowercase and all lowercase characters to uppercase characters"
      ],
      "metadata": {
        "id": "UxNcKL7X_nNV"
      }
    },
    {
      "cell_type": "code",
      "source": [
        "challenge = 'thirty days of python'\n",
        "print(challenge.swapcase())   # THIRTY DAYS OF PYTHON\n",
        "challenge = 'Thirty Days Of Python'\n",
        "print(challenge.swapcase())  # tHIRTY dAYS oF pYTHON"
      ],
      "metadata": {
        "colab": {
          "base_uri": "https://localhost:8080/"
        },
        "id": "cmUfNMuFYhjk",
        "outputId": "51fa2b3b-80e9-4eb6-b8aa-e3f31067f7fc"
      },
      "execution_count": 18,
      "outputs": [
        {
          "output_type": "stream",
          "name": "stdout",
          "text": [
            "THIRTY DAYS OF PYTHON\n",
            "tHIRTY dAYS oF pYTHON\n"
          ]
        }
      ]
    },
    {
      "cell_type": "markdown",
      "source": [
        "startswith(): Checks if String Starts with the Specified String"
      ],
      "metadata": {
        "id": "xxdF10-C_rmP"
      }
    },
    {
      "cell_type": "code",
      "source": [
        "challenge = 'thirty days of python'\n",
        "print(challenge.startswith('thirty')) # True\n",
        "\n",
        "challenge = '30 days of python'\n",
        "print(challenge.startswith('thirty')) # False\n"
      ],
      "metadata": {
        "colab": {
          "base_uri": "https://localhost:8080/"
        },
        "id": "KYqz5vRVYhmf",
        "outputId": "91cb4352-50d1-4126-a0b6-5ee199a598a8"
      },
      "execution_count": 19,
      "outputs": [
        {
          "output_type": "stream",
          "name": "stdout",
          "text": [
            "True\n",
            "False\n"
          ]
        }
      ]
    },
    {
      "cell_type": "markdown",
      "source": [
        "Common Student Questions:\n",
        "\n",
        "---\n",
        "\n",
        "\n",
        "1) What is the difference between %r and %s?\n",
        "We use %r for debugging, since it displays the “raw” data of the variable, but we use %s and\n",
        "others for displaying to users.\n",
        "\n",
        "2) What’s the point of %s and %d when you can just use %r?\n",
        "The %r is best for debugging, and the other formats are for actually displaying variables to users.\n",
        "If you thought the joke was funny could you write hilarious = True?\n",
        "Yes, and you’ll learn more about these boolean values next.\n",
        "\n",
        "3) Why do you put ' (single- quotes) around some strings and not others?\n",
        "Mostly it’s because of style, but I’ll use a single- quote inside a string that has double- quotes.\n",
        "\n",
        "4)I get the error TypeError: not all arguments converted during string formatting.\n",
        "You need to make sure that the line of code is exactly the same. What happens in this error is you\n",
        "have more % format characters in the string than variables to put in them. Go back and fi gure out\n",
        "what you did wrong.\n",
        "www"
      ],
      "metadata": {
        "id": "g_CXr7Z_BY0U"
      }
    },
    {
      "cell_type": "markdown",
      "source": [
        "Q1) Concatenate the string 'Thirty', 'Days', 'Of', 'Python' to a single string, 'Thirty Days Of Python'."
      ],
      "metadata": {
        "id": "ftCLUV9oDEuL"
      }
    },
    {
      "cell_type": "code",
      "source": [
        "string_list = ['Thirty', 'Days', 'Of', 'Python']\n",
        "concatenated_string = ' '.join(string_list)\n",
        "print(concatenated_string)"
      ],
      "metadata": {
        "colab": {
          "base_uri": "https://localhost:8080/"
        },
        "id": "ihzTrXhzYhuD",
        "outputId": "57f601ce-f19c-4bc8-ef3c-d2c1cdc9454e"
      },
      "execution_count": 20,
      "outputs": [
        {
          "output_type": "stream",
          "name": "stdout",
          "text": [
            "Thirty Days Of Python\n"
          ]
        }
      ]
    },
    {
      "cell_type": "markdown",
      "source": [
        "Q2) Concatenate the string 'Coding', 'For' , 'All' to a single string, 'Coding For All'."
      ],
      "metadata": {
        "id": "qAXuVEQLDe6-"
      }
    },
    {
      "cell_type": "code",
      "source": [
        "string_list = ['Coding', 'For', 'All']\n",
        "concatenated_string = ' '.join(string_list)\n",
        "print(concatenated_string)\n"
      ],
      "metadata": {
        "colab": {
          "base_uri": "https://localhost:8080/"
        },
        "id": "hJvGHoMgUE16",
        "outputId": "f32dbe7f-964c-4120-a4fe-96cd8fe59864"
      },
      "execution_count": 21,
      "outputs": [
        {
          "output_type": "stream",
          "name": "stdout",
          "text": [
            "Coding For All\n"
          ]
        }
      ]
    },
    {
      "cell_type": "markdown",
      "source": [
        "Q3) Declare a variable named company and assign it to an initial value \"Coding For All\" And Print the variable company using print()."
      ],
      "metadata": {
        "id": "zEz5-n8bDzdI"
      }
    },
    {
      "cell_type": "code",
      "source": [
        "company = \"Coding For All\"\n",
        "print(company)\n"
      ],
      "metadata": {
        "colab": {
          "base_uri": "https://localhost:8080/"
        },
        "id": "jfkPsFQp_DHw",
        "outputId": "c91d856d-dda9-4a7a-e65c-f7fa19317068"
      },
      "execution_count": 22,
      "outputs": [
        {
          "output_type": "stream",
          "name": "stdout",
          "text": [
            "Coding For All\n"
          ]
        }
      ]
    },
    {
      "cell_type": "markdown",
      "source": [
        "Q4)\n",
        "Print the length of the company string using len() method and print() and\n",
        "Change all the characters to uppercase letters using upper() method and\n",
        "Change all the characters to lowercase letters using lower() method."
      ],
      "metadata": {
        "id": "7ZiFZZFNEgeR"
      }
    },
    {
      "cell_type": "code",
      "source": [
        "company = \"Coding For All\"\n",
        "\n",
        "# Print the length of the string\n",
        "print(len(company))\n"
      ],
      "metadata": {
        "colab": {
          "base_uri": "https://localhost:8080/"
        },
        "id": "klrIYXHq_DEJ",
        "outputId": "dc2db5d2-8882-48c0-ac2e-6e82b47efa0b"
      },
      "execution_count": 23,
      "outputs": [
        {
          "output_type": "stream",
          "name": "stdout",
          "text": [
            "14\n"
          ]
        }
      ]
    },
    {
      "cell_type": "code",
      "source": [
        "company = \"Coding For All\"\n",
        "\n",
        "# Convert to uppercase\n",
        "uppercase_company = company.upper()\n",
        "\n",
        "# Print the uppercase string\n",
        "print(uppercase_company)\n"
      ],
      "metadata": {
        "colab": {
          "base_uri": "https://localhost:8080/"
        },
        "id": "R69i2JIy_CzR",
        "outputId": "91adbdfc-bba4-4cd1-c22d-c474fdd37a98"
      },
      "execution_count": 24,
      "outputs": [
        {
          "output_type": "stream",
          "name": "stdout",
          "text": [
            "CODING FOR ALL\n"
          ]
        }
      ]
    },
    {
      "cell_type": "code",
      "source": [
        "company = \"Coding For All\"\n",
        "\n",
        "# Convert to lowercase\n",
        "lowercase_company = company.lower()\n",
        "\n",
        "# Print the lowercase string\n",
        "print(lowercase_company)\n"
      ],
      "metadata": {
        "colab": {
          "base_uri": "https://localhost:8080/"
        },
        "id": "MWFFgYSb_Cvl",
        "outputId": "528469b0-18bf-4fea-d66b-fb4a1f48862b"
      },
      "execution_count": 25,
      "outputs": [
        {
          "output_type": "stream",
          "name": "stdout",
          "text": [
            "coding for all\n"
          ]
        }
      ]
    },
    {
      "cell_type": "markdown",
      "source": [
        "Q5)\n",
        "\n",
        "Use capitalize(), title(), swapcase() methods to format the value of the string Coding For All."
      ],
      "metadata": {
        "id": "YMFf8KAOFEb3"
      }
    },
    {
      "cell_type": "code",
      "source": [
        "company = \"Coding For All\"\n",
        "\n",
        "# Capitalize the first letter\n",
        "capitalized_company = company.capitalize()\n",
        "\n",
        "# Convert to title case (capitalize each word)\n",
        "title_company = company.title()\n",
        "\n",
        "# Swap the case of characters\n",
        "swapcase_company = company.swapcase()\n",
        "\n",
        "# Print the formatted strings\n",
        "print(\"Capitalized:\", capitalized_company)\n",
        "print(\"Title Case:\", title_company)\n",
        "print(\"Swapped Case:\", swapcase_company)\n"
      ],
      "metadata": {
        "colab": {
          "base_uri": "https://localhost:8080/"
        },
        "id": "xp85CQQD_Cr2",
        "outputId": "cfd80ed7-b416-4219-fc2c-83404feec0dc"
      },
      "execution_count": 26,
      "outputs": [
        {
          "output_type": "stream",
          "name": "stdout",
          "text": [
            "Capitalized: Coding for all\n",
            "Title Case: Coding For All\n",
            "Swapped Case: cODING fOR aLL\n"
          ]
        }
      ]
    },
    {
      "cell_type": "code",
      "source": [],
      "metadata": {
        "id": "Ti21pfU7_CdA"
      },
      "execution_count": null,
      "outputs": []
    },
    {
      "cell_type": "code",
      "source": [],
      "metadata": {
        "id": "Ghu8M9LO_CZm"
      },
      "execution_count": null,
      "outputs": []
    },
    {
      "cell_type": "code",
      "source": [],
      "metadata": {
        "id": "8fgeR46Q_CUO"
      },
      "execution_count": null,
      "outputs": []
    },
    {
      "cell_type": "code",
      "source": [],
      "metadata": {
        "id": "biz1j9sh_CQi"
      },
      "execution_count": null,
      "outputs": []
    },
    {
      "cell_type": "code",
      "source": [],
      "metadata": {
        "id": "rbXpp52C_CND"
      },
      "execution_count": null,
      "outputs": []
    }
  ]
}