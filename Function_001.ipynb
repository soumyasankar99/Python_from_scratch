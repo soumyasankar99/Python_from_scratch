{
  "nbformat": 4,
  "nbformat_minor": 0,
  "metadata": {
    "colab": {
      "provenance": [],
      "authorship_tag": "ABX9TyMz2kfzgTEZrPCOqa6Dis3P",
      "include_colab_link": true
    },
    "kernelspec": {
      "name": "python3",
      "display_name": "Python 3"
    },
    "language_info": {
      "name": "python"
    }
  },
  "cells": [
    {
      "cell_type": "markdown",
      "metadata": {
        "id": "view-in-github",
        "colab_type": "text"
      },
      "source": [
        "<a href=\"https://colab.research.google.com/github/soumyasankar99/Python_from_scratch/blob/main/Function_001.ipynb\" target=\"_parent\"><img src=\"https://colab.research.google.com/assets/colab-badge.svg\" alt=\"Open In Colab\"/></a>"
      ]
    },
    {
      "cell_type": "markdown",
      "source": [
        "FUNCTION WITHOUT PARAMETERS:"
      ],
      "metadata": {
        "id": "Po6HUzKKdOlw"
      }
    },
    {
      "cell_type": "code",
      "execution_count": 2,
      "metadata": {
        "colab": {
          "base_uri": "https://localhost:8080/"
        },
        "id": "ag6D0jsMdKTp",
        "outputId": "952da418-0cc8-4eca-9c78-275750a7ce1d"
      },
      "outputs": [
        {
          "output_type": "stream",
          "name": "stdout",
          "text": [
            "soumya sankar\n"
          ]
        }
      ],
      "source": [
        "def my_full_name ():\n",
        "  first_name = \"soumya\"\n",
        "  last_name =\"sankar\"\n",
        "  space=' '\n",
        "  full_name = first_name + space + last_name\n",
        "  print(full_name)\n",
        "\n",
        "my_full_name()"
      ]
    },
    {
      "cell_type": "code",
      "source": [
        "def Run_a_car():\n",
        "  start =\"start a car by ignit the engine\"\n",
        "  accelerate=\"then speed is now 30/kmh\"\n",
        "  brake=\"car slow down and slows down.\"\n",
        "\n",
        "  mechanism_car= start +\" , \"+ accelerate +\" , \"+ brake\n",
        "  print(mechanism_car)\n",
        "\n",
        "Run_a_car()\n",
        "\n",
        "\n"
      ],
      "metadata": {
        "colab": {
          "base_uri": "https://localhost:8080/"
        },
        "id": "cIWS0f40dLx4",
        "outputId": "31795d4a-ac70-41af-a185-3ac3dfbba04f"
      },
      "execution_count": 5,
      "outputs": [
        {
          "output_type": "stream",
          "name": "stdout",
          "text": [
            "start a car by ignit the engine , then speed is now 30/kmh , car slow down and slows down.\n"
          ]
        }
      ]
    },
    {
      "cell_type": "code",
      "source": [
        "def add_two_numbers():\n",
        "  num1 = 2\n",
        "  num2 = 3\n",
        "\n",
        "  total = num1 + num2\n",
        "  print(total)\n",
        "\n",
        "add_two_numbers()"
      ],
      "metadata": {
        "colab": {
          "base_uri": "https://localhost:8080/"
        },
        "id": "vn8FEh97dL00",
        "outputId": "f336a13c-d9ae-43e2-b458-58ee109e4577"
      },
      "execution_count": 6,
      "outputs": [
        {
          "output_type": "stream",
          "name": "stdout",
          "text": [
            "5\n"
          ]
        }
      ]
    },
    {
      "cell_type": "code",
      "source": [
        "#This is addition operation\n",
        "def add_two_numbers():\n",
        "  num1 = input(\"Enter a number of your 1st choice:\")\n",
        "  num2 = input(\"Enter a number of your 2nd choice:\")\n",
        "\n",
        "  total = num1 + num2\n",
        "  print(\"Total number is:\",total)\n",
        "\n",
        "add_two_numbers()"
      ],
      "metadata": {
        "colab": {
          "base_uri": "https://localhost:8080/"
        },
        "id": "Y3Vln6WMdL4M",
        "outputId": "9d539589-bb22-4d3b-a1a2-fdcdcdf4c7d0"
      },
      "execution_count": 8,
      "outputs": [
        {
          "output_type": "stream",
          "name": "stdout",
          "text": [
            "Enter a number of your 1st choice:1234567890\n",
            "Enter a number of your 2nd choice:09876543211\n",
            "Total number is: 123456789009876543211\n"
          ]
        }
      ]
    },
    {
      "cell_type": "code",
      "source": [
        "#This is multiplication operation\n",
        "\n",
        "def mul_two_numbers():\n",
        "  num1 = int(input(\"Enter a number of your 1st choice:\"))\n",
        "  num2 = int(input(\"Enter a number of your 2nd choice:\"))\n",
        "\n",
        "  total = num1 * num2\n",
        "  print(\"Total number is:\",total)\n",
        "\n",
        "mul_two_numbers()\n"
      ],
      "metadata": {
        "colab": {
          "base_uri": "https://localhost:8080/"
        },
        "id": "UWtyrELydL7e",
        "outputId": "d082257e-2e4d-47a6-a419-7ec7faaff055"
      },
      "execution_count": 10,
      "outputs": [
        {
          "output_type": "stream",
          "name": "stdout",
          "text": [
            "Enter a number of your 1st choice:456\n",
            "Enter a number of your 2nd choice:678\n",
            "Total number is: 309168\n"
          ]
        }
      ]
    },
    {
      "cell_type": "markdown",
      "source": [
        "Function Returning a Value- Part-1\n"
      ],
      "metadata": {
        "id": "YBoft4F3h-Ot"
      }
    },
    {
      "cell_type": "code",
      "source": [
        "def Run_a_car():\n",
        "  start =\"start a car by ignit the engine\"\n",
        "  accelerate=\"then speed is now 30/kmh\"\n",
        "  brake=\"car slow down and slows down.\"\n",
        "\n",
        "  mechanism_car= start +\" , \"+ accelerate +\" , \"+ brake\n",
        "  return mechanism_car\n",
        "\n",
        "print(Run_a_car())\n",
        "\n"
      ],
      "metadata": {
        "colab": {
          "base_uri": "https://localhost:8080/"
        },
        "id": "EikxZ8_EiFR_",
        "outputId": "f236fcfd-901a-431d-dd3d-c383f5115278"
      },
      "execution_count": 14,
      "outputs": [
        {
          "output_type": "stream",
          "name": "stdout",
          "text": [
            "start a car by ignit the engine , then speed is now 30/kmh , car slow down and slows down.\n"
          ]
        }
      ]
    },
    {
      "cell_type": "markdown",
      "source": [
        "Function with Parameters"
      ],
      "metadata": {
        "id": "rDYqvdYFjQtZ"
      }
    },
    {
      "cell_type": "code",
      "source": [
        "from IPython.lib.display import Code\n",
        "#syntax\n",
        "#declaring a function\n",
        "\n",
        "def function_name(parameter):\n",
        "  Code\n",
        "  codes\n",
        "\n",
        "#Calling function\n",
        "print(function_name(argument))"
      ],
      "metadata": {
        "id": "e3zDn-mLdL_r"
      },
      "execution_count": null,
      "outputs": []
    },
    {
      "cell_type": "code",
      "source": [
        "def greetings (name):\n",
        "    message = name + ', welcome to Python for Everyone!'\n",
        "    return message\n",
        "\n",
        "print(greetings('Asabeneh'))\n",
        "\n",
        "def add_ten(num):\n",
        "    ten = 10\n",
        "    return num + ten\n",
        "print(add_ten(90))\n",
        "\n",
        "def square_number(x):\n",
        "    return x * x\n",
        "print(square_number(2))\n",
        "\n",
        "def area_of_circle (r):\n",
        "    PI = 3.14\n",
        "    area = PI * r ** 2\n",
        "    return area\n",
        "print(area_of_circle(10))\n",
        "\n",
        "def sum_of_numbers(n):\n",
        "    total = 0\n",
        "    for i in range(n+1):\n",
        "        total+=i\n",
        "    print(total)\n",
        "print(sum_of_numbers(10)) # 55\n",
        "print(sum_of_numbers(100)) # 5050"
      ],
      "metadata": {
        "colab": {
          "base_uri": "https://localhost:8080/"
        },
        "id": "8zWetFK_jYaV",
        "outputId": "315f9240-1bc6-4248-a631-c5ca949f6387"
      },
      "execution_count": 15,
      "outputs": [
        {
          "output_type": "stream",
          "name": "stdout",
          "text": [
            "Asabeneh, welcome to Python for Everyone!\n",
            "100\n",
            "4\n",
            "314.0\n",
            "55\n",
            "None\n",
            "5050\n",
            "None\n"
          ]
        }
      ]
    },
    {
      "cell_type": "markdown",
      "source": [
        "Two Parameters ▶"
      ],
      "metadata": {
        "id": "VBnIMa5Bl6vU"
      }
    },
    {
      "cell_type": "code",
      "source": [
        "  # syntax\n",
        "  # Declaring a function\n",
        "  def function_name(para1, para2):\n",
        "    codes\n",
        "    codes\n",
        "  # Calling function\n",
        "  print(function_name(arg1, arg2))"
      ],
      "metadata": {
        "id": "5_1BRyn0jYd3"
      },
      "execution_count": null,
      "outputs": []
    },
    {
      "cell_type": "code",
      "source": [
        "def generate_full_name (first_name, last_name):\n",
        "   space = ' '\n",
        "   full_name = first_name + space + last_name\n",
        "   return full_name\n",
        "print('Full Name: ', generate_full_name('Asabeneh','Yetayeh'))\n",
        "\n",
        "def sum_two_numbers (num_one, num_two):\n",
        "    sum = num_one + num_two\n",
        "    return sum\n",
        "print('Sum of two numbers: ', sum_two_numbers(1, 9))\n",
        "\n",
        "def calculate_age (current_year, birth_year):\n",
        "    age = current_year - birth_year\n",
        "    return age;\n",
        "\n",
        "print('Age: ', calculate_age(2021, 1819))\n",
        "\n",
        "def weight_of_object (mass, gravity):\n",
        "    weight = str(mass * gravity)+ ' N' # the value has to be changed to a string first\n",
        "    return weight\n",
        "print('Weight of an object in Newtons: ', weight_of_object(100, 9.81))"
      ],
      "metadata": {
        "colab": {
          "base_uri": "https://localhost:8080/"
        },
        "id": "ONmpyBm7jYgu",
        "outputId": "80221b99-0724-45d6-9c79-90b781345c18"
      },
      "execution_count": 17,
      "outputs": [
        {
          "output_type": "stream",
          "name": "stdout",
          "text": [
            "Full Name:  Asabeneh Yetayeh\n",
            "Sum of two numbers:  10\n",
            "Age:  202\n",
            "Weight of an object in Newtons:  981.0 N\n"
          ]
        }
      ]
    },
    {
      "cell_type": "code",
      "source": [
        "# syntax\n",
        "# Declaring a function\n",
        "def function_name(para1, para2):\n",
        "    codes\n",
        "    codes\n",
        "# Calling function\n",
        "print(function_name(para1 = 'John', para2 = 'Doe')) # the order of arguments does not matter here"
      ],
      "metadata": {
        "id": "NawA_akkjYko"
      },
      "execution_count": null,
      "outputs": []
    },
    {
      "cell_type": "code",
      "source": [
        "def print_fullname(firstname, lastname):\n",
        "    space = ' '\n",
        "    full_name = firstname  + space + lastname\n",
        "    print(full_name)\n",
        "print(print_fullname(firstname = 'Asabeneh', lastname = 'Yetayeh'))\n",
        "\n",
        "def add_two_numbers (num1, num2):\n",
        "    total = num1 + num2\n",
        "    print(total)\n",
        "print(add_two_numbers(num2 = 3, num1 = 2)) # Order does not matter"
      ],
      "metadata": {
        "colab": {
          "base_uri": "https://localhost:8080/"
        },
        "id": "dEo8TmUrjYm4",
        "outputId": "ec3a4b18-9f99-4864-8979-101442b1d2da"
      },
      "execution_count": 18,
      "outputs": [
        {
          "output_type": "stream",
          "name": "stdout",
          "text": [
            "Asabeneh Yetayeh\n",
            "None\n",
            "5\n",
            "None\n"
          ]
        }
      ]
    },
    {
      "cell_type": "code",
      "source": [
        "def print_name(firstname):\n",
        "    return firstname\n",
        "print_name('Asabeneh') # Asabeneh\n",
        "\n",
        "def print_full_name(firstname, lastname):\n",
        "    space = ' '\n",
        "    full_name = firstname  + space + lastname\n",
        "    return full_name\n",
        "print_full_name(firstname='Asabeneh', lastname='Yetayeh')"
      ],
      "metadata": {
        "colab": {
          "base_uri": "https://localhost:8080/",
          "height": 35
        },
        "id": "ihlEKtTkjYqZ",
        "outputId": "d76d3c91-a691-4fe3-8a18-6f900533642d"
      },
      "execution_count": 19,
      "outputs": [
        {
          "output_type": "execute_result",
          "data": {
            "text/plain": [
              "'Asabeneh Yetayeh'"
            ],
            "application/vnd.google.colaboratory.intrinsic+json": {
              "type": "string"
            }
          },
          "metadata": {},
          "execution_count": 19
        }
      ]
    },
    {
      "cell_type": "code",
      "source": [
        "def add_two_numbers (num1, num2):\n",
        "    total = num1 + num2\n",
        "    return total\n",
        "print(add_two_numbers(2, 3))\n",
        "\n",
        "def calculate_age (current_year, birth_year):\n",
        "    age = current_year - birth_year\n",
        "    return age;\n",
        "print('Age: ', calculate_age(2019, 1819))"
      ],
      "metadata": {
        "colab": {
          "base_uri": "https://localhost:8080/"
        },
        "id": "1j_RCEzwjYyY",
        "outputId": "b44ad20a-4cdf-49e6-dde7-54497633d342"
      },
      "execution_count": 20,
      "outputs": [
        {
          "output_type": "stream",
          "name": "stdout",
          "text": [
            "5\n",
            "Age:  200\n"
          ]
        }
      ]
    },
    {
      "cell_type": "code",
      "source": [
        "def add_two_numbers(num1,num2):\n",
        "  total = num1 + num2\n",
        "  return total\n",
        "\n",
        "print(add_two_numbers(2,3))\n"
      ],
      "metadata": {
        "colab": {
          "base_uri": "https://localhost:8080/"
        },
        "id": "krqSrtI_1Rba",
        "outputId": "843e19e6-7722-4a21-b70c-0cadc5846bd1"
      },
      "execution_count": 21,
      "outputs": [
        {
          "output_type": "stream",
          "name": "stdout",
          "text": [
            "5\n"
          ]
        }
      ]
    },
    {
      "cell_type": "code",
      "source": [
        "def calculation_age(current_year,birth_year):\n",
        "  age = current_year - birth_year\n",
        "  return age;\n",
        "\n",
        "print('Age:',calculate_age(2023,1999))\n"
      ],
      "metadata": {
        "colab": {
          "base_uri": "https://localhost:8080/"
        },
        "id": "WuPgp1xs1Rel",
        "outputId": "99b4e88b-c7fb-499f-8eb3-a7b7f60267b0"
      },
      "execution_count": 24,
      "outputs": [
        {
          "output_type": "stream",
          "name": "stdout",
          "text": [
            "Age: 24\n"
          ]
        }
      ]
    },
    {
      "cell_type": "markdown",
      "source": [
        "Returning a boolean:"
      ],
      "metadata": {
        "id": "jKYPUUiw2j4I"
      }
    },
    {
      "cell_type": "code",
      "source": [
        "def is_even(n):\n",
        "  if n % 2 == 0:\n",
        "    print('even')\n",
        "    return True  # return stops further execution of the function , similar to break\n",
        "  return False\n",
        "\n",
        "print(is_even(10)) #True\n",
        "print(is_even(7)) #False"
      ],
      "metadata": {
        "colab": {
          "base_uri": "https://localhost:8080/"
        },
        "id": "-fnJvWxw1Rib",
        "outputId": "e2b7194d-a4f5-4e2a-fe7d-cafc1723a039"
      },
      "execution_count": 25,
      "outputs": [
        {
          "output_type": "stream",
          "name": "stdout",
          "text": [
            "even\n",
            "True\n",
            "False\n"
          ]
        }
      ]
    },
    {
      "cell_type": "markdown",
      "source": [
        "Returning a list:"
      ],
      "metadata": {
        "id": "uCylBbY74iOW"
      }
    },
    {
      "cell_type": "code",
      "source": [
        "def find_even_numbers(n):\n",
        "   evens = []\n",
        "   for i in range(n+1):\n",
        "    if i % 2 == 0:\n",
        "       evens.append(i)\n",
        "   return evens\n",
        "print(find_even_numbers(10))"
      ],
      "metadata": {
        "colab": {
          "base_uri": "https://localhost:8080/"
        },
        "id": "wL3yKZBB1RmD",
        "outputId": "836edcc8-fff1-4ae3-b8bc-cc9daf1b63a2"
      },
      "execution_count": 26,
      "outputs": [
        {
          "output_type": "stream",
          "name": "stdout",
          "text": [
            "[0, 2, 4, 6, 8, 10]\n"
          ]
        }
      ]
    },
    {
      "cell_type": "markdown",
      "source": [
        "Function with Default Parameters"
      ],
      "metadata": {
        "id": "w4zbPiyE53Sj"
      }
    },
    {
      "cell_type": "code",
      "source": [
        "# syntax\n",
        "# Declaring a function\n",
        "def function_name(param = value):\n",
        "    codes\n",
        "    codes\n",
        "# Calling function\n",
        "function_name()\n",
        "function_name(arg)"
      ],
      "metadata": {
        "id": "KTVcbMHZ1Rrh"
      },
      "execution_count": null,
      "outputs": []
    },
    {
      "cell_type": "code",
      "source": [
        "def greetings (name = 'Soumya'):\n",
        "    message = name + ', welcome to Python for Everyone!'\n",
        "    return message\n",
        "print(greetings())\n",
        "print(greetings('Sankar'))\n",
        "\n",
        "def generate_full_name (first_name = 'Soumya', last_name = 'Sankar'):\n",
        "    space = ' '\n",
        "    full_name = first_name + space + last_name\n",
        "    return full_name\n",
        "\n",
        "print(generate_full_name())\n",
        "print(generate_full_name('Debarpit','Samal'))\n",
        "\n",
        "def calculate_age (birth_year,current_year = 2023):\n",
        "    age = current_year - birth_year\n",
        "    return age;\n",
        "print('Age: ', calculate_age(1999))\n",
        "\n",
        "def weight_of_object (mass, gravity = 9.81):\n",
        "    weight = str(mass * gravity)+ ' N' # the value has to be changed to string first\n",
        "    return weight\n",
        "print('Weight of an object in Newtons: ', weight_of_object(100)) # 9.81 - average gravity on Earth's surface\n",
        "print('Weight of an object in Newtons: ', weight_of_object(100, 1.62)) # gravity on the surface of the Moon"
      ],
      "metadata": {
        "colab": {
          "base_uri": "https://localhost:8080/"
        },
        "id": "2rUUSATn6F4y",
        "outputId": "710a93e6-63e6-4dd6-e68c-0d6f4553f1a8"
      },
      "execution_count": 27,
      "outputs": [
        {
          "output_type": "stream",
          "name": "stdout",
          "text": [
            "Soumya, welcome to Python for Everyone!\n",
            "Sankar, welcome to Python for Everyone!\n",
            "Soumya Sankar\n",
            "Debarpit Samal\n",
            "Age:  24\n",
            "Weight of an object in Newtons:  981.0 N\n",
            "Weight of an object in Newtons:  162.0 N\n"
          ]
        }
      ]
    },
    {
      "cell_type": "markdown",
      "source": [
        "Arbitrary Number of Arguments\n",
        "\n",
        "If we do not know the number of arguments we pass to our function, we can create a function which can take arbitrary number of arguments by adding * before the parameter name.\n"
      ],
      "metadata": {
        "id": "h1VjgvpY7ccY"
      }
    },
    {
      "cell_type": "code",
      "source": [
        "# syntax\n",
        "# Declaring a function\n",
        "def function_name(*args):\n",
        "    codes\n",
        "    codes\n",
        "# Calling function\n",
        "function_name(param1, param2, param3,..)"
      ],
      "metadata": {
        "id": "OQ4McTFd6F8k"
      },
      "execution_count": null,
      "outputs": []
    },
    {
      "cell_type": "code",
      "source": [
        "def sum_all_nums(*nums):\n",
        "  total = 0\n",
        "  for num in nums:\n",
        "    total += num\n",
        "  return total\n",
        "\n",
        "print(sum_all_nums(2,3,5))"
      ],
      "metadata": {
        "colab": {
          "base_uri": "https://localhost:8080/"
        },
        "id": "iKQt-zcc6GAV",
        "outputId": "bc4359d7-eb01-4b82-df47-a8f6c6ae0c29"
      },
      "execution_count": 28,
      "outputs": [
        {
          "output_type": "stream",
          "name": "stdout",
          "text": [
            "10\n"
          ]
        }
      ]
    },
    {
      "cell_type": "markdown",
      "source": [
        "Default and Arbitrary Number of Parameters in Functions"
      ],
      "metadata": {
        "id": "zY2oWn7V8YBS"
      }
    },
    {
      "cell_type": "code",
      "source": [
        "def generate_groups(team,*args):\n",
        "  print(team)\n",
        "  for i in args:\n",
        "    print(i)\n",
        "\n",
        "print(generate_groups('Team-1','Soumya','Sankar','samlik','Juili'))"
      ],
      "metadata": {
        "colab": {
          "base_uri": "https://localhost:8080/"
        },
        "id": "mA5ems5A6GFA",
        "outputId": "cc2e0340-db16-4e7b-e623-7291b375cab0"
      },
      "execution_count": 29,
      "outputs": [
        {
          "output_type": "stream",
          "name": "stdout",
          "text": [
            "Team-1\n",
            "Soumya\n",
            "Sankar\n",
            "samlik\n",
            "Juili\n",
            "None\n"
          ]
        }
      ]
    },
    {
      "cell_type": "markdown",
      "source": [
        "Function as a Parameter of Another Function"
      ],
      "metadata": {
        "id": "0cUEYziR9jtk"
      }
    },
    {
      "cell_type": "code",
      "source": [
        "#You can pass functions around as parameters\n",
        "def square_number (n):\n",
        "    return n * n\n",
        "def do_something(f, x):\n",
        "    return f(x)\n",
        "print(do_something(square_number, 3)) # 27"
      ],
      "metadata": {
        "colab": {
          "base_uri": "https://localhost:8080/"
        },
        "id": "T9KH9nGp6GI7",
        "outputId": "c893e340-8a37-4740-d2aa-51db20d453e6"
      },
      "execution_count": 30,
      "outputs": [
        {
          "output_type": "stream",
          "name": "stdout",
          "text": [
            "9\n"
          ]
        }
      ]
    },
    {
      "cell_type": "markdown",
      "source": [
        "Exercise level -1"
      ],
      "metadata": {
        "id": "iQuZZgBMAqT1"
      }
    },
    {
      "cell_type": "markdown",
      "source": [
        "Q1) Declare a function add_two_numbers. It takes two parameters and it returns a sum."
      ],
      "metadata": {
        "id": "Ffoy56HoAurr"
      }
    },
    {
      "cell_type": "code",
      "source": [
        "def add_two_numbers(num1,num2):\n",
        "  total = num1 + num2\n",
        "  return total\n",
        "\n",
        "print(add_two_numbers(.05,55))"
      ],
      "metadata": {
        "colab": {
          "base_uri": "https://localhost:8080/"
        },
        "id": "i-yJPn-g6GMt",
        "outputId": "a9304778-5d91-4b6c-bca1-1d46ecf9363a"
      },
      "execution_count": 32,
      "outputs": [
        {
          "output_type": "stream",
          "name": "stdout",
          "text": [
            "55.05\n"
          ]
        }
      ]
    },
    {
      "cell_type": "markdown",
      "source": [
        "Q2) Area of a circle is calculated as follows: area = π x r x r. Write a function that calculates area_of_circle."
      ],
      "metadata": {
        "id": "zyD9OtmYBiwg"
      }
    },
    {
      "cell_type": "code",
      "source": [
        "def area_of_circle():\n",
        "  pi = 22/7\n",
        "  r = int(input('Enter a number:'))\n",
        "  area = pi*r*r\n",
        "  print(area)\n",
        "\n",
        "area_of_circle()"
      ],
      "metadata": {
        "colab": {
          "base_uri": "https://localhost:8080/"
        },
        "id": "yYrdtpZZ6GdT",
        "outputId": "b5b7e0a6-966e-4eba-e048-4509561ada18"
      },
      "execution_count": 33,
      "outputs": [
        {
          "output_type": "stream",
          "name": "stdout",
          "text": [
            "Enter a number:34\n",
            "3633.1428571428573\n"
          ]
        }
      ]
    },
    {
      "cell_type": "markdown",
      "source": [
        "Q3) Write a function called add_all_nums which takes arbitrary number of arguments and sums all the arguments. Check if all the list items are number types. If not do give a reasonable feedback."
      ],
      "metadata": {
        "id": "OegqvB1mDT4J"
      }
    },
    {
      "cell_type": "code",
      "source": [
        "def add_all_nums(*args):\n",
        "  total = 0 # Initialize the sum to 0\n",
        "\n",
        "  # Check if all arguments are numbers and sum them\n",
        "  for num in args:\n",
        "    if not isinstance(num,(int,float)):\n",
        "      return \"Error: All arguments must be numbers.\"\n",
        "    total += num\n",
        "\n",
        "  return total\n",
        "\n",
        "result = add_all_nums(1,2,3,4,5)\n",
        "print(result)\n",
        "\n",
        "result = add_all_nums(1,2,'3',4,5)\n",
        "print(result)"
      ],
      "metadata": {
        "colab": {
          "base_uri": "https://localhost:8080/"
        },
        "id": "vB429MkDBhRt",
        "outputId": "af5bddd7-0b90-4c2b-8cf3-bd1ebb478c1d"
      },
      "execution_count": 34,
      "outputs": [
        {
          "output_type": "stream",
          "name": "stdout",
          "text": [
            "15\n",
            "Error: All arguments must be numbers.\n"
          ]
        }
      ]
    },
    {
      "cell_type": "markdown",
      "source": [
        "Q4)Temperature in °C can be converted to °F using this formula: °F = (°C x 9/5) + 32. Write a function which converts °C to °F, convert_celsius_to-fahrenheit."
      ],
      "metadata": {
        "id": "7-VSvik_Es52"
      }
    },
    {
      "cell_type": "code",
      "source": [
        "def convert_celsius_to_fahrenheit(celsius):\n",
        "  #Formula to convert Celsius to Fahrenheit\n",
        "  fahrenheit = (celsius *(9/5)) + 32\n",
        "  return fahrenheit\n",
        "\n",
        "# Example usage:\n",
        "celsius_temperature = 25\n",
        "fahrenheit_tem = convert_celsius_to_fahrenheit(celsius_temperature)\n",
        "\n",
        "print(f\"{celsius_temperature}°C is equal to {fahrenheit_tem}°F\")"
      ],
      "metadata": {
        "colab": {
          "base_uri": "https://localhost:8080/"
        },
        "id": "bzhYCEvWEsAL",
        "outputId": "b2aacc48-63d6-4a8d-a02c-4c9cd68c22a3"
      },
      "execution_count": 35,
      "outputs": [
        {
          "output_type": "stream",
          "name": "stdout",
          "text": [
            "25°C is equal to 77.0°F\n"
          ]
        }
      ]
    },
    {
      "cell_type": "markdown",
      "source": [
        "Q5) Write a function called check-season, it takes a month parameter and returns the season: Autumn, Winter, Spring or Summer."
      ],
      "metadata": {
        "id": "r4YRS4x1IiZU"
      }
    },
    {
      "cell_type": "code",
      "source": [
        "def check_season(month):\n",
        "  #define a dictionary mapping months to seasons\n",
        "  month_to_season = {\n",
        "      \"December\":\"Winter\",\n",
        "      \"January\" :\"Winter\",\n",
        "      \"February\":\"Spring\",\n",
        "      \"March\":\"Spring\",\n",
        "      \"April\":\"summer\",\n",
        "      \"May\":\"summer\",\n",
        "      \"June\":\"summer\",\n",
        "      \"july\":\"Rainny\",\n",
        "      \"August\":\"Rainny\",\n",
        "      \"September\":\"Rainny\",\n",
        "      \"October\":\"Autum\",\n",
        "      \"November\": \"Autum\"\n",
        "\n",
        "  }\n",
        "\n",
        "  #Check if the provided month is in the dictionary\n",
        "\n",
        "  if month in month_to_season:\n",
        "    return month_to_season[month]\n",
        "  else:\n",
        "    return \"Invalid month\"\n",
        "\n",
        "\n",
        "#Example usage :\n",
        "input_month = str(input(\"Enter a Month Name:\" ))\n",
        "result = check_season(input_month)\n",
        "print(f\"The season for {input_month} is {result}\")"
      ],
      "metadata": {
        "colab": {
          "base_uri": "https://localhost:8080/"
        },
        "id": "nSwTcn6jEr0K",
        "outputId": "428e3d42-0ae6-44ef-c524-d7215996aae4"
      },
      "execution_count": 36,
      "outputs": [
        {
          "output_type": "stream",
          "name": "stdout",
          "text": [
            "Enter a Month Name:April\n",
            "The season for April is summer\n"
          ]
        }
      ]
    },
    {
      "cell_type": "code",
      "source": [],
      "metadata": {
        "id": "TBtn8Hg-Erwf"
      },
      "execution_count": null,
      "outputs": []
    },
    {
      "cell_type": "code",
      "source": [],
      "metadata": {
        "id": "nNb0F58RErs8"
      },
      "execution_count": null,
      "outputs": []
    },
    {
      "cell_type": "code",
      "source": [],
      "metadata": {
        "id": "PNmgcmK06GfS"
      },
      "execution_count": null,
      "outputs": []
    },
    {
      "cell_type": "code",
      "source": [],
      "metadata": {
        "id": "4NKc1NGm6Gha"
      },
      "execution_count": null,
      "outputs": []
    },
    {
      "cell_type": "code",
      "source": [],
      "metadata": {
        "id": "JVBtbzxP1RtX"
      },
      "execution_count": null,
      "outputs": []
    },
    {
      "cell_type": "code",
      "source": [],
      "metadata": {
        "id": "oNvI9Mxr1Rwj"
      },
      "execution_count": null,
      "outputs": []
    },
    {
      "cell_type": "code",
      "source": [],
      "metadata": {
        "id": "B7Y87rardMCl"
      },
      "execution_count": null,
      "outputs": []
    }
  ]
}