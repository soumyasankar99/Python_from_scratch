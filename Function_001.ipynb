{
  "nbformat": 4,
  "nbformat_minor": 0,
  "metadata": {
    "colab": {
      "provenance": [],
      "authorship_tag": "ABX9TyOJx4f8d/is1naFn5LOsPr3",
      "include_colab_link": true
    },
    "kernelspec": {
      "name": "python3",
      "display_name": "Python 3"
    },
    "language_info": {
      "name": "python"
    }
  },
  "cells": [
    {
      "cell_type": "markdown",
      "metadata": {
        "id": "view-in-github",
        "colab_type": "text"
      },
      "source": [
        "<a href=\"https://colab.research.google.com/github/soumyasankar99/Python_from_scratch/blob/main/Function_001.ipynb\" target=\"_parent\"><img src=\"https://colab.research.google.com/assets/colab-badge.svg\" alt=\"Open In Colab\"/></a>"
      ]
    },
    {
      "cell_type": "markdown",
      "source": [
        "FUNCTION WITHOUT PARAMETERS:"
      ],
      "metadata": {
        "id": "Po6HUzKKdOlw"
      }
    },
    {
      "cell_type": "code",
      "execution_count": null,
      "metadata": {
        "colab": {
          "base_uri": "https://localhost:8080/"
        },
        "id": "ag6D0jsMdKTp",
        "outputId": "952da418-0cc8-4eca-9c78-275750a7ce1d"
      },
      "outputs": [
        {
          "output_type": "stream",
          "name": "stdout",
          "text": [
            "soumya sankar\n"
          ]
        }
      ],
      "source": [
        "def my_full_name ():\n",
        "  first_name = \"soumya\"\n",
        "  last_name =\"sankar\"\n",
        "  space=' '\n",
        "  full_name = first_name + space + last_name\n",
        "  print(full_name)\n",
        "\n",
        "my_full_name()"
      ]
    },
    {
      "cell_type": "code",
      "source": [
        "def Run_a_car():\n",
        "  start =\"start a car by ignit the engine\"\n",
        "  accelerate=\"then speed is now 30/kmh\"\n",
        "  brake=\"car slow down and slows down.\"\n",
        "\n",
        "  mechanism_car= start +\" , \"+ accelerate +\" , \"+ brake\n",
        "  print(mechanism_car)\n",
        "\n",
        "Run_a_car()\n",
        "\n",
        "\n"
      ],
      "metadata": {
        "colab": {
          "base_uri": "https://localhost:8080/"
        },
        "id": "cIWS0f40dLx4",
        "outputId": "31795d4a-ac70-41af-a185-3ac3dfbba04f"
      },
      "execution_count": null,
      "outputs": [
        {
          "output_type": "stream",
          "name": "stdout",
          "text": [
            "start a car by ignit the engine , then speed is now 30/kmh , car slow down and slows down.\n"
          ]
        }
      ]
    },
    {
      "cell_type": "code",
      "source": [
        "def add_two_numbers():\n",
        "  num1 = 2\n",
        "  num2 = 3\n",
        "\n",
        "  total = num1 + num2\n",
        "  print(total)\n",
        "\n",
        "add_two_numbers()"
      ],
      "metadata": {
        "colab": {
          "base_uri": "https://localhost:8080/"
        },
        "id": "vn8FEh97dL00",
        "outputId": "f336a13c-d9ae-43e2-b458-58ee109e4577"
      },
      "execution_count": null,
      "outputs": [
        {
          "output_type": "stream",
          "name": "stdout",
          "text": [
            "5\n"
          ]
        }
      ]
    },
    {
      "cell_type": "code",
      "source": [
        "#This is addition operation\n",
        "def add_two_numbers():\n",
        "  num1 = input(\"Enter a number of your 1st choice:\")\n",
        "  num2 = input(\"Enter a number of your 2nd choice:\")\n",
        "\n",
        "  total = num1 + num2\n",
        "  print(\"Total number is:\",total)\n",
        "\n",
        "add_two_numbers()"
      ],
      "metadata": {
        "colab": {
          "base_uri": "https://localhost:8080/"
        },
        "id": "Y3Vln6WMdL4M",
        "outputId": "9d539589-bb22-4d3b-a1a2-fdcdcdf4c7d0"
      },
      "execution_count": null,
      "outputs": [
        {
          "output_type": "stream",
          "name": "stdout",
          "text": [
            "Enter a number of your 1st choice:1234567890\n",
            "Enter a number of your 2nd choice:09876543211\n",
            "Total number is: 123456789009876543211\n"
          ]
        }
      ]
    },
    {
      "cell_type": "code",
      "source": [
        "#This is multiplication operation\n",
        "\n",
        "def mul_two_numbers():\n",
        "  num1 = int(input(\"Enter a number of your 1st choice:\"))\n",
        "  num2 = int(input(\"Enter a number of your 2nd choice:\"))\n",
        "\n",
        "  total = num1 * num2\n",
        "  print(\"Total number is:\",total)\n",
        "\n",
        "mul_two_numbers()\n"
      ],
      "metadata": {
        "colab": {
          "base_uri": "https://localhost:8080/"
        },
        "id": "UWtyrELydL7e",
        "outputId": "d082257e-2e4d-47a6-a419-7ec7faaff055"
      },
      "execution_count": null,
      "outputs": [
        {
          "output_type": "stream",
          "name": "stdout",
          "text": [
            "Enter a number of your 1st choice:456\n",
            "Enter a number of your 2nd choice:678\n",
            "Total number is: 309168\n"
          ]
        }
      ]
    },
    {
      "cell_type": "markdown",
      "source": [
        "Function Returning a Value- Part-1\n"
      ],
      "metadata": {
        "id": "YBoft4F3h-Ot"
      }
    },
    {
      "cell_type": "code",
      "source": [
        "def Run_a_car():\n",
        "  start =\"start a car by ignit the engine\"\n",
        "  accelerate=\"then speed is now 30/kmh\"\n",
        "  brake=\"car slow down and slows down.\"\n",
        "\n",
        "  mechanism_car= start +\" , \"+ accelerate +\" , \"+ brake\n",
        "  return mechanism_car\n",
        "\n",
        "print(Run_a_car())\n",
        "\n"
      ],
      "metadata": {
        "colab": {
          "base_uri": "https://localhost:8080/"
        },
        "id": "EikxZ8_EiFR_",
        "outputId": "f236fcfd-901a-431d-dd3d-c383f5115278"
      },
      "execution_count": null,
      "outputs": [
        {
          "output_type": "stream",
          "name": "stdout",
          "text": [
            "start a car by ignit the engine , then speed is now 30/kmh , car slow down and slows down.\n"
          ]
        }
      ]
    },
    {
      "cell_type": "markdown",
      "source": [
        "Function with Parameters"
      ],
      "metadata": {
        "id": "rDYqvdYFjQtZ"
      }
    },
    {
      "cell_type": "code",
      "source": [
        "from IPython.lib.display import Code\n",
        "#syntax\n",
        "#declaring a function\n",
        "\n",
        "def function_name(parameter):\n",
        "  Code\n",
        "  codes\n",
        "\n",
        "#Calling function\n",
        "print(function_name(argument))"
      ],
      "metadata": {
        "id": "e3zDn-mLdL_r"
      },
      "execution_count": null,
      "outputs": []
    },
    {
      "cell_type": "code",
      "source": [
        "def greetings (name):\n",
        "    message = name + ', welcome to Python for Everyone!'\n",
        "    return message\n",
        "\n",
        "print(greetings('Soumya sankar'))\n",
        "\n",
        "def add_ten(num):\n",
        "    ten = 10\n",
        "    return num + ten\n",
        "print(add_ten(90))\n",
        "\n",
        "def square_number(x):\n",
        "    return x * x\n",
        "print(square_number(2))\n",
        "\n",
        "def area_of_circle (r):\n",
        "    PI = 3.14\n",
        "    area = PI * r ** 2\n",
        "    return area\n",
        "print(area_of_circle(10))\n",
        "\n",
        "def sum_of_numbers(n):\n",
        "    total = 0\n",
        "    for i in range(n+1):\n",
        "        total+=i\n",
        "    print(total)\n",
        "print(sum_of_numbers(10)) # 55\n",
        "print(sum_of_numbers(100)) # 5050"
      ],
      "metadata": {
        "colab": {
          "base_uri": "https://localhost:8080/"
        },
        "id": "8zWetFK_jYaV",
        "outputId": "14e0deb8-d331-4abc-e57d-3a7da276eb5b"
      },
      "execution_count": 1,
      "outputs": [
        {
          "output_type": "stream",
          "name": "stdout",
          "text": [
            "Soumya sankar, welcome to Python for Everyone!\n",
            "100\n",
            "4\n",
            "314.0\n",
            "55\n",
            "None\n",
            "5050\n",
            "None\n"
          ]
        }
      ]
    },
    {
      "cell_type": "markdown",
      "source": [
        "Two Parameters ▶"
      ],
      "metadata": {
        "id": "VBnIMa5Bl6vU"
      }
    },
    {
      "cell_type": "code",
      "source": [
        "  # syntax\n",
        "  # Declaring a function\n",
        "  def function_name(para1, para2):\n",
        "    codes\n",
        "    codes\n",
        "  # Calling function\n",
        "  print(function_name(arg1, arg2))"
      ],
      "metadata": {
        "id": "5_1BRyn0jYd3"
      },
      "execution_count": null,
      "outputs": []
    },
    {
      "cell_type": "code",
      "source": [
        "def generate_full_name (first_name, last_name):\n",
        "   space = ' '\n",
        "   full_name = first_name + space + last_name\n",
        "   return full_name\n",
        "print('Full Name: ', generate_full_name('Soumya','Sankar'))\n",
        "\n",
        "def sum_two_numbers (num_one, num_two):\n",
        "    sum = num_one + num_two\n",
        "    return sum\n",
        "print('Sum of two numbers: ', sum_two_numbers(1, 9))\n",
        "\n",
        "def calculate_age (current_year, birth_year):\n",
        "    age = current_year - birth_year\n",
        "    return age;\n",
        "\n",
        "print('Age: ', calculate_age(2021, 1819))\n",
        "\n",
        "def weight_of_object (mass, gravity):\n",
        "    weight = str(mass * gravity)+ ' N' # the value has to be changed to a string first\n",
        "    return weight\n",
        "print('Weight of an object in Newtons: ', weight_of_object(100, 9.81))"
      ],
      "metadata": {
        "colab": {
          "base_uri": "https://localhost:8080/"
        },
        "id": "ONmpyBm7jYgu",
        "outputId": "d4d2c6ef-eccc-49de-d5de-53749e109885"
      },
      "execution_count": 2,
      "outputs": [
        {
          "output_type": "stream",
          "name": "stdout",
          "text": [
            "Full Name:  Soumya Sankar\n",
            "Sum of two numbers:  10\n",
            "Age:  202\n",
            "Weight of an object in Newtons:  981.0 N\n"
          ]
        }
      ]
    },
    {
      "cell_type": "code",
      "source": [
        "# syntax\n",
        "# Declaring a function\n",
        "def function_name(para1, para2):\n",
        "    codes\n",
        "    codes\n",
        "# Calling function\n",
        "print(function_name(para1 = 'John', para2 = 'Doe')) # the order of arguments does not matter here"
      ],
      "metadata": {
        "id": "NawA_akkjYko"
      },
      "execution_count": null,
      "outputs": []
    },
    {
      "cell_type": "code",
      "source": [
        "def print_fullname(firstname, lastname):\n",
        "    space = ' '\n",
        "    full_name = firstname  + space + lastname\n",
        "    print(full_name)\n",
        "print(print_fullname(firstname = 'Soumya', lastname = 'Panda'))\n",
        "\n",
        "def add_two_numbers (num1, num2):\n",
        "    total = num1 + num2\n",
        "    print(total)\n",
        "print(add_two_numbers(num2 = 3, num1 = 2)) # Order does not matter"
      ],
      "metadata": {
        "colab": {
          "base_uri": "https://localhost:8080/"
        },
        "id": "dEo8TmUrjYm4",
        "outputId": "e53c18fc-cd24-4ce5-a941-3a5be8e796f6"
      },
      "execution_count": 3,
      "outputs": [
        {
          "output_type": "stream",
          "name": "stdout",
          "text": [
            "Soumya Panda\n",
            "None\n",
            "5\n",
            "None\n"
          ]
        }
      ]
    },
    {
      "cell_type": "code",
      "source": [
        "def print_name(firstname):\n",
        "    return firstname\n",
        "print_name('Soumya') # Soumya\n",
        "\n",
        "def print_full_name(firstname, lastname):\n",
        "    space = ' '\n",
        "    full_name = firstname  + space + lastname\n",
        "    return full_name\n",
        "print_full_name(firstname='Soumya', lastname='Sankar')"
      ],
      "metadata": {
        "colab": {
          "base_uri": "https://localhost:8080/",
          "height": 35
        },
        "id": "ihlEKtTkjYqZ",
        "outputId": "5e545238-e6c4-46f6-a842-f2080603e830"
      },
      "execution_count": 4,
      "outputs": [
        {
          "output_type": "execute_result",
          "data": {
            "text/plain": [
              "'Soumya Sankar'"
            ],
            "application/vnd.google.colaboratory.intrinsic+json": {
              "type": "string"
            }
          },
          "metadata": {},
          "execution_count": 4
        }
      ]
    },
    {
      "cell_type": "code",
      "source": [
        "def add_two_numbers (num1, num2):\n",
        "    total = num1 + num2\n",
        "    return total\n",
        "print(add_two_numbers(2, 3))\n",
        "\n",
        "def calculate_age (current_year, birth_year):\n",
        "    age = current_year - birth_year\n",
        "    return age;\n",
        "print('Age: ', calculate_age(2019, 1819))"
      ],
      "metadata": {
        "colab": {
          "base_uri": "https://localhost:8080/"
        },
        "id": "1j_RCEzwjYyY",
        "outputId": "b44ad20a-4cdf-49e6-dde7-54497633d342"
      },
      "execution_count": null,
      "outputs": [
        {
          "output_type": "stream",
          "name": "stdout",
          "text": [
            "5\n",
            "Age:  200\n"
          ]
        }
      ]
    },
    {
      "cell_type": "code",
      "source": [
        "def add_two_numbers(num1,num2):\n",
        "  total = num1 + num2\n",
        "  return total\n",
        "\n",
        "print(add_two_numbers(2,3))\n"
      ],
      "metadata": {
        "colab": {
          "base_uri": "https://localhost:8080/"
        },
        "id": "krqSrtI_1Rba",
        "outputId": "843e19e6-7722-4a21-b70c-0cadc5846bd1"
      },
      "execution_count": null,
      "outputs": [
        {
          "output_type": "stream",
          "name": "stdout",
          "text": [
            "5\n"
          ]
        }
      ]
    },
    {
      "cell_type": "code",
      "source": [
        "def calculation_age(current_year,birth_year):\n",
        "  age = current_year - birth_year\n",
        "  return age;\n",
        "\n",
        "print('Age:',calculate_age(2023,1999))\n"
      ],
      "metadata": {
        "colab": {
          "base_uri": "https://localhost:8080/"
        },
        "id": "WuPgp1xs1Rel",
        "outputId": "99b4e88b-c7fb-499f-8eb3-a7b7f60267b0"
      },
      "execution_count": null,
      "outputs": [
        {
          "output_type": "stream",
          "name": "stdout",
          "text": [
            "Age: 24\n"
          ]
        }
      ]
    },
    {
      "cell_type": "markdown",
      "source": [
        "Returning a boolean:"
      ],
      "metadata": {
        "id": "jKYPUUiw2j4I"
      }
    },
    {
      "cell_type": "code",
      "source": [
        "def is_even(n):\n",
        "  if n % 2 == 0:\n",
        "    print('even')\n",
        "    return True  # return stops further execution of the function , similar to break\n",
        "  return False\n",
        "\n",
        "print(is_even(10)) #True\n",
        "print(is_even(7)) #False"
      ],
      "metadata": {
        "colab": {
          "base_uri": "https://localhost:8080/"
        },
        "id": "-fnJvWxw1Rib",
        "outputId": "e2b7194d-a4f5-4e2a-fe7d-cafc1723a039"
      },
      "execution_count": null,
      "outputs": [
        {
          "output_type": "stream",
          "name": "stdout",
          "text": [
            "even\n",
            "True\n",
            "False\n"
          ]
        }
      ]
    },
    {
      "cell_type": "markdown",
      "source": [
        "Returning a list:"
      ],
      "metadata": {
        "id": "uCylBbY74iOW"
      }
    },
    {
      "cell_type": "code",
      "source": [
        "def find_even_numbers(n):\n",
        "   evens = []\n",
        "   for i in range(n+1):\n",
        "    if i % 2 == 0:\n",
        "       evens.append(i)\n",
        "   return evens\n",
        "print(find_even_numbers(10))"
      ],
      "metadata": {
        "colab": {
          "base_uri": "https://localhost:8080/"
        },
        "id": "wL3yKZBB1RmD",
        "outputId": "836edcc8-fff1-4ae3-b8bc-cc9daf1b63a2"
      },
      "execution_count": null,
      "outputs": [
        {
          "output_type": "stream",
          "name": "stdout",
          "text": [
            "[0, 2, 4, 6, 8, 10]\n"
          ]
        }
      ]
    },
    {
      "cell_type": "markdown",
      "source": [
        "Function with Default Parameters"
      ],
      "metadata": {
        "id": "w4zbPiyE53Sj"
      }
    },
    {
      "cell_type": "code",
      "source": [
        "# syntax\n",
        "# Declaring a function\n",
        "def function_name(param = value):\n",
        "    codes\n",
        "    codes\n",
        "# Calling function\n",
        "function_name()\n",
        "function_name(arg)"
      ],
      "metadata": {
        "id": "KTVcbMHZ1Rrh"
      },
      "execution_count": null,
      "outputs": []
    },
    {
      "cell_type": "code",
      "source": [
        "def greetings (name = 'Soumya'):\n",
        "    message = name + ', welcome to Python for Everyone!'\n",
        "    return message\n",
        "print(greetings())\n",
        "print(greetings('Sankar'))\n",
        "\n",
        "def generate_full_name (first_name = 'Soumya', last_name = 'Sankar'):\n",
        "    space = ' '\n",
        "    full_name = first_name + space + last_name\n",
        "    return full_name\n",
        "\n",
        "print(generate_full_name())\n",
        "print(generate_full_name('Debarpit','Samal'))\n",
        "\n",
        "def calculate_age (birth_year,current_year = 2023):\n",
        "    age = current_year - birth_year\n",
        "    return age;\n",
        "print('Age: ', calculate_age(1999))\n",
        "\n",
        "def weight_of_object (mass, gravity = 9.81):\n",
        "    weight = str(mass * gravity)+ ' N' # the value has to be changed to string first\n",
        "    return weight\n",
        "print('Weight of an object in Newtons: ', weight_of_object(100)) # 9.81 - average gravity on Earth's surface\n",
        "print('Weight of an object in Newtons: ', weight_of_object(100, 1.62)) # gravity on the surface of the Moon"
      ],
      "metadata": {
        "colab": {
          "base_uri": "https://localhost:8080/"
        },
        "id": "2rUUSATn6F4y",
        "outputId": "710a93e6-63e6-4dd6-e68c-0d6f4553f1a8"
      },
      "execution_count": null,
      "outputs": [
        {
          "output_type": "stream",
          "name": "stdout",
          "text": [
            "Soumya, welcome to Python for Everyone!\n",
            "Sankar, welcome to Python for Everyone!\n",
            "Soumya Sankar\n",
            "Debarpit Samal\n",
            "Age:  24\n",
            "Weight of an object in Newtons:  981.0 N\n",
            "Weight of an object in Newtons:  162.0 N\n"
          ]
        }
      ]
    },
    {
      "cell_type": "markdown",
      "source": [
        "Arbitrary Number of Arguments\n",
        "\n",
        "If we do not know the number of arguments we pass to our function, we can create a function which can take arbitrary number of arguments by adding * before the parameter name.\n"
      ],
      "metadata": {
        "id": "h1VjgvpY7ccY"
      }
    },
    {
      "cell_type": "code",
      "source": [
        "# syntax\n",
        "# Declaring a function\n",
        "def function_name(*args):\n",
        "    codes\n",
        "    codes\n",
        "# Calling function\n",
        "function_name(param1, param2, param3,..)"
      ],
      "metadata": {
        "id": "OQ4McTFd6F8k"
      },
      "execution_count": null,
      "outputs": []
    },
    {
      "cell_type": "code",
      "source": [
        "def sum_all_nums(*nums):\n",
        "  total = 0\n",
        "  for num in nums:\n",
        "    total += num\n",
        "  return total\n",
        "\n",
        "print(sum_all_nums(2,3,5))"
      ],
      "metadata": {
        "colab": {
          "base_uri": "https://localhost:8080/"
        },
        "id": "iKQt-zcc6GAV",
        "outputId": "bc4359d7-eb01-4b82-df47-a8f6c6ae0c29"
      },
      "execution_count": null,
      "outputs": [
        {
          "output_type": "stream",
          "name": "stdout",
          "text": [
            "10\n"
          ]
        }
      ]
    },
    {
      "cell_type": "markdown",
      "source": [
        "Default and Arbitrary Number of Parameters in Functions"
      ],
      "metadata": {
        "id": "zY2oWn7V8YBS"
      }
    },
    {
      "cell_type": "code",
      "source": [
        "def generate_groups(team,*args):\n",
        "  print(team)\n",
        "  for i in args:\n",
        "    print(i)\n",
        "\n",
        "print(generate_groups('Team-1','Soumya','Sankar','samlik','Juili'))"
      ],
      "metadata": {
        "colab": {
          "base_uri": "https://localhost:8080/"
        },
        "id": "mA5ems5A6GFA",
        "outputId": "cc2e0340-db16-4e7b-e623-7291b375cab0"
      },
      "execution_count": null,
      "outputs": [
        {
          "output_type": "stream",
          "name": "stdout",
          "text": [
            "Team-1\n",
            "Soumya\n",
            "Sankar\n",
            "samlik\n",
            "Juili\n",
            "None\n"
          ]
        }
      ]
    },
    {
      "cell_type": "markdown",
      "source": [
        "Function as a Parameter of Another Function"
      ],
      "metadata": {
        "id": "0cUEYziR9jtk"
      }
    },
    {
      "cell_type": "code",
      "source": [
        "#You can pass functions around as parameters\n",
        "def square_number (n):\n",
        "    return n * n\n",
        "def do_something(f, x):\n",
        "    return f(x)\n",
        "print(do_something(square_number, 3)) # 27"
      ],
      "metadata": {
        "colab": {
          "base_uri": "https://localhost:8080/"
        },
        "id": "T9KH9nGp6GI7",
        "outputId": "c893e340-8a37-4740-d2aa-51db20d453e6"
      },
      "execution_count": null,
      "outputs": [
        {
          "output_type": "stream",
          "name": "stdout",
          "text": [
            "9\n"
          ]
        }
      ]
    },
    {
      "cell_type": "markdown",
      "source": [
        "Exercise level -1"
      ],
      "metadata": {
        "id": "iQuZZgBMAqT1"
      }
    },
    {
      "cell_type": "markdown",
      "source": [
        "Q1) Declare a function add_two_numbers. It takes two parameters and it returns a sum."
      ],
      "metadata": {
        "id": "Ffoy56HoAurr"
      }
    },
    {
      "cell_type": "code",
      "source": [
        "def add_two_numbers(num1,num2):\n",
        "  total = num1 + num2\n",
        "  return total\n",
        "\n",
        "print(add_two_numbers(.05,55))"
      ],
      "metadata": {
        "colab": {
          "base_uri": "https://localhost:8080/"
        },
        "id": "i-yJPn-g6GMt",
        "outputId": "a9304778-5d91-4b6c-bca1-1d46ecf9363a"
      },
      "execution_count": null,
      "outputs": [
        {
          "output_type": "stream",
          "name": "stdout",
          "text": [
            "55.05\n"
          ]
        }
      ]
    },
    {
      "cell_type": "markdown",
      "source": [
        "Q2) Area of a circle is calculated as follows: area = π x r x r. Write a function that calculates area_of_circle."
      ],
      "metadata": {
        "id": "zyD9OtmYBiwg"
      }
    },
    {
      "cell_type": "code",
      "source": [
        "def area_of_circle():\n",
        "  pi = 22/7\n",
        "  r = int(input('Enter a number:'))\n",
        "  area = pi*r*r\n",
        "  print(area)\n",
        "\n",
        "area_of_circle()"
      ],
      "metadata": {
        "colab": {
          "base_uri": "https://localhost:8080/"
        },
        "id": "yYrdtpZZ6GdT",
        "outputId": "b5b7e0a6-966e-4eba-e048-4509561ada18"
      },
      "execution_count": null,
      "outputs": [
        {
          "output_type": "stream",
          "name": "stdout",
          "text": [
            "Enter a number:34\n",
            "3633.1428571428573\n"
          ]
        }
      ]
    },
    {
      "cell_type": "markdown",
      "source": [
        "Q3) Write a function called add_all_nums which takes arbitrary number of arguments and sums all the arguments. Check if all the list items are number types. If not do give a reasonable feedback."
      ],
      "metadata": {
        "id": "OegqvB1mDT4J"
      }
    },
    {
      "cell_type": "code",
      "source": [
        "def add_all_nums(*args):\n",
        "  total = 0 # Initialize the sum to 0\n",
        "\n",
        "  # Check if all arguments are numbers and sum them\n",
        "  for num in args:\n",
        "    if not isinstance(num,(int,float)):\n",
        "      return \"Error: All arguments must be numbers.\"\n",
        "    total += num\n",
        "\n",
        "  return total\n",
        "\n",
        "result = add_all_nums(1,2,3,4,5)\n",
        "print(result)\n",
        "\n",
        "result = add_all_nums(1,2,'3',4,5)\n",
        "print(result)"
      ],
      "metadata": {
        "colab": {
          "base_uri": "https://localhost:8080/"
        },
        "id": "vB429MkDBhRt",
        "outputId": "af5bddd7-0b90-4c2b-8cf3-bd1ebb478c1d"
      },
      "execution_count": null,
      "outputs": [
        {
          "output_type": "stream",
          "name": "stdout",
          "text": [
            "15\n",
            "Error: All arguments must be numbers.\n"
          ]
        }
      ]
    },
    {
      "cell_type": "markdown",
      "source": [
        "Q4)Temperature in °C can be converted to °F using this formula: °F = (°C x 9/5) + 32. Write a function which converts °C to °F, convert_celsius_to-fahrenheit."
      ],
      "metadata": {
        "id": "7-VSvik_Es52"
      }
    },
    {
      "cell_type": "code",
      "source": [
        "def convert_celsius_to_fahrenheit(celsius):\n",
        "  #Formula to convert Celsius to Fahrenheit\n",
        "  fahrenheit = (celsius *(9/5)) + 32\n",
        "  return fahrenheit\n",
        "\n",
        "# Example usage:\n",
        "celsius_temperature = 25\n",
        "fahrenheit_tem = convert_celsius_to_fahrenheit(celsius_temperature)\n",
        "\n",
        "print(f\"{celsius_temperature}°C is equal to {fahrenheit_tem}°F\")"
      ],
      "metadata": {
        "colab": {
          "base_uri": "https://localhost:8080/"
        },
        "id": "bzhYCEvWEsAL",
        "outputId": "b2aacc48-63d6-4a8d-a02c-4c9cd68c22a3"
      },
      "execution_count": null,
      "outputs": [
        {
          "output_type": "stream",
          "name": "stdout",
          "text": [
            "25°C is equal to 77.0°F\n"
          ]
        }
      ]
    },
    {
      "cell_type": "markdown",
      "source": [
        "Q5) Write a function called check-season, it takes a month parameter and returns the season: Autumn, Winter, Spring or Summer."
      ],
      "metadata": {
        "id": "r4YRS4x1IiZU"
      }
    },
    {
      "cell_type": "code",
      "source": [
        "def check_season(month):\n",
        "  #define a dictionary mapping months to seasons\n",
        "  month_to_season = {\n",
        "      \"December\":\"Winter\",\n",
        "      \"January\" :\"Winter\",\n",
        "      \"February\":\"Spring\",\n",
        "      \"March\":\"Spring\",\n",
        "      \"April\":\"summer\",\n",
        "      \"May\":\"summer\",\n",
        "      \"June\":\"summer\",\n",
        "      \"july\":\"Rainny\",\n",
        "      \"August\":\"Rainny\",\n",
        "      \"September\":\"Rainny\",\n",
        "      \"October\":\"Autum\",\n",
        "      \"November\": \"Autum\"\n",
        "\n",
        "  }\n",
        "\n",
        "  #Check if the provided month is in the dictionary\n",
        "\n",
        "  if month in month_to_season:\n",
        "    return month_to_season[month]\n",
        "  else:\n",
        "    return \"Invalid month\"\n",
        "\n",
        "\n",
        "#Example usage :\n",
        "input_month = str(input(\"Enter a Month Name:\" ))\n",
        "result = check_season(input_month)\n",
        "print(f\"The season for {input_month} is {result}\")"
      ],
      "metadata": {
        "colab": {
          "base_uri": "https://localhost:8080/"
        },
        "id": "nSwTcn6jEr0K",
        "outputId": "428e3d42-0ae6-44ef-c524-d7215996aae4"
      },
      "execution_count": null,
      "outputs": [
        {
          "output_type": "stream",
          "name": "stdout",
          "text": [
            "Enter a Month Name:April\n",
            "The season for April is summer\n"
          ]
        }
      ]
    },
    {
      "cell_type": "markdown",
      "source": [
        "Q6)Write a function called calculate_slope which return the slope of a linear equation"
      ],
      "metadata": {
        "id": "JlH0KPFZ25w6"
      }
    },
    {
      "cell_type": "code",
      "source": [
        "def calculate_slope(x1,y1,x2,y2):\n",
        "  \"\"\"\n",
        "  Calculate the slope of a linear equation given two points on the line\n",
        "\n",
        "  Parameters:\n",
        "       x1 (float): x-coordinate of the first point.\n",
        "       y1 (float): y- coordinate of the first point.\n",
        "       x2 (float): x-coordinate of the second point.\n",
        "       y2 (float): y-coordinate of the second point.\n",
        "  Returns :\n",
        "     float: The slope of the linear equation.\n",
        "\n",
        "\n",
        "  \"\"\"\n",
        "\n",
        "  if x1==x2:\n",
        "    raise ValueError(\"The two points have the same x-coordinate, resulting in undefined slope.\")\n",
        "\n",
        "  slope = (y2-y1)/(x2-x1)\n",
        "  return slope\n",
        "\n",
        "print(calculate_slope(23,34,56,65))"
      ],
      "metadata": {
        "colab": {
          "base_uri": "https://localhost:8080/"
        },
        "id": "KYKVrv6D24xT",
        "outputId": "f04c9194-5a0a-41f9-c43e-46dd56c4dd4a"
      },
      "execution_count": null,
      "outputs": [
        {
          "output_type": "stream",
          "name": "stdout",
          "text": [
            "0.9393939393939394\n"
          ]
        }
      ]
    },
    {
      "cell_type": "markdown",
      "source": [
        "Q7)Quadratic equation is calculated as follows: ax² + bx + c = 0. Write a function which calculates solution set of a quadratic equation, solve_quadratic_eqn."
      ],
      "metadata": {
        "id": "c9kPh6S_5GkY"
      }
    },
    {
      "cell_type": "code",
      "source": [
        "import math\n",
        "\n",
        "def solve_quadratic_eqn(a,b,c):\n",
        "  \"\"\"\n",
        "  Solve a quadratic equation of the form ax2+ bx + c = 0 and return the solutions.\n",
        "\n",
        "  Parameters:\n",
        "\n",
        "   a (float) : Coefficient of x2.\n",
        "   b (float) : Coefficient of x.\n",
        "   c (float) : Constant term.\n",
        "\n",
        "\n",
        "  Returns:\n",
        "      tuple : A tuple containg the solutions,which may include real and/or complex\n",
        "      numbers\n",
        "   \"\"\"\n",
        "\n",
        "\n",
        "  discriminant= b**2 - 4*a*c\n",
        "\n",
        "  if discriminant > 0:\n",
        "  #Two real and distinct solutions\n",
        "    root1= (-b + math.sqrt(discriminant))/(2*a)\n",
        "    root2= (-b - math.sqrt(discriminant))/(2*a)\n",
        "    return(root1,root2)\n",
        "\n",
        "  elif discriminant == 0:\n",
        "  # One real solution (a repeated root)\n",
        "      root1 = -b / (2*a)\n",
        "      return (root1,)\n",
        "\n",
        "  else:\n",
        "        # Complex solutions\n",
        "        real_part = -b / (2*a)\n",
        "        imaginary_part = math.sqrt(abs(discriminant)) / (2*a)\n",
        "        root1 = complex(real_part, imaginary_part)\n",
        "        root2 = complex(real_part, -imaginary_part)\n",
        "        return (root1, root2)\n",
        "\n",
        "print(solve_quadratic_eqn(23,34,56))\n"
      ],
      "metadata": {
        "colab": {
          "base_uri": "https://localhost:8080/"
        },
        "id": "vIZk_Fne24tn",
        "outputId": "108a5ce6-48fb-4fbe-bbc9-a2c73202ef73"
      },
      "execution_count": null,
      "outputs": [
        {
          "output_type": "stream",
          "name": "stdout",
          "text": [
            "((-0.7391304347826086+1.3742157068938354j), (-0.7391304347826086-1.3742157068938354j))\n"
          ]
        }
      ]
    },
    {
      "cell_type": "markdown",
      "source": [
        "Q8)Declare a function named print_list. It takes a list as a parameter and it prints out each element of the list."
      ],
      "metadata": {
        "id": "BPOSoVgr9QFA"
      }
    },
    {
      "cell_type": "code",
      "source": [
        "def print_list(my_list):\n",
        "\n",
        "  for items in my_list:\n",
        "      print(items)\n",
        "\n",
        "\n",
        "my_list = [\"Soumya\",\"Sankar\",\"Samlik\",\"swayam\",\"Mansasmyukta\"]\n",
        "print_list(my_list)\n"
      ],
      "metadata": {
        "colab": {
          "base_uri": "https://localhost:8080/"
        },
        "id": "U0yf7NRf24qX",
        "outputId": "b911c1f0-0f93-492d-e230-9e5646bc2f35"
      },
      "execution_count": null,
      "outputs": [
        {
          "output_type": "stream",
          "name": "stdout",
          "text": [
            "Soumya\n",
            "Sankar\n",
            "Samlik\n",
            "swayam\n",
            "Mansasmyukta\n"
          ]
        }
      ]
    },
    {
      "cell_type": "markdown",
      "source": [
        "Q9) Declare a function named reverse_list. It takes an array as a parameter and it returns the reverse of the array (use loops)."
      ],
      "metadata": {
        "id": "MCEB0pC_-GiW"
      }
    },
    {
      "cell_type": "code",
      "source": [
        "def reverse_list(arr):\n",
        "\n",
        "  \"\"\"\n",
        "  Reverse an array using loops.\n",
        "\n",
        "  Parameters:\n",
        "     arr(list): The array to be reversed.\n",
        "\n",
        "   Returns:\n",
        "     list: The reversed array.\n",
        "\n",
        "  \"\"\"\n",
        "  reversed_arr =[]\n",
        "  for i in range(len(arr) -1,-1,-1):\n",
        "    reversed_arr.append(arr[i])\n",
        "  return reversed_arr\n",
        "\n",
        "#examples:\n",
        "original_list = [1,2,3,4,5]\n",
        "reversed_list = reverse_list(original_list)\n",
        "print(reverse_list)"
      ],
      "metadata": {
        "id": "kYhfkWiM24eo",
        "colab": {
          "base_uri": "https://localhost:8080/"
        },
        "outputId": "11561dd5-fedd-41c7-ef6f-bb3f6ad3dc47"
      },
      "execution_count": 7,
      "outputs": [
        {
          "output_type": "stream",
          "name": "stdout",
          "text": [
            "<function reverse_list at 0x7f46ab29db40>\n"
          ]
        }
      ]
    },
    {
      "cell_type": "code",
      "source": [
        "def reverse_list(arr):\n",
        "    \"\"\"\n",
        "    Reverse an array using loops.\n",
        "\n",
        "    Parameters:\n",
        "        arr (list): The array to be reversed.\n",
        "\n",
        "    Returns:\n",
        "        list: The reversed array.\n",
        "    \"\"\"\n",
        "    reversed_arr = []\n",
        "    for i in range(len(arr) - 1, -1, -1):\n",
        "        reversed_arr.append(arr[i])\n",
        "    return reversed_arr\n",
        "\n",
        "# Example usage:\n",
        "print(reverse_list([1, 2, 3, 4, 5]))\n",
        "# Output: [5, 4, 3, 2, 1]\n",
        "\n",
        "print(reverse_list([\"A\", \"B\", \"C\"]))\n",
        "# Output: [\"C\", \"B\", \"A\"]\n"
      ],
      "metadata": {
        "id": "TBtn8Hg-Erwf",
        "colab": {
          "base_uri": "https://localhost:8080/"
        },
        "outputId": "75cd0678-3ec5-40c9-d098-4111751dbafc"
      },
      "execution_count": 9,
      "outputs": [
        {
          "output_type": "stream",
          "name": "stdout",
          "text": [
            "[5, 4, 3, 2, 1]\n",
            "['C', 'B', 'A']\n"
          ]
        }
      ]
    },
    {
      "cell_type": "markdown",
      "source": [
        "Q 10) Declare a function named capitalize_list_items. It takes a list as a parameter and it returns a capitalized list of items"
      ],
      "metadata": {
        "id": "YonjzJpojg-4"
      }
    },
    {
      "cell_type": "code",
      "source": [
        "def capitalize_list_items(input_list):\n",
        "  capitalized_list = [item.capitalize() for item in input_list]\n",
        "  return capitalized_list\n",
        "\n",
        "\n",
        "original_list = [\"apple\",\"banana\",\"cherry\"]\n",
        "capitalized_result = capitalize_list_items(original_list)\n",
        "print(capitalized_result)\n",
        "\n",
        "\"\"\"\n",
        "Capitalize each item in a list and return a new list.\n",
        "\n",
        "Parameters:\n",
        "    input_list(list): The list of items to be capitalized.\n",
        "\n",
        "Returns:\n",
        "   list: Anew list with capitalized items.\n",
        "\"\"\""
      ],
      "metadata": {
        "id": "nNb0F58RErs8",
        "colab": {
          "base_uri": "https://localhost:8080/"
        },
        "outputId": "eec061b1-ee31-4d7e-f8ba-f1dd1da1c4cc"
      },
      "execution_count": 11,
      "outputs": [
        {
          "output_type": "stream",
          "name": "stdout",
          "text": [
            "['Apple', 'Banana', 'Cherry']\n"
          ]
        }
      ]
    },
    {
      "cell_type": "markdown",
      "source": [
        "Q 11) Declare a function named add_item. It takes a list and an item parameters. It returns a list with the item added at the end."
      ],
      "metadata": {
        "id": "_U0Pk--cl-bO"
      }
    },
    {
      "cell_type": "markdown",
      "source": [
        "food_staff = ['Potato', 'Tomato', 'Mango', 'Milk'];\n",
        "\n",
        "print(add_item(food_staff, 'Meat'))     # ['Potato', 'Tomato', 'Mango', 'Milk','Meat'];\n",
        "\n",
        "numbers = [2, 3, 7, 9];\n",
        "print(add_item(numbers, 5))      [2, 3, 7, 9, 5]"
      ],
      "metadata": {
        "id": "nVbDPC9emEYu"
      }
    },
    {
      "cell_type": "code",
      "source": [
        "def add_item(input_list, item):\n",
        "  updated_list = input_list.copy()\n",
        "  updated_list.append(item)\n",
        "  return updated_list\n",
        "\n",
        "food_staff = ['Potato','Tomato','Milk']\n",
        "print(add_item(food_staff,'Meat'))\n",
        "\n",
        "numbers = [2,3,7,9]\n",
        "print(add_item(numbers, 5))"
      ],
      "metadata": {
        "id": "PNmgcmK06GfS",
        "colab": {
          "base_uri": "https://localhost:8080/"
        },
        "outputId": "4bf27783-d58c-4c1f-e4d0-7c27facf9660"
      },
      "execution_count": 12,
      "outputs": [
        {
          "output_type": "stream",
          "name": "stdout",
          "text": [
            "['Potato', 'Tomato', 'Milk', 'Meat']\n",
            "[2, 3, 7, 9, 5]\n"
          ]
        }
      ]
    },
    {
      "cell_type": "markdown",
      "source": [
        "Q 12) Declare a function named remove_item. It takes a list and an item parameters. It returns a list with the item removed from it."
      ],
      "metadata": {
        "id": "rPCaLswUoBn0"
      }
    },
    {
      "cell_type": "markdown",
      "source": [
        "food_staff = ['Potato', 'Tomato', 'Mango', 'Milk'];\n",
        "\n",
        "print(remove_item(food_staff, 'Mango'))  # ['Potato', 'Tomato', 'Milk'];\n",
        "\n",
        "numbers = [2, 3, 7, 9];\n",
        "print(remove_item(numbers, 3))  # [2, 7, 9]"
      ],
      "metadata": {
        "id": "Wp-eJW8BoIhU"
      }
    },
    {
      "cell_type": "code",
      "source": [
        "def remove_item(input_list, item):\n",
        "\n",
        "  updated_list = [x for x in input_list if x!= item]\n",
        "  return updated_list\n",
        "\n",
        "food_staff = ['Potato','Tomato','Mango','Milk']\n",
        "print(remove_item(food_staff,'Mango'))\n",
        "\n",
        "numbers = [2,3,7,9]\n",
        "print(remove_item(numbers,3))"
      ],
      "metadata": {
        "colab": {
          "base_uri": "https://localhost:8080/"
        },
        "id": "oPC-pQ-6pHjG",
        "outputId": "42a5e9ee-9f92-4d37-8ae7-644e8917633f"
      },
      "execution_count": 14,
      "outputs": [
        {
          "output_type": "stream",
          "name": "stdout",
          "text": [
            "['Potato', 'Tomato', 'Milk']\n",
            "[2, 7, 9]\n"
          ]
        }
      ]
    },
    {
      "cell_type": "markdown",
      "source": [
        "Q 13) Declare a function named sum_of_numbers. It takes a number parameter and it adds all the numbers in that range."
      ],
      "metadata": {
        "id": "HNs5tQZ-qbRd"
      }
    },
    {
      "cell_type": "code",
      "source": [
        "def sum_of_numbers(n):\n",
        "\n",
        "  total = 0\n",
        "  for i in range(1,n+1):\n",
        "    total += i\n",
        "  return total\n",
        "\n",
        "#EXAMPLE\n",
        "result = sum_of_numbers(5)\n",
        "print(result)"
      ],
      "metadata": {
        "colab": {
          "base_uri": "https://localhost:8080/"
        },
        "id": "JXKlgsH3pHfM",
        "outputId": "1797dce0-732a-4bf7-e9b6-e0e35eabe351"
      },
      "execution_count": 15,
      "outputs": [
        {
          "output_type": "stream",
          "name": "stdout",
          "text": [
            "15\n"
          ]
        }
      ]
    },
    {
      "cell_type": "code",
      "source": [
        "def sum_of_numbers(n):\n",
        "\n",
        "  total = 0\n",
        "  for i in range(1,n+1):\n",
        "    total += i\n",
        "  return total\n",
        "\n",
        "#Example\n",
        "result = sum_of_numbers(15)\n",
        "print(result)"
      ],
      "metadata": {
        "colab": {
          "base_uri": "https://localhost:8080/"
        },
        "id": "UOIwHBwapHbk",
        "outputId": "077130cf-6183-480a-dd05-5e8a328268c4"
      },
      "execution_count": 16,
      "outputs": [
        {
          "output_type": "stream",
          "name": "stdout",
          "text": [
            "120\n"
          ]
        }
      ]
    },
    {
      "cell_type": "code",
      "source": [
        "def sum_of_numbers(n):\n",
        "\n",
        "  total = 0\n",
        "  for i in range(1,n+1):\n",
        "    total += i\n",
        "  return total\n",
        "\n",
        "#Example\n",
        "result = sum_of_numbers(100)\n",
        "print(result)"
      ],
      "metadata": {
        "colab": {
          "base_uri": "https://localhost:8080/"
        },
        "id": "YHFua1IhpHZ4",
        "outputId": "48b24b00-99d4-4c68-c358-bfa3e6f6a9e8"
      },
      "execution_count": 17,
      "outputs": [
        {
          "output_type": "stream",
          "name": "stdout",
          "text": [
            "5050\n"
          ]
        }
      ]
    },
    {
      "cell_type": "markdown",
      "source": [
        "Q 14) Declare a function named sum_of_odds. It takes a number parameter and it adds all the odd numbers in that range."
      ],
      "metadata": {
        "id": "9hre0bZyt25o"
      }
    },
    {
      "cell_type": "code",
      "source": [
        "def sum_of_odds(n):\n",
        "\n",
        "  total = 0\n",
        "  for i in range(1,n+1):\n",
        "    if i%2 != 0:  #check i the number is odd\n",
        "       total += i\n",
        "\n",
        "  return total\n",
        "\n",
        "#Example\n",
        "result = sum_of_odds(7)\n",
        "print(result)\n",
        "\n",
        "\"\"\"\n",
        "Calculate the sum of all odd numbers in the range from 1 to n.\n",
        "\n",
        "Parameters:\n",
        "    n(int): The upper limit of the range.\n",
        "\n",
        "Returns:\n",
        "   int: The sum of odd numbers in the specified range.\n",
        "\n",
        "\"\"\""
      ],
      "metadata": {
        "colab": {
          "base_uri": "https://localhost:8080/",
          "height": 87
        },
        "id": "RvN8M8FPpHUW",
        "outputId": "9c2932a2-a8ba-4d3f-e7b3-4015e0125df1"
      },
      "execution_count": 19,
      "outputs": [
        {
          "output_type": "stream",
          "name": "stdout",
          "text": [
            "16\n"
          ]
        },
        {
          "output_type": "execute_result",
          "data": {
            "text/plain": [
              "'\\nCalculate the sum of all odd numbers in the range from 1 to n.\\n\\nParameters:\\n    n(int): The upper limit of the range.\\n\\nReturns:\\n   int: The sum of odd numbers in the specified range.    \\n\\n'"
            ],
            "application/vnd.google.colaboratory.intrinsic+json": {
              "type": "string"
            }
          },
          "metadata": {},
          "execution_count": 19
        }
      ]
    },
    {
      "cell_type": "code",
      "source": [
        "# Or you can write it like this way.\n",
        "\n",
        "def sum_of_odds(n):\n",
        "   total = sum(x for x in range(1,n+1) if x % 2 != 0)\n",
        "   return total\n",
        "\n",
        "#Example\n",
        "result = sum_of_odds(7)\n",
        "print(result)"
      ],
      "metadata": {
        "colab": {
          "base_uri": "https://localhost:8080/"
        },
        "id": "4N1KqUMKpHR5",
        "outputId": "1660e017-f31f-4787-b2fc-7218a18398d2"
      },
      "execution_count": 20,
      "outputs": [
        {
          "output_type": "stream",
          "name": "stdout",
          "text": [
            "16\n"
          ]
        }
      ]
    },
    {
      "cell_type": "code",
      "source": [
        "# How to calculate sum of odd numbers then ?\n",
        "\n",
        "def sum_of_even(n):\n",
        "\n",
        "    total = sum(x for x in range(1,n+1) if x % 2 == 0)\n",
        "    return total\n",
        "\n",
        "#Examples\n",
        "\n",
        "result = sum_of_even(100)\n",
        "print(result)"
      ],
      "metadata": {
        "colab": {
          "base_uri": "https://localhost:8080/"
        },
        "id": "jXGbNHkgpHMz",
        "outputId": "c80e2a99-ec48-40ab-facb-388ef623d52d"
      },
      "execution_count": 23,
      "outputs": [
        {
          "output_type": "stream",
          "name": "stdout",
          "text": [
            "2550\n"
          ]
        }
      ]
    },
    {
      "cell_type": "markdown",
      "source": [
        "  Q 15) Declare a function named sum_of_even. It takes a number parameter and it adds all the even numbers in that - range."
      ],
      "metadata": {
        "id": "psM7wDr7xUgx"
      }
    },
    {
      "cell_type": "code",
      "source": [
        "def sum_of_even(n):\n",
        "\n",
        "   total = 0\n",
        "   for i in range(2, n+1 ,2):\n",
        "    total += i\n",
        "   return total\n",
        "\n",
        "#Example usage:\n",
        "result = sum_of_even(100000)\n",
        "print(result)"
      ],
      "metadata": {
        "colab": {
          "base_uri": "https://localhost:8080/"
        },
        "id": "c8rQx8SupHJR",
        "outputId": "82e8cfde-3194-4498-dd0d-e2a37f196ae9"
      },
      "execution_count": 25,
      "outputs": [
        {
          "output_type": "stream",
          "name": "stdout",
          "text": [
            "2500050000\n"
          ]
        }
      ]
    },
    {
      "cell_type": "code",
      "source": [
        "# for 10,000 result.\n",
        "\n",
        "def sum_of_even(n):\n",
        "\n",
        "  total = 0\n",
        "  for i in range(2, n+1 ,2):\n",
        "    total += i\n",
        "  return total\n",
        "\n",
        "result = sum_of_even(10000)\n",
        "print(result)"
      ],
      "metadata": {
        "id": "4NKc1NGm6Gha",
        "colab": {
          "base_uri": "https://localhost:8080/"
        },
        "outputId": "3a4393ac-61a4-4a55-f49b-3ca6d601d021"
      },
      "execution_count": 26,
      "outputs": [
        {
          "output_type": "stream",
          "name": "stdout",
          "text": [
            "25005000\n"
          ]
        }
      ]
    },
    {
      "cell_type": "markdown",
      "source": [
        "Level 2:"
      ],
      "metadata": {
        "id": "sgXr4VHzLYm0"
      }
    },
    {
      "cell_type": "markdown",
      "source": [
        " Q 1) Write a function called is_prime, which checks if a number is prime."
      ],
      "metadata": {
        "id": "8XGLkJfxLcuJ"
      }
    },
    {
      "cell_type": "code",
      "source": [
        "def is_prime(number):\n",
        "\n",
        "  if number <= 1:\n",
        "    return False   # 0 and 1 are not prime numbers\n",
        "\n",
        "  if number == 2:\n",
        "    return True    # 2 is a prime number\n",
        "\n",
        "  if number % 2 == 0:\n",
        "    return False #Even numbers greater than 2 are not prime\n",
        "\n",
        "  # Check for divisibility by odd numbers from 3 to the square root of the number\n",
        "  for divisor in range(3,int(number**0.5)+1,2):\n",
        "     if number % divisor == 0:\n",
        "       return False # The number is divisible by a divisor , so it's not prime\n",
        "\n",
        "  return True #The number is prime\n",
        "\n",
        "print(is_prime(17))  # o/p-True = 17\n",
        ""
      ],
      "metadata": {
        "id": "lJ6x0YjsLOCS"
      },
      "execution_count": null,
      "outputs": []
    },
    {
      "cell_type": "markdown",
      "source": [
        " **explanation for the part of the is_prime function that checks for divisibility by odd numbers from 3 to the square root of the given number**"
      ],
      "metadata": {
        "id": "iOfiaDeqOojA"
      }
    },
    {
      "cell_type": "markdown",
      "source": [
        "#range(3, int(number**0.5) + 1, 2):\n",
        "\n",
        "This creates a range of numbers starting from 3 up to the square root of the given number (number**0.5) plus 1, with a step size of 2. The step size of 2 ensures that we only check odd numbers as potential divisors, because even numbers greater than 2 cannot be prime.\n",
        "\n",
        "#for divisor in ...:\n",
        "\n",
        "This loop iterates through the odd numbers from 3 up to the square root of the given number.\n",
        "\n",
        "# if number % divisor == 0::\n",
        "\n",
        "Inside the loop, it checks if the given number is divisible by the current divisor. If the remainder (number % divisor) is zero, it means the number is evenly divisible by the divisor.\n",
        "\n",
        "# return False:\n",
        "\n",
        "If the number is found to be divisible by any of the divisors in the loop, the function immediately returns False because a prime number should have exactly two divisors (1 and itself). If it has more than two divisors, it cannot be prime.\n"
      ],
      "metadata": {
        "id": "v5HEkg92OFt1"
      }
    },
    {
      "cell_type": "markdown",
      "source": [
        "**  Q 2) Write a functions which checks if all items are unique in the. **"
      ],
      "metadata": {
        "id": "nsTJ3gWUOyTI"
      }
    },
    {
      "cell_type": "code",
      "source": [
        "def are_all_items_unique(input_list):\n",
        "\n",
        "   unique_set = set()\n",
        "   for item in input_list:\n",
        "    if item in unique_set:\n",
        "         return False\n",
        "    unique_set.add(item)\n",
        "   return True\n",
        "\n",
        "\n",
        "print(are_all_items_unique([1,2,3,4,5]))\n",
        "print(are_all_items_unique([1,2,2,3,4]))"
      ],
      "metadata": {
        "colab": {
          "base_uri": "https://localhost:8080/"
        },
        "id": "Ef7NVRLLLOF0",
        "outputId": "433fbb7b-1d8a-48c8-d1f0-49c1b92680aa"
      },
      "execution_count": 29,
      "outputs": [
        {
          "output_type": "stream",
          "name": "stdout",
          "text": [
            "True\n",
            "False\n"
          ]
        }
      ]
    },
    {
      "cell_type": "markdown",
      "source": [
        "Q 3) Write a function which checks if all the items of the list are of the same data type."
      ],
      "metadata": {
        "id": "OP0qhvtodPYb"
      }
    },
    {
      "cell_type": "code",
      "source": [
        "# Check if all items in a list are of the same data type.\n",
        "# Parameters-- input_list(list): The list to be checked\n",
        "#Returns: (bool): True if all items are of the same data type, False otherwise"
      ],
      "metadata": {
        "id": "wykM-zRLLONp"
      },
      "execution_count": null,
      "outputs": []
    },
    {
      "cell_type": "code",
      "source": [
        "def are_all_items_of_same_type(input_list):\n",
        "\n",
        "  if not input_list:\n",
        "    return True     # An empty list is considered to have items of the same type\n",
        "\n",
        "  #Get the data type of the first item in the list\n",
        "  first_item_type = type(input_list[0])\n",
        "\n",
        "  # check if all other items have the same data type\n",
        "  for item in input_list[1:]:\n",
        "    if type(item) != first_item_type:\n",
        "      return False\n",
        "  return True\n",
        "\n",
        "print(are_all_items_of_same_type([1,2,3,4,5]))\n",
        "print(are_all_items_of_same_type(['apple','banana','mango']))\n",
        "print(are_all_items_of_same_type([1,'Soumya',3.99]))\n",
        "print(are_all_items_of_same_type([]))"
      ],
      "metadata": {
        "colab": {
          "base_uri": "https://localhost:8080/"
        },
        "id": "jIdYqCnmdLTO",
        "outputId": "b09e4e96-0c6d-4f72-b2b4-e66bc791a494"
      },
      "execution_count": 31,
      "outputs": [
        {
          "output_type": "stream",
          "name": "stdout",
          "text": [
            "True\n",
            "True\n",
            "False\n",
            "True\n"
          ]
        }
      ]
    },
    {
      "cell_type": "markdown",
      "source": [
        "Q 4)Write a function which check if provided variable is a valid python variable"
      ],
      "metadata": {
        "id": "2i1k8Dtdj4MJ"
      }
    },
    {
      "cell_type": "markdown",
      "source": [
        "We can create a function called \"valid_variable_name\" that checks if a provided variable name is a valid Python name.\n",
        "\n",
        "Rules for it:\n",
        "-------------\n",
        "1.Variable names must start with a letter (a-z,A-Z) or an underscore(_).\n",
        "\n",
        "2.The reamaining charachters can be letters, digits(0-9), or underscores.\n",
        "\n",
        "3.Variable names are case-sensitive."
      ],
      "metadata": {
        "id": "4-hrktGCkRpu"
      }
    },
    {
      "cell_type": "code",
      "source": [
        "#Check if a provided string is a valid Python variable name.\n",
        "\n",
        "# Parameters:\n",
        "#     variable_name (str): The variable name to be checked.\n",
        "\n",
        "#Returns:\n",
        "#   bool: True if the variable name is valid, False otherwise.\n"
      ],
      "metadata": {
        "id": "7I_Nt6vwdLWP"
      },
      "execution_count": null,
      "outputs": []
    },
    {
      "cell_type": "code",
      "source": [
        "import re\n",
        "\n",
        "def valid_variable_name(variable_name):\n",
        "  pattern = r'^[a-zA-Z_][a-zA-Z_0-9_]*$'\n",
        "  return re.match(pattern,variable_name) is not None\n",
        "\n",
        "print(valid_variable_name(\"valid_var\"))\n",
        "print(valid_variable_name('123_sam'))\n",
        "print(valid_variable_name(\"in-variable\"))\n"
      ],
      "metadata": {
        "colab": {
          "base_uri": "https://localhost:8080/"
        },
        "id": "LJYRWVoCdLZk",
        "outputId": "b14be30d-f991-4b9b-cccc-aa7fb142d397"
      },
      "execution_count": 35,
      "outputs": [
        {
          "output_type": "stream",
          "name": "stdout",
          "text": [
            "True\n",
            "False\n",
            "False\n"
          ]
        }
      ]
    },
    {
      "cell_type": "code",
      "source": [
        "def valid_variable_name(variable_name):\n",
        "\n",
        "  if not variable_name:\n",
        "    return False  #An empty string is not valid variable name\n",
        "\n",
        "  if not (variable_name[0].isalpha() or variable_name[0] == '_'):\n",
        "    return False  # Variable name must start with a letter or underscore\n",
        "\n",
        "  for char in variable_name[1:]:\n",
        "    if not (char.isalpha() or char.isdigit() or char == '_'):\n",
        "      return False  #Invalid character in the variable name\n",
        "\n",
        "  return True\n",
        "\n",
        "\n",
        "print(valid_variable_name(\"valid_var\"))   #True\n",
        "print(valid_variable_name(\"123_valid\"))   #False\n",
        "print(valid_variable_name(\"in-valid\"))    #False"
      ],
      "metadata": {
        "colab": {
          "base_uri": "https://localhost:8080/"
        },
        "id": "f5i3M89mdLo7",
        "outputId": "4ea11c9f-ef7c-4777-dac5-bb146773bfc8"
      },
      "execution_count": 36,
      "outputs": [
        {
          "output_type": "stream",
          "name": "stdout",
          "text": [
            "True\n",
            "False\n",
            "False\n"
          ]
        }
      ]
    },
    {
      "cell_type": "code",
      "source": [],
      "metadata": {
        "id": "jpzCVcPDLOTK"
      },
      "execution_count": null,
      "outputs": []
    },
    {
      "cell_type": "code",
      "source": [],
      "metadata": {
        "id": "OyeghBplLOWQ"
      },
      "execution_count": null,
      "outputs": []
    }
  ]
}