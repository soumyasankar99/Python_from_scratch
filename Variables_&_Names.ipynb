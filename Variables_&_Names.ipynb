{
  "nbformat": 4,
  "nbformat_minor": 0,
  "metadata": {
    "colab": {
      "provenance": [],
      "authorship_tag": "ABX9TyMTZ7w8z54JYi5hkaY3dyEH",
      "include_colab_link": true
    },
    "kernelspec": {
      "name": "python3",
      "display_name": "Python 3"
    },
    "language_info": {
      "name": "python"
    }
  },
  "cells": [
    {
      "cell_type": "markdown",
      "metadata": {
        "id": "view-in-github",
        "colab_type": "text"
      },
      "source": [
        "<a href=\"https://colab.research.google.com/github/soumyasankar99/Python_from_scratch/blob/main/Variables_%26_Names.ipynb\" target=\"_parent\"><img src=\"https://colab.research.google.com/assets/colab-badge.svg\" alt=\"Open In Colab\"/></a>"
      ]
    },
    {
      "cell_type": "markdown",
      "source": [
        "**Variables and Names**:\n",
        "\n",
        "---\n",
        "\n",
        "Now we learn about variables.\n",
        "In programming . a variable is nothing more than a name for something so you can use the name rather than the something as you code.\n",
        "\n",
        "Programmers use thes variable names to make their code read more like English and because they have lousy memories.\n",
        "\n",
        "If they didn't use good names for things in their softwarw, they'd get lost when they tried to read their code again.\n",
        "\n",
        "If you get stuck with this exercise, remember the trick is ✅\n",
        "\n",
        "▶ Write a comment above each line explaning to yourself what it does in Englih.\n",
        "\n",
        "❤Read your .py file backward.\n",
        "\n",
        "🐦Read your .py file out loud, saying even the characters.\n"
      ],
      "metadata": {
        "id": "HFDmqpq_GtyB"
      }
    },
    {
      "cell_type": "code",
      "execution_count": 1,
      "metadata": {
        "id": "JfH4eZE_F2_L"
      },
      "outputs": [],
      "source": [
        "cars = 100\n",
        "space_in_a_car = 4.0\n",
        "drivers = 30\n",
        "passengers = 90\n",
        "cars_not_driven = cars - drivers\n",
        "cars_driven = drivers\n",
        "carpool_capacity = cars_driven * space_in_a_car\n",
        "average_passengers_per_car = passengers / cars_driven"
      ]
    },
    {
      "cell_type": "code",
      "source": [
        "print(\"There are \",cars,\"cars available.\")\n",
        "print(\"There are only\", drivers, \"drivers available.\")\n",
        "print(\"There will be \",cars_not_driven,\"empty cars today.\")\n",
        "print(\"We can Transport \",carpool_capacity,\"people today.\")\n",
        "print(\"We have\",passengers,\"to carpool today.\")\n",
        "print(\"We need to put about\",average_passengers_per_car,\"in each car.\")\n",
        "\n"
      ],
      "metadata": {
        "colab": {
          "base_uri": "https://localhost:8080/"
        },
        "id": "dIM2iyfiJ1JT",
        "outputId": "2e5e8608-85ed-4bf0-b8ab-c91183867c89"
      },
      "execution_count": 2,
      "outputs": [
        {
          "output_type": "stream",
          "name": "stdout",
          "text": [
            "There are  100 cars available.\n",
            "There are only 30 drivers available.\n",
            "There will be  70 empty cars today.\n",
            "We can Transport  120.0 people today.\n",
            "We have 90 to carpool today.\n",
            "We need to put about 3.0 in each car.\n"
          ]
        }
      ]
    },
    {
      "cell_type": "markdown",
      "source": [
        "NOTE:\n",
        "\n",
        "The _ in space_in_a_car is called an underscore character. Find out how to\n",
        "type it if you do not already know. We use this character a lot to put an imaginary\n",
        "space between words in variable names"
      ],
      "metadata": {
        "id": "ERFs_vJ6LliP"
      }
    },
    {
      "cell_type": "markdown",
      "source": [
        "**More Variables and Printing**\n",
        "\n",
        "---\n",
        "\n",
        "\n",
        "\n",
        "⏰  Now we’ll do even more typing of variables and printing them out. This time we’ll use something\n",
        "called a “format string.” Every time you put \" (double- quotes) around a piece of text,\n",
        "you have been making a string.\n",
        "\n",
        "⏰ A string is how you make something that your program might\n",
        "give to a human. You print them, save them to fi les, send them to web servers, all sorts of things.\n",
        "\n",
        "\n",
        "⏰ Strings are really handy, so in this exercise you will learn how to make strings that have variables\n",
        "embedded in them. You embed variables inside a string by using specialized format sequences\n",
        "and then putting the variables at the end with a special syntax that tells Python, “Hey, this is a\n",
        "format string, put these variables in there.”"
      ],
      "metadata": {
        "id": "14ICC9OrMi8J"
      }
    },
    {
      "cell_type": "code",
      "source": [
        "my_name = \"soumya sankar\"\n",
        "my_age = 24  # i don't lie\n",
        "my_height = 76  #inches\n",
        "my_weight = 180 #lbs\n",
        "my_eyes = \"Brown\"\n",
        "my_teeth = \"white\"\n",
        "my_hair = \"Black\"\n",
        "\n",
        "print(\"Let's talk about %s.\" % my_name)\n",
        "print(\"He's %d inches tall .\" %my_height)\n",
        "print(\"He's %d pounds heavy.\" % my_weight)\n",
        "print(\"Actually that's not too heavy.\")\n",
        "print(\"He's got %s eyes and %s hair.\" % (my_eyes, my_hair))\n",
        "print(\"His teeth are usually %s depending on the coffee.\" % my_teeth)\n",
        "\n",
        "# this line is tricky, try to get it exactly right\n",
        "print(\"If I add %d, %d, and %d I get %d.\" % (\n",
        " my_age, my_height, my_weight, my_age + my_height + my_weight))\n",
        "\n"
      ],
      "metadata": {
        "colab": {
          "base_uri": "https://localhost:8080/"
        },
        "id": "PiMYNJ2FJ4EQ",
        "outputId": "a32a7776-9424-49e0-e33b-e0e8ae189ae9"
      },
      "execution_count": 3,
      "outputs": [
        {
          "output_type": "stream",
          "name": "stdout",
          "text": [
            "Let's talk about soumya sankar.\n",
            "He's 76 inches tall .\n",
            "He's 180 pounds heavy.\n",
            "Actually that's not too heavy.\n",
            "He's got Brown eyes and Black hair.\n",
            "His teeth are usually white depending on the coffee.\n",
            "If I add 24, 76, and 180 I get 280.\n"
          ]
        }
      ]
    },
    {
      "cell_type": "code",
      "source": [],
      "metadata": {
        "id": "6Y2Sa7DlJ4A9"
      },
      "execution_count": null,
      "outputs": []
    },
    {
      "cell_type": "markdown",
      "source": [
        "Common Student Questions ❎\n",
        "\n",
        "---\n",
        "Q) What does %s, %r, and %d do again?\n",
        "You’ll learn more about this as you continue, but they are “formatters.” They tell Python to take\n",
        "the variable on the right and put it in to replace the %s with its value.\n",
        "\n",
        "Q) I don’t get it, what is a “formatter”? Huh?\n",
        "The problem with teaching you programming is that to understand many of my descriptions, you\n",
        "need to know how to do programming already. The way I solve this is I make you do something,\n",
        "and then I explain it later. When you run into these kinds of questions, write them down and see\n",
        "if I explain it later.\n",
        "\n",
        "\n",
        "Q) How can I round a fl oating point number?\n",
        "You can use the round() function like this: round(1.7333).\n",
        "\n",
        "Q) I get this error TypeError: 'str' object is not callable.\n",
        "You probably forgot the % between the string and the list of variables.\n",
        "\n",
        "\n",
        "⚡write more\n",
        "\n",
        "⛹Practice more"
      ],
      "metadata": {
        "id": "AMF4DpclRZDI"
      }
    },
    {
      "cell_type": "code",
      "source": [],
      "metadata": {
        "id": "AN4qA4XsJ398"
      },
      "execution_count": null,
      "outputs": []
    }
  ]
}